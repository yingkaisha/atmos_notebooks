{
 "cells": [
  {
   "cell_type": "markdown",
   "id": "e1df0368-e217-47af-9d8c-4f616b689182",
   "metadata": {},
   "source": [
    "# Pytorch Unet image segmentation"
   ]
  },
  {
   "cell_type": "code",
   "execution_count": 1,
   "id": "e54e6c95-0956-46a2-94d8-b09fbd128d82",
   "metadata": {},
   "outputs": [],
   "source": [
    "import torch\n",
    "import torch.nn as nn\n",
    "import torch.nn.functional as F\n",
    "from torch.utils.data import Dataset, DataLoader, IterableDataset\n",
    "import torchvision\n",
    "import torchvision.transforms as transforms"
   ]
  },
  {
   "cell_type": "code",
   "execution_count": 2,
   "id": "04b7eabc-1ae3-49c1-9562-f03faf39ff81",
   "metadata": {},
   "outputs": [],
   "source": [
    "import numpy as np\n",
    "from glob import glob\n",
    "from PIL import Image"
   ]
  },
  {
   "cell_type": "code",
   "execution_count": 3,
   "id": "742f5ad1-3a04-4594-9430-4495c177a0e2",
   "metadata": {},
   "outputs": [],
   "source": [
    "import matplotlib.pyplot as plt\n",
    "%matplotlib inline"
   ]
  },
  {
   "cell_type": "markdown",
   "id": "0fa35436-3d39-4bc0-bdf2-65649a0957da",
   "metadata": {},
   "source": [
    "## Import data"
   ]
  },
  {
   "cell_type": "code",
   "execution_count": 4,
   "id": "90fa262a-fa75-41fa-b805-b4fac80ce475",
   "metadata": {},
   "outputs": [],
   "source": [
    "# the indicator of a fresh run\n",
    "first_time_running = False\n",
    "\n",
    "# user-specified working directory\n",
    "filepath = '/glade/campaign/cisl/aiml/ksha/Pytorch_example_data/oxford_iiit/'"
   ]
  },
  {
   "cell_type": "code",
   "execution_count": 5,
   "id": "2fdff38e-ab8d-4ed0-96b3-348f27d74f4e",
   "metadata": {},
   "outputs": [],
   "source": [
    "if first_time_running:\n",
    "    # downloading and executing data files\n",
    "    import tarfile\n",
    "    import urllib.request\n",
    "    \n",
    "    filename_image = filepath+'images.tar.gz'\n",
    "    filename_target = filepath+'annotations.tar.gz'\n",
    "    \n",
    "    urllib.request.urlretrieve('http://www.robots.ox.ac.uk/~vgg/data/pets/data/images.tar.gz', filename_image);\n",
    "    urllib.request.urlretrieve('https://www.robots.ox.ac.uk/~vgg/data/pets/data/annotations.tar.gz', filename_target);\n",
    "    \n",
    "    with tarfile.open(filename_image, \"r:gz\") as tar_io:\n",
    "        tar_io.extractall(path=filepath)\n",
    "    with tarfile.open(filename_target, \"r:gz\") as tar_io:\n",
    "        tar_io.extractall(path=filepath)"
   ]
  },
  {
   "cell_type": "markdown",
   "id": "a1f25e57-1944-4f51-9542-19438d35b5ff",
   "metadata": {},
   "source": [
    "## Build model"
   ]
  },
  {
   "cell_type": "code",
   "execution_count": 6,
   "id": "e329746b-d158-468e-b2a7-a47360766e4f",
   "metadata": {},
   "outputs": [],
   "source": [
    "class DoubleConv(nn.Module):\n",
    "    \"\"\"(convolution => [BN] => ReLU) * 2\"\"\"\n",
    "\n",
    "    def __init__(self, in_channels, out_channels, mid_channels=None):\n",
    "        super().__init__()\n",
    "        if not mid_channels:\n",
    "            mid_channels = out_channels\n",
    "        self.double_conv = nn.Sequential(\n",
    "            nn.Conv2d(in_channels, mid_channels, kernel_size=3, padding=1, bias=False),\n",
    "            nn.BatchNorm2d(mid_channels),\n",
    "            nn.ReLU(inplace=True),\n",
    "            nn.Conv2d(mid_channels, out_channels, kernel_size=3, padding=1, bias=False),\n",
    "            nn.BatchNorm2d(out_channels),\n",
    "            nn.ReLU(inplace=True)\n",
    "        )\n",
    "\n",
    "    def forward(self, x):\n",
    "        return self.double_conv(x)\n",
    "\n",
    "\n",
    "class Down(nn.Module):\n",
    "    \"\"\"Downscaling with maxpool then double conv\"\"\"\n",
    "\n",
    "    def __init__(self, in_channels, out_channels):\n",
    "        super().__init__()\n",
    "        self.maxpool_conv = nn.Sequential(\n",
    "            nn.MaxPool2d(2),\n",
    "            DoubleConv(in_channels, out_channels)\n",
    "        )\n",
    "\n",
    "    def forward(self, x):\n",
    "        return self.maxpool_conv(x)\n",
    "\n",
    "\n",
    "class Up(nn.Module):\n",
    "    \"\"\"Upscaling then double conv\"\"\"\n",
    "\n",
    "    def __init__(self, in_channels1, in_channels2, out_channels):\n",
    "        super().__init__()\n",
    "\n",
    "        # if bilinear, use the normal convolutions to reduce the number of channels\n",
    "        self.up = nn.Upsample(scale_factor=2, mode='bilinear', align_corners=True)\n",
    "        self.conv1 = DoubleConv(in_channels1, out_channels)\n",
    "        self.conv2 = DoubleConv(out_channels+in_channels2, out_channels)\n",
    "        \n",
    "    def forward(self, x1, x2):\n",
    "        x1 = self.up(x1)\n",
    "        x1 = self.conv1(x1)\n",
    "        x = torch.cat([x2, x1], dim=1)\n",
    "        x = self.conv2(x)\n",
    "        return x\n",
    "\n",
    "class OutConv(nn.Module):\n",
    "    def __init__(self, in_channels, out_channels):\n",
    "        super(OutConv, self).__init__()\n",
    "        self.conv = nn.Conv2d(in_channels, out_channels, kernel_size=1)\n",
    "\n",
    "    def forward(self, x):\n",
    "        return self.conv(x)\n",
    "\n",
    "class UNet(nn.Module):\n",
    "    def __init__(self, n_channels, n_classes):\n",
    "        super(UNet, self).__init__()\n",
    "        \n",
    "        self.n_channels = n_channels\n",
    "        self.n_classes = n_classes\n",
    "        \n",
    "        self.inc = (DoubleConv(n_channels, 64))\n",
    "        \n",
    "        self.down1 = (Down(64, 128))\n",
    "        self.down2 = (Down(128, 256))\n",
    "        self.down3 = (Down(256, 512))\n",
    "        self.down4 = (Down(512, 1024))\n",
    "        \n",
    "        self.up1 = (Up(1024, 512, 512))\n",
    "        self.up2 = (Up(512, 256, 256))\n",
    "        self.up3 = (Up(256, 128, 128))\n",
    "        self.up4 = (Up(128, 64, 64))\n",
    "        \n",
    "        self.outc = (OutConv(64, n_classes))\n",
    "        #self.softmax = nn.Softmax(dim=1)\n",
    "        \n",
    "    def forward(self, x):\n",
    "        x1 = self.inc(x)\n",
    "        x2 = self.down1(x1)\n",
    "        x3 = self.down2(x2)\n",
    "        x4 = self.down3(x3)\n",
    "        x5 = self.down4(x4)\n",
    "        x = self.up1(x5, x4)\n",
    "        x = self.up2(x, x3)\n",
    "        x = self.up3(x, x2)\n",
    "        x = self.up4(x, x1)\n",
    "        x = self.outc(x)\n",
    "        #x = self.softmax(x)\n",
    "        return x"
   ]
  },
  {
   "cell_type": "code",
   "execution_count": 7,
   "id": "ae7a6d49-3b3a-4e22-93c5-e34f883880da",
   "metadata": {},
   "outputs": [],
   "source": [
    "# build model\n",
    "model = UNet(n_channels=3, n_classes=3).to(\"cuda\")"
   ]
  },
  {
   "cell_type": "markdown",
   "id": "282ae53b-6c9d-44da-9b76-8fa40cb12fcc",
   "metadata": {},
   "source": [
    "### Model config"
   ]
  },
  {
   "cell_type": "code",
   "execution_count": 8,
   "id": "47f1e54c-3d8d-49d8-aa85-ee51db2952f6",
   "metadata": {},
   "outputs": [],
   "source": [
    "# loss function\n",
    "loss_func = nn.CrossEntropyLoss()\n",
    "# optimizers\n",
    "optimizer = torch.optim.Adam(model.parameters(), lr=1e-4)"
   ]
  },
  {
   "cell_type": "markdown",
   "id": "5021be3c-7e18-44c6-9771-39f6f9fea0be",
   "metadata": {},
   "source": [
    "### Test model with an input tensor"
   ]
  },
  {
   "cell_type": "code",
   "execution_count": 9,
   "id": "f0b783a3-ab9f-4816-8a75-608b10bb81b9",
   "metadata": {},
   "outputs": [
    {
     "name": "stdout",
     "output_type": "stream",
     "text": [
      "torch.Size([2, 3, 256, 256])\n"
     ]
    }
   ],
   "source": [
    "# test model graph with a single tensor\n",
    "input_tensor = torch.randn(2, 3, 256, 256).to(\"cuda\")\n",
    "y_pred = model(input_tensor)\n",
    "print(y_pred.shape)"
   ]
  },
  {
   "cell_type": "markdown",
   "id": "743497c1-e2a2-4fe7-a524-629e6ba14a03",
   "metadata": {},
   "source": [
    "### Visualize model\n",
    "\n",
    "```bash\n",
    "pip install torchviz\n",
    "pip install torchview\n",
    "```"
   ]
  },
  {
   "cell_type": "code",
   "execution_count": 10,
   "id": "da422666-611a-4092-98b1-ad42c9c13e64",
   "metadata": {},
   "outputs": [],
   "source": [
    "# Draw model (option 1)\n",
    "\n",
    "# from torchviz import make_dot\n",
    "# model = UNet(n_channels=3, n_classes=3).to(\"cuda\")\n",
    "# input_tensor = torch.randn(2, 3, 256, 256).to(\"cuda\")\n",
    "# y_pred = model(input_tensor)\n",
    "# make_dot(y_pred.mean(), params=dict(list(model.named_parameters()))).render(\"unet_graph\", format=\"png\")"
   ]
  },
  {
   "cell_type": "code",
   "execution_count": 11,
   "id": "8f1e6a7c-54e2-4962-a2b3-add74c9b4bcd",
   "metadata": {},
   "outputs": [],
   "source": [
    "# Draw model (option 2)\n",
    "\n",
    "# from torchview import draw_graph\n",
    "# model = UNet(n_channels=3, n_classes=3).to(\"cuda\")\n",
    "# input_tensor = torch.randn(2, 3, 256, 256).to(\"cuda\")\n",
    "# model_graph = draw_graph(model, input_data=input_tensor, expand_nested=True, save_graph=True, filename='unet.png')\n",
    "# model_graph.visual_graph"
   ]
  },
  {
   "cell_type": "markdown",
   "id": "f07790b2-ac1b-47ec-bd53-f15ab3e951fa",
   "metadata": {},
   "source": [
    "## Data pre-processing"
   ]
  },
  {
   "cell_type": "code",
   "execution_count": 12,
   "id": "a1364c65-9bce-4ac7-b626-517e5bff548d",
   "metadata": {},
   "outputs": [],
   "source": [
    "def input_data_process(input_array):\n",
    "    '''converting pixel vales to [0, 1]'''\n",
    "    return input_array/255.\n",
    "\n",
    "def shuffle_ind(L):\n",
    "    ind = np.arange(L)\n",
    "    np.random.shuffle(ind)\n",
    "    return ind\n",
    "\n",
    "def image_to_array(filenames, size, channel):\n",
    "    # number of files\n",
    "    L = len(filenames)\n",
    "    \n",
    "    # allocation\n",
    "    out = np.empty((L, size, size, channel))\n",
    "    \n",
    "    # loop over filenames\n",
    "    if channel == 1:\n",
    "        for i, name in enumerate(filenames):\n",
    "            with Image.open(name) as pixio:\n",
    "                pix = pixio.resize((size, size), Image.NEAREST)\n",
    "                out[i, ..., 0] = np.array(pix)\n",
    "    else:\n",
    "        for i, name in enumerate(filenames):\n",
    "            with Image.open(name) as pixio:\n",
    "                pix = pixio.resize((size, size), Image.NEAREST)\n",
    "                out[i, ...] = np.array(pix)[..., :channel]\n",
    "    return out[:, ::-1, ...]\n",
    "\n",
    "def to_categorical(y, num_classes):\n",
    "    \"\"\" 1-hot encodes a tensor \"\"\"\n",
    "    return np.eye(num_classes, dtype='uint8')[y]"
   ]
  },
  {
   "cell_type": "code",
   "execution_count": 13,
   "id": "73eaeeeb-1245-442e-ab10-603b99d60342",
   "metadata": {},
   "outputs": [
    {
     "name": "stdout",
     "output_type": "stream",
     "text": [
      "Training:validation:testing = 7094:147:149\n"
     ]
    }
   ],
   "source": [
    "sample_names = np.array(sorted(glob(filepath+'images/*.jpg')))\n",
    "label_names = np.array(sorted(glob(filepath+'annotations/trimaps/*.png')))\n",
    "\n",
    "L = len(sample_names)\n",
    "ind_all = shuffle_ind(L)\n",
    "\n",
    "L_train = int(0.96*L)\n",
    "L_valid = int(0.02*L)\n",
    "L_test = L - L_train - L_valid\n",
    "ind_train = ind_all[:L_train]; ind_valid = ind_all[L_train:L_train+L_valid]; ind_test = ind_all[L_train+L_valid:]\n",
    "\n",
    "print(\"Training:validation:testing = {}:{}:{}\".format(L_train, L_valid, L_test))"
   ]
  },
  {
   "cell_type": "markdown",
   "id": "ddbb5466-0af1-4533-9206-7eb886d546fd",
   "metadata": {},
   "source": [
    "## Model training"
   ]
  },
  {
   "cell_type": "code",
   "execution_count": 17,
   "id": "8f4d3350-43f1-40c2-b1af-a01c77317a8d",
   "metadata": {},
   "outputs": [],
   "source": [
    "N_sample = 64 # number of samples per batch"
   ]
  },
  {
   "cell_type": "markdown",
   "id": "5980b7d6-f7a1-4f1d-9830-0dc5c30207d4",
   "metadata": {},
   "source": [
    "**Create dataloaders**"
   ]
  },
  {
   "cell_type": "code",
   "execution_count": 14,
   "id": "8c569175-8061-430b-a2b2-194c92a583fd",
   "metadata": {},
   "outputs": [],
   "source": [
    "class base_loader(Dataset):\n",
    "\n",
    "    def __init__(self, filename_input, filename_target, size, channel_input, channel_target):\n",
    "        self.filename_input = filename_input\n",
    "        self.filename_target = filename_target\n",
    "        self.size = size\n",
    "        self.channel_input = channel_input\n",
    "        self.channel_target = channel_target\n",
    "\n",
    "    def __len__(self):\n",
    "        return len(self.filename_input)\n",
    "\n",
    "    def __getitem__(self, index):\n",
    "\n",
    "        # get single file names\n",
    "        filename_input_single = [self.filename_input[index],]\n",
    "        filename_target_single = [self.filename_target[index],]\n",
    "\n",
    "        # get size info\n",
    "        size = self.size\n",
    "        channel_input = self.channel_input\n",
    "        channel_target = self.channel_target\n",
    "\n",
    "        # input preprocessing\n",
    "        train_input = image_to_array(filename_input_single, size, channel_input)\n",
    "        train_input = input_data_process(train_input)\n",
    "        train_input = np.transpose(train_input, [0, 3, 1, 2])[0, ...]\n",
    "        train_input = torch.from_numpy(train_input).float()\n",
    "\n",
    "        # target preprocessing\n",
    "        train_target = image_to_array(filename_target_single, size, channel_target)\n",
    "        train_target = train_target[..., 0].astype(int)\n",
    "        train_target = train_target - 1\n",
    "        train_target = to_categorical(train_target, num_classes=3)\n",
    "        train_target = np.transpose(train_target, [0, 3, 1, 2])[0, ...]\n",
    "        train_target = torch.from_numpy(train_target.copy()).float()\n",
    "        \n",
    "        return train_input, train_target"
   ]
  },
  {
   "cell_type": "code",
   "execution_count": 18,
   "id": "1268e649-8efb-4293-ba2a-2b3ecf04d7f4",
   "metadata": {},
   "outputs": [],
   "source": [
    "train_data = base_loader(sample_names[ind_train], label_names[ind_train], \n",
    "                         size=128, channel_input=3, channel_target=1)\n",
    "\n",
    "valid_data = base_loader(sample_names[ind_valid], label_names[ind_valid], \n",
    "                         size=128, channel_input=3, channel_target=1)\n",
    "\n",
    "train_loader = DataLoader(train_data, batch_size=N_sample, shuffle=True)\n",
    "valid_loader = DataLoader(valid_data, batch_size=N_sample)\n",
    "\n",
    "# Test dataloader\n",
    "train_input, train_target = next(iter(train_loader))"
   ]
  },
  {
   "cell_type": "code",
   "execution_count": 19,
   "id": "d6a3062a-d57e-4432-9be2-4c666dad461d",
   "metadata": {},
   "outputs": [],
   "source": [
    "def valid(model, valid_loader, N_poins, valid_func, device=torch.device(\"cuda\")):\n",
    "    model.eval()\n",
    "    valid_loss = 0\n",
    "    correct = 0\n",
    "    with torch.no_grad():\n",
    "        for valid_input, valid_target in valid_loader:\n",
    "\n",
    "            # project data to device\n",
    "            valid_input = valid_input.to(device)\n",
    "            valid_target = valid_target.to(device)\n",
    "\n",
    "            # batch inference\n",
    "            y_pred = model(valid_input)\n",
    "\n",
    "            # batch loss\n",
    "            valid_loss += valid_func(y_pred, valid_target, reduction='sum').item()  # sum up batch loss\n",
    "\n",
    "    valid_loss = valid_loss / len(valid_loader) / N_poins\n",
    "    return valid_loss\n",
    "\n",
    "def train(model, train_loader, loss_func, optimizer, device=torch.device(\"cuda\")):\n",
    "    model.train()\n",
    "    \n",
    "    for batch_idx, (train_input, train_target) in enumerate(train_loader):\n",
    "        # project data to device \n",
    "        train_input = train_input.to(device)\n",
    "        train_target = train_target.to(device)\n",
    "        \n",
    "        optimizer.zero_grad()\n",
    "        y_pred = model(train_input)\n",
    "        loss = loss_func(y_pred, train_target)\n",
    "        loss.backward()\n",
    "        optimizer.step()\n",
    "\n",
    "    return True"
   ]
  },
  {
   "cell_type": "markdown",
   "id": "2eb58e44-e1fb-4c1b-b08f-0bc16805c5a2",
   "metadata": {},
   "source": [
    "**Model config**"
   ]
  },
  {
   "cell_type": "code",
   "execution_count": 20,
   "id": "e17f9e65-6278-4840-a5e4-9bcec9d6357c",
   "metadata": {},
   "outputs": [],
   "source": [
    "N_epoch = 50 # number of epoches\n",
    "min_del = 0.0\n",
    "max_tol = 3 # early stopping with 2-epoch patience\n",
    "tol = 0\n",
    "\n",
    "save_dir = '/glade/work/ksha/torch_models/oxford_unet.pth'\n",
    "\n",
    "model = UNet(n_channels=3, n_classes=3).to(\"cuda\")\n",
    "loss_func = nn.CrossEntropyLoss()\n",
    "optimizer = torch.optim.Adam(model.parameters(), lr=1e-3)"
   ]
  },
  {
   "cell_type": "markdown",
   "id": "9a9e2a56-a2b0-4fd9-aee2-b5392057e4c0",
   "metadata": {},
   "source": [
    "**Training loop**"
   ]
  },
  {
   "cell_type": "code",
   "execution_count": 21,
   "id": "8f8944a1-3594-4cd2-bdfd-907bbd68a6e5",
   "metadata": {},
   "outputs": [
    {
     "name": "stdout",
     "output_type": "stream",
     "text": [
      "Initial loss: 17.58589914109972\n",
      "Validation loss: 9.102860980563694\n",
      "Validation loss improved from 17.58589914109972 to 9.102860980563694\n",
      "Save to /glade/work/ksha/torch_models/oxford_unet.pth\n",
      "Validation loss: 6.782424185011123\n",
      "Validation loss improved from 9.102860980563694 to 6.782424185011123\n",
      "Save to /glade/work/ksha/torch_models/oxford_unet.pth\n",
      "Validation loss: 6.42426077524821\n",
      "Validation loss improved from 6.782424185011123 to 6.42426077524821\n",
      "Save to /glade/work/ksha/torch_models/oxford_unet.pth\n",
      "Validation loss: 6.570414437188043\n",
      "Validation loss: 5.115102979871962\n",
      "Validation loss improved from 6.42426077524821 to 5.115102979871962\n",
      "Save to /glade/work/ksha/torch_models/oxford_unet.pth\n",
      "Validation loss: 4.869655238257514\n",
      "Validation loss improved from 5.115102979871962 to 4.869655238257514\n",
      "Save to /glade/work/ksha/torch_models/oxford_unet.pth\n",
      "Validation loss: 4.933611128065321\n",
      "Validation loss: 4.572809219360352\n",
      "Validation loss improved from 4.869655238257514 to 4.572809219360352\n",
      "Save to /glade/work/ksha/torch_models/oxford_unet.pth\n",
      "Validation loss: 5.093145423465304\n",
      "Validation loss: 4.957539823320177\n",
      "Validation loss: 5.354643715752496\n",
      "Validation loss: 4.336307949490018\n",
      "Validation loss improved from 4.572809219360352 to 4.336307949490018\n",
      "Save to /glade/work/ksha/torch_models/oxford_unet.pth\n",
      "Validation loss: 4.155018329620361\n",
      "Validation loss improved from 4.336307949490018 to 4.155018329620361\n",
      "Save to /glade/work/ksha/torch_models/oxford_unet.pth\n",
      "Validation loss: 4.115599738226996\n",
      "Validation loss improved from 4.155018329620361 to 4.115599738226996\n",
      "Save to /glade/work/ksha/torch_models/oxford_unet.pth\n",
      "Validation loss: 4.163607491387261\n",
      "Validation loss: 4.257962226867676\n",
      "Validation loss: 4.758509423997667\n",
      "Validation loss: 4.80194992489285\n",
      "Validation loss: 3.7366681628757052\n",
      "Validation loss improved from 4.115599738226996 to 3.7366681628757052\n",
      "Save to /glade/work/ksha/torch_models/oxford_unet.pth\n",
      "Validation loss: 4.051938109927707\n",
      "Validation loss: 3.970164510938856\n",
      "Validation loss: 4.146969106462267\n",
      "Validation loss: 3.7354247305128307\n",
      "Validation loss improved from 3.7366681628757052 to 3.7354247305128307\n",
      "Save to /glade/work/ksha/torch_models/oxford_unet.pth\n",
      "Validation loss: 3.864887555440267\n",
      "Validation loss: 4.164473003811307\n",
      "Validation loss: 4.518447028266059\n",
      "Validation loss: 4.802384376525879\n",
      "Validation loss: 4.669534577263726\n",
      "Validation loss: 3.709971480899387\n",
      "Validation loss improved from 3.7354247305128307 to 3.709971480899387\n",
      "Save to /glade/work/ksha/torch_models/oxford_unet.pth\n",
      "Validation loss: 4.030711915757921\n",
      "Validation loss: 3.687374644809299\n",
      "Validation loss improved from 3.709971480899387 to 3.687374644809299\n",
      "Save to /glade/work/ksha/torch_models/oxford_unet.pth\n",
      "Validation loss: 4.225273556179471\n",
      "Validation loss: 4.031265523698595\n",
      "Validation loss: 4.1261904504564075\n",
      "Validation loss: 4.798515849643283\n",
      "Validation loss: 4.303462664286296\n",
      "Validation loss: 4.093075699276395\n",
      "Validation loss: 4.348313649495442\n",
      "Validation loss: 5.036236974928114\n",
      "Validation loss: 4.280795627170138\n",
      "Validation loss: 4.366397115919325\n",
      "Validation loss: 6.777258978949653\n",
      "Validation loss: 4.055697600046794\n",
      "Validation loss: 4.798983573913574\n",
      "Validation loss: 4.031959798600939\n",
      "Validation loss: 4.574404822455512\n",
      "Validation loss: 4.581946161058214\n",
      "Validation loss: 4.240853044721815\n",
      "Validation loss: 4.657187514834933\n",
      "Validation loss: 4.867871602376302\n"
     ]
    }
   ],
   "source": [
    "# # load from pre-train\n",
    "# model = UNet(n_channels=3, n_classes=3).to(\"cuda\")\n",
    "# model.load_state_dict(torch.load(save_dir))\n",
    "\n",
    "# training loop\n",
    "N_points = 128*128*3\n",
    "record = valid(model, valid_loader, N_points, F.cross_entropy)\n",
    "print('Initial loss: {}'.format(record))\n",
    "\n",
    "for epoch in range(N_epoch):\n",
    "    train(model, train_loader, loss_func, optimizer)\n",
    "\n",
    "    # validation on-epoch-end\n",
    "    record_temp = valid(model, valid_loader, N_points, F.cross_entropy)\n",
    "    print('Validation loss: {}'.format(record_temp))\n",
    "    \n",
    "    if record - record_temp > min_del:\n",
    "        print('Validation loss improved from {} to {}'.format(record, record_temp))\n",
    "        record = record_temp\n",
    "        print(\"Save to {}\".format(save_dir))\n",
    "        torch.save(model.state_dict(), save_dir)\n"
   ]
  },
  {
   "cell_type": "markdown",
   "id": "52ddce92-5e14-4fd2-aa6e-222e7497eb4b",
   "metadata": {},
   "source": [
    "**Load model and test**"
   ]
  },
  {
   "cell_type": "code",
   "execution_count": 22,
   "id": "7dd41492-82a9-4609-8000-cfe30c1258ae",
   "metadata": {},
   "outputs": [],
   "source": [
    "def softmax(x, axis=None):\n",
    "    x = x - x.max(axis=axis, keepdims=True)\n",
    "    y = np.exp(x)\n",
    "    return y / y.sum(axis=axis, keepdims=True)"
   ]
  },
  {
   "cell_type": "code",
   "execution_count": 23,
   "id": "15d00fde-69da-4cfa-8b28-3828a8eb72a3",
   "metadata": {},
   "outputs": [
    {
     "data": {
      "text/plain": [
       "<All keys matched successfully>"
      ]
     },
     "execution_count": 23,
     "metadata": {},
     "output_type": "execute_result"
    }
   ],
   "source": [
    "model = UNet(n_channels=3, n_classes=3).to(\"cuda\")\n",
    "model.load_state_dict(torch.load(save_dir))"
   ]
  },
  {
   "cell_type": "code",
   "execution_count": 24,
   "id": "64496098-ef4a-4648-b6c7-c97ed1d80189",
   "metadata": {},
   "outputs": [],
   "source": [
    "train_input, train_target = next(iter(train_loader))\n",
    "train_input = train_input.to(\"cuda\")\n",
    "y_pred = model(train_input)\n",
    "y_pred = y_pred.cpu().detach().numpy()"
   ]
  },
  {
   "cell_type": "code",
   "execution_count": 25,
   "id": "d55374ed-53ee-44e8-9b73-d8a8501582a1",
   "metadata": {},
   "outputs": [
    {
     "data": {
      "text/plain": [
       "<matplotlib.collections.QuadMesh at 0x14eefd202d10>"
      ]
     },
     "execution_count": 25,
     "metadata": {},
     "output_type": "execute_result"
    },
    {
     "data": {
      "image/png": "[encoded data removed]",
      "text/plain": [
       "<Figure size 640x480 with 1 Axes>"
      ]
     },
     "metadata": {},
     "output_type": "display_data"
    }
   ],
   "source": [
    "plt.pcolormesh(train_target[0, 2, ...])"
   ]
  },
  {
   "cell_type": "code",
   "execution_count": 26,
   "id": "1e0cdf3a-ec9d-49e6-a09b-605bcfd724e8",
   "metadata": {},
   "outputs": [
    {
     "data": {
      "text/plain": [
       "<matplotlib.collections.QuadMesh at 0x14eefd2d38b0>"
      ]
     },
     "execution_count": 26,
     "metadata": {},
     "output_type": "execute_result"
    },
    {
     "data": {
      "image/png": "[encoded data removed]",
      "text/plain": [
       "<Figure size 640x480 with 1 Axes>"
      ]
     },
     "metadata": {},
     "output_type": "display_data"
    }
   ],
   "source": [
    "plt.pcolormesh(y_pred[0, 2, ...])"
   ]
  },
  {
   "cell_type": "markdown",
   "id": "e54f99b5-76bd-4714-98ed-0952178f42da",
   "metadata": {},
   "source": [
    "### Simple training loop example (old)"
   ]
  },
  {
   "cell_type": "code",
   "execution_count": null,
   "id": "fe1294a7-b0be-42fe-a9c3-685f0d1dea98",
   "metadata": {},
   "outputs": [],
   "source": [
    "N_epoch = 25 # number of epoches\n",
    "N_batch = 100 # number of batches per epoch\n",
    "N_sample = 32 # number of samples per batch\n",
    "\n",
    "min_del = 0.0\n",
    "max_tol = 3 # early stopping with 2-epoch patience\n",
    "tol = 0"
   ]
  },
  {
   "cell_type": "code",
   "execution_count": null,
   "id": "67bb6a10-b3c6-4389-9f05-73dce5a18a4e",
   "metadata": {},
   "outputs": [],
   "source": [
    "def shuffle_ind(L):\n",
    "    ind = np.arange(L)\n",
    "    np.random.shuffle(ind)\n",
    "    return ind"
   ]
  },
  {
   "cell_type": "code",
   "execution_count": null,
   "id": "e567c91a-5ad5-48a4-8e70-024cab99158f",
   "metadata": {},
   "outputs": [],
   "source": [
    "# valid_input = input_data_process(image_to_array(sample_names[ind_valid], size=128, channel=3))\n",
    "# valid_input = np.transpose(valid_input, [0, 3, 1, 2])\n",
    "# valid_input = torch.from_numpy(valid_input).float()\n",
    "\n",
    "# valid_target = image_to_array(label_names[ind_valid], size=128, channel=1)\n",
    "# valid_target = valid_target[..., 0].astype(int)\n",
    "# valid_target = valid_target - 1\n",
    "# valid_target = to_categorical(valid_target, num_classes=3)\n",
    "# valid_target = np.transpose(valid_target, [0, 3, 1, 2])\n",
    "# valid_target = torch.from_numpy(valid_target.copy()).float()\n",
    "\n",
    "# test_input = input_data_process(image_to_array(sample_names[ind_test], size=128, channel=3))\n",
    "# test_input = np.transpose(test_input, [0, 3, 1, 2])\n",
    "# test_input = torch.from_numpy(test_input).float()\n",
    "\n",
    "# test_target = image_to_array(label_names[ind_test], size=128, channel=1)\n",
    "# test_target = test_target[..., 0].astype(int)\n",
    "# test_target = test_target - 1\n",
    "# test_target = to_categorical(test_target, num_classes=3)\n",
    "# test_target = np.transpose(test_target, [0, 3, 1, 2])\n",
    "# test_target = torch.from_numpy(test_target.copy()).float()\n",
    "\n",
    "\n",
    "# model = UNet(n_channels=3, n_classes=3).to(\"cuda\")\n",
    "# loss_func = nn.CrossEntropyLoss()\n",
    "# optimizer = torch.optim.Adam(model.parameters(), lr=1e-4)\n",
    "\n",
    "# y_pred = model(valid_input)\n",
    "# record = loss_func(y_pred, valid_target).detach().numpy()\n",
    "# print('Initial loss: {}'.format(record))\n",
    "\n",
    "# for epoch in range(N_epoch):\n",
    "\n",
    "#     for n_batch in range(N_batch):\n",
    "\n",
    "#         ind_train_shuffle = shuffle_ind(L_train)[:N_sample]\n",
    "\n",
    "#         # training batch preparation\n",
    "#         ## input\n",
    "#         train_input = input_data_process(\n",
    "#             image_to_array(sample_names[ind_train][ind_train_shuffle], size=128, channel=3))\n",
    "\n",
    "#         train_input = np.transpose(train_input, [0, 3, 1, 2])\n",
    "#         train_input = torch.from_numpy(train_input).float()\n",
    "        \n",
    "#         ## target\n",
    "#         train_target = target_data_process(\n",
    "#             image_to_array(label_names[ind_train][ind_train_shuffle], size=128, channel=1))\n",
    "        \n",
    "#         train_target = train_target[..., 0].astype(int)\n",
    "#         train_target = train_target - 1\n",
    "#         train_target = to_categorical(train_target, num_classes=3)\n",
    "#         train_target = np.transpose(train_target, [0, 3, 1, 2])\n",
    "#         train_target = torch.from_numpy(train_target.copy()).float()\n",
    "        \n",
    "#         # zero the parameter gradients\n",
    "#         optimizer.zero_grad()\n",
    "\n",
    "#         # forward + backward + optimize\n",
    "#         y_pred_ = model(train_input)\n",
    "#         loss = loss_func(y_pred_, train_target)\n",
    "#         loss.backward()\n",
    "#         optimizer.step()\n",
    "        \n",
    "#     # on-epoch-end validation\n",
    "#     y_pred = model(valid_input)\n",
    "#     record_temp = loss_func(y_pred, valid_target).detach().numpy()\n",
    "#     print('Validation loss: {}'.format(record_temp))\n",
    "    \n",
    "#     if record - record_temp > min_del:\n",
    "#         print('Validation loss improved from {} to {}'.format(record, record_temp))\n",
    "#         record = record_temp\n",
    "#         print(\"Save to {}\".format(save_dir))\n",
    "#         torch.save(model.state_dict(), save_dir)\n",
    "        \n",
    "#     else:\n",
    "#         print('Validation loss {} NOT improved'.format(record_temp))"
   ]
  }
 ],
 "metadata": {
  "kernelspec": {
   "display_name": "Python 3 (ipykernel)",
   "language": "python",
   "name": "python3"
  },
  "language_info": {
   "codemirror_mode": {
    "name": "ipython",
    "version": 3
   },
   "file_extension": ".py",
   "mimetype": "text/x-python",
   "name": "python",
   "nbconvert_exporter": "python",
   "pygments_lexer": "ipython3",
   "version": "3.10.13"
  }
 },
 "nbformat": 4,
 "nbformat_minor": 5
}
