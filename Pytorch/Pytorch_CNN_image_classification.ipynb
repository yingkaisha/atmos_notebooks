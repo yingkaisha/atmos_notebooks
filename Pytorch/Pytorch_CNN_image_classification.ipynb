{
 "cells": [
  {
   "cell_type": "markdown",
   "id": "e95e8ad2-2581-4297-850b-5d0bb43d2b48",
   "metadata": {},
   "source": [
    "# Pytorch CNN image classification"
   ]
  },
  {
   "cell_type": "code",
   "execution_count": 1,
   "id": "573e7e1e-5602-4023-b098-b3d2722f3b4e",
   "metadata": {},
   "outputs": [],
   "source": [
    "import torch\n",
    "import torch.nn as nn\n",
    "import torch.nn.functional as F\n",
    "\n",
    "import torchvision\n",
    "import torchvision.transforms as transforms"
   ]
  },
  {
   "cell_type": "code",
   "execution_count": 2,
   "id": "59192001-74ce-4a32-9739-0408808064d5",
   "metadata": {},
   "outputs": [],
   "source": [
    "import numpy as np\n",
    "import matplotlib.pyplot as plt\n",
    "%matplotlib inline"
   ]
  },
  {
   "cell_type": "markdown",
   "id": "916895fb-36f9-4460-9984-c49dfe49312e",
   "metadata": {},
   "source": [
    "## Import data"
   ]
  },
  {
   "cell_type": "code",
   "execution_count": 4,
   "id": "0beeecf6-4e1b-4d5d-a9ed-96f96b4c9816",
   "metadata": {},
   "outputs": [],
   "source": [
    "path_data = '/glade/u/home/ksha/torch_data/'\n",
    "batch_size = 64\n",
    "classes = ('plane', 'car', 'bird', 'cat', 'deer', 'dog', 'frog', 'horse', 'ship', 'truck')\n",
    "transform = transforms.Compose([transforms.ToTensor(), transforms.Normalize((0.5, 0.5, 0.5), (0.5, 0.5, 0.5))])"
   ]
  },
  {
   "cell_type": "code",
   "execution_count": 5,
   "id": "3a83a5a2-7de4-4a4a-b3b3-dadaed3da26f",
   "metadata": {},
   "outputs": [
    {
     "name": "stdout",
     "output_type": "stream",
     "text": [
      "Files already downloaded and verified\n",
      "Files already downloaded and verified\n"
     ]
    }
   ],
   "source": [
    "trainset = torchvision.datasets.CIFAR10(root=path_data, train=True, download=True, transform=transform)\n",
    "trainloader = torch.utils.data.DataLoader(trainset, batch_size=batch_size, shuffle=True, num_workers=2)\n",
    "\n",
    "testset = torchvision.datasets.CIFAR10(root=path_data, train=False, download=True, transform=transform)\n",
    "testloader = torch.utils.data.DataLoader(testset, batch_size=batch_size, shuffle=False, num_workers=2)"
   ]
  },
  {
   "cell_type": "code",
   "execution_count": 6,
   "id": "a93f2cab-7011-4496-813c-7e6dae42fbe4",
   "metadata": {},
   "outputs": [],
   "source": [
    "# dataiter = iter(trainloader)\n",
    "# images, labels = next(dataiter)\n",
    "# imshow(torchvision.utils.make_grid(images))"
   ]
  },
  {
   "cell_type": "markdown",
   "id": "5ff38d75-8e17-4b85-84b7-4136f91774b4",
   "metadata": {},
   "source": [
    "## Define model"
   ]
  },
  {
   "cell_type": "code",
   "execution_count": 7,
   "id": "99a92f9a-8c0a-4a99-b5df-7cbed2155228",
   "metadata": {},
   "outputs": [],
   "source": [
    "# nn.Conv2d(in_channels, out_channels, kernel_size, \n",
    "#           stride=1, padding='valid', dilation=1, groups=1, bias=True, \n",
    "#           padding_mode='zeros', device=None, dtype=None)\n",
    "\n",
    "# nn.MaxPool2d(kernel_size, stride=None, \n",
    "#              padding=0, dilation=1, return_indices=False, ceil_mode=False)\n",
    "\n",
    "# nn.Linear(in_features, out_features, bias=True, device=None, dtype=None)\n",
    "\n",
    "class model_maker(nn.Module):\n",
    "    def __init__(self):\n",
    "        super().__init__()\n",
    "        self.conv1 = nn.Conv2d(3, 6, 5)\n",
    "        self.pool = nn.MaxPool2d(2, stride=2)\n",
    "        self.conv2 = nn.Conv2d(6, 16, 5)\n",
    "        self.fc1 = nn.Linear(16*5*5, 120)\n",
    "        self.fc2 = nn.Linear(120, 84)\n",
    "        self.fc3 = nn.Linear(84, 10)\n",
    "\n",
    "    def forward(self, x):\n",
    "        \n",
    "        x = self.conv1(x)\n",
    "        x = F.relu(x)\n",
    "        x = self.pool(x)\n",
    "\n",
    "        x = self.conv2(x)\n",
    "        x = F.relu(x)\n",
    "        x = self.pool(x)\n",
    "        \n",
    "        x = torch.flatten(x, 1) # flatten all dimensions except batch\n",
    "\n",
    "        x = self.fc1(x)\n",
    "        x = F.relu(x)\n",
    "        \n",
    "        x = self.fc2(x)\n",
    "        x = F.relu(x)\n",
    "        \n",
    "        x = self.fc3(x)\n",
    "        return x\n",
    "\n",
    "\n",
    "model = model_maker()"
   ]
  },
  {
   "cell_type": "markdown",
   "id": "903e224a-a190-4dc5-a92e-7cf59b8d06ee",
   "metadata": {},
   "source": [
    "**Configuration**"
   ]
  },
  {
   "cell_type": "code",
   "execution_count": 8,
   "id": "c8b09239-5a1a-4967-8e04-0ac53c6676a5",
   "metadata": {},
   "outputs": [],
   "source": [
    "loss_func = nn.CrossEntropyLoss()\n",
    "optimizer = torch.optim.SGD(model.parameters(), lr=0.001, momentum=0.9)"
   ]
  },
  {
   "cell_type": "markdown",
   "id": "bcb6bed1-83fc-492e-8053-ed7c61a6498b",
   "metadata": {},
   "source": [
    "## Training"
   ]
  },
  {
   "cell_type": "code",
   "execution_count": 9,
   "id": "ae42c3b9-9c2d-4ae0-9a16-19c5f0adbaa9",
   "metadata": {},
   "outputs": [],
   "source": [
    "save_dir = '/glade/work/ksha/torch_models/cifar_net.pth'"
   ]
  },
  {
   "cell_type": "markdown",
   "id": "cfb05932-f63f-4544-a47e-8bf42fff7f51",
   "metadata": {},
   "source": [
    "**Validation set**"
   ]
  },
  {
   "cell_type": "code",
   "execution_count": 10,
   "id": "a0e568fa-45ab-4f74-a1cb-148ce341060f",
   "metadata": {},
   "outputs": [],
   "source": [
    "L_valid = len(testset)\n",
    "input_, y_true_ = testset[0]\n",
    "\n",
    "grid_shape = np.array(input_).shape\n",
    "input_test = np.empty((L_valid,)+grid_shape)\n",
    "y_true = np.empty(L_valid)\n",
    "\n",
    "for i in range(L_valid):\n",
    "    input_, y_true_ = testset[i]\n",
    "    input_test[i, ...] = np.array(input_)\n",
    "    y_true[i] = y_true_\n",
    "\n",
    "y_true = torch.from_numpy(y_true).long()\n",
    "input_test = torch.from_numpy(input_test).float()"
   ]
  },
  {
   "cell_type": "code",
   "execution_count": 13,
   "id": "f8c448c5-9959-436a-9013-737ada465ab1",
   "metadata": {},
   "outputs": [
    {
     "name": "stdout",
     "output_type": "stream",
     "text": [
      "Initial loss: 2.282742738723755\n",
      "Validation loss: 1.9610371589660645\n",
      "Validation loss improved from 2.282742738723755 to 1.9610371589660645\n",
      "Save to /glade/work/ksha/torch_models/cifar_net.pth\n",
      "Validation loss: 1.7789337635040283\n",
      "Validation loss improved from 1.9610371589660645 to 1.7789337635040283\n",
      "Save to /glade/work/ksha/torch_models/cifar_net.pth\n"
     ]
    }
   ],
   "source": [
    "min_del = 0.0\n",
    "max_tol = 3 # early stopping with 2-epoch patience\n",
    "tol = 0\n",
    "\n",
    "y_pred = model(input_test)\n",
    "record = loss_func(y_pred, y_true).detach().numpy()\n",
    "print('Initial loss: {}'.format(record))\n",
    "\n",
    "for epoch in range(2):  # loop over the dataset multiple times\n",
    "\n",
    "    running_loss = 0.0\n",
    "    \n",
    "    for i, data in enumerate(trainloader):\n",
    "        # get the inputs; data is a list of [inputs, labels]\n",
    "        inputs, labels = data\n",
    "\n",
    "        # zero the parameter gradients\n",
    "        optimizer.zero_grad()\n",
    "\n",
    "        # forward + backward + optimize\n",
    "        outputs = model(inputs)\n",
    "        loss = loss_func(outputs, labels)\n",
    "        loss.backward()\n",
    "        optimizer.step()\n",
    "        \n",
    "    # on-epoch-end validation\n",
    "    y_pred = model(input_test)\n",
    "    record_temp = loss_func(y_pred, y_true).detach().numpy()\n",
    "    print('Validation loss: {}'.format(record_temp))\n",
    "    \n",
    "    if record - record_temp > min_del:\n",
    "        print('Validation loss improved from {} to {}'.format(record, record_temp))\n",
    "        record = record_temp\n",
    "        print(\"Save to {}\".format(save_dir))\n",
    "        torch.save(model.state_dict(), save_dir)\n",
    "        \n",
    "    else:\n",
    "        print('Validation loss {} NOT improved'.format(record_temp))"
   ]
  },
  {
   "cell_type": "markdown",
   "id": "121127fb-5459-4243-8576-c200af3338b4",
   "metadata": {},
   "source": [
    "## Load model"
   ]
  },
  {
   "cell_type": "code",
   "execution_count": 14,
   "id": "6a02f6eb-9697-42b7-879e-5867e0ecd53b",
   "metadata": {},
   "outputs": [
    {
     "data": {
      "text/plain": [
       "<All keys matched successfully>"
      ]
     },
     "execution_count": 14,
     "metadata": {},
     "output_type": "execute_result"
    }
   ],
   "source": [
    "model = model_maker()\n",
    "model.load_state_dict(torch.load(save_dir))"
   ]
  },
  {
   "cell_type": "code",
   "execution_count": 15,
   "id": "b5adf9e7-2842-4bbb-bbc4-04f54b03b7a7",
   "metadata": {},
   "outputs": [],
   "source": [
    "loss_func = nn.CrossEntropyLoss()\n",
    "optimizer = torch.optim.SGD(model.parameters(), lr=5e-4, momentum=0.9)"
   ]
  },
  {
   "cell_type": "markdown",
   "id": "59566d78-a153-41bb-9e98-9e35d85fe209",
   "metadata": {},
   "source": [
    "## Fine tuning"
   ]
  },
  {
   "cell_type": "code",
   "execution_count": 16,
   "id": "bdfc0a51-7968-46a4-ba95-c694d6df5acb",
   "metadata": {},
   "outputs": [],
   "source": [
    "save_dir = '/glade/work/ksha/torch_models/cifar_net_tune.pth'"
   ]
  },
  {
   "cell_type": "code",
   "execution_count": 17,
   "id": "c0124b35-2f15-49bf-a2d2-92740d63b436",
   "metadata": {},
   "outputs": [
    {
     "name": "stdout",
     "output_type": "stream",
     "text": [
      "Initial loss: 1.7789337635040283\n",
      "Validation loss: 1.6968176364898682\n",
      "Validation loss improved from 1.7789337635040283 to 1.6968176364898682\n",
      "Save to /glade/work/ksha/torch_models/cifar_net_tune.pth\n",
      "Validation loss: 1.617132544517517\n",
      "Validation loss improved from 1.6968176364898682 to 1.617132544517517\n",
      "Save to /glade/work/ksha/torch_models/cifar_net_tune.pth\n",
      "Validation loss: 1.5685003995895386\n",
      "Validation loss improved from 1.617132544517517 to 1.5685003995895386\n",
      "Save to /glade/work/ksha/torch_models/cifar_net_tune.pth\n",
      "Validation loss: 1.5218746662139893\n",
      "Validation loss improved from 1.5685003995895386 to 1.5218746662139893\n",
      "Save to /glade/work/ksha/torch_models/cifar_net_tune.pth\n",
      "Validation loss: 1.4906188249588013\n",
      "Validation loss improved from 1.5218746662139893 to 1.4906188249588013\n",
      "Save to /glade/work/ksha/torch_models/cifar_net_tune.pth\n",
      "Validation loss: 1.4542299509048462\n",
      "Validation loss improved from 1.4906188249588013 to 1.4542299509048462\n",
      "Save to /glade/work/ksha/torch_models/cifar_net_tune.pth\n",
      "Validation loss: 1.4159140586853027\n",
      "Validation loss improved from 1.4542299509048462 to 1.4159140586853027\n",
      "Save to /glade/work/ksha/torch_models/cifar_net_tune.pth\n",
      "Validation loss: 1.4041212797164917\n",
      "Validation loss improved from 1.4159140586853027 to 1.4041212797164917\n",
      "Save to /glade/work/ksha/torch_models/cifar_net_tune.pth\n",
      "Validation loss: 1.37742280960083\n",
      "Validation loss improved from 1.4041212797164917 to 1.37742280960083\n",
      "Save to /glade/work/ksha/torch_models/cifar_net_tune.pth\n",
      "Validation loss: 1.3377060890197754\n",
      "Validation loss improved from 1.37742280960083 to 1.3377060890197754\n",
      "Save to /glade/work/ksha/torch_models/cifar_net_tune.pth\n",
      "Validation loss: 1.326387882232666\n",
      "Validation loss improved from 1.3377060890197754 to 1.326387882232666\n",
      "Save to /glade/work/ksha/torch_models/cifar_net_tune.pth\n",
      "Validation loss: 1.3155659437179565\n",
      "Validation loss improved from 1.326387882232666 to 1.3155659437179565\n",
      "Save to /glade/work/ksha/torch_models/cifar_net_tune.pth\n",
      "Validation loss: 1.2809605598449707\n",
      "Validation loss improved from 1.3155659437179565 to 1.2809605598449707\n",
      "Save to /glade/work/ksha/torch_models/cifar_net_tune.pth\n",
      "Validation loss: 1.2731742858886719\n",
      "Validation loss improved from 1.2809605598449707 to 1.2731742858886719\n",
      "Save to /glade/work/ksha/torch_models/cifar_net_tune.pth\n",
      "Validation loss: 1.2637242078781128\n",
      "Validation loss improved from 1.2731742858886719 to 1.2637242078781128\n",
      "Save to /glade/work/ksha/torch_models/cifar_net_tune.pth\n",
      "Validation loss: 1.2332521677017212\n",
      "Validation loss improved from 1.2637242078781128 to 1.2332521677017212\n",
      "Save to /glade/work/ksha/torch_models/cifar_net_tune.pth\n",
      "Validation loss: 1.2295682430267334\n",
      "Validation loss improved from 1.2332521677017212 to 1.2295682430267334\n",
      "Save to /glade/work/ksha/torch_models/cifar_net_tune.pth\n",
      "Validation loss: 1.2363014221191406\n",
      "Validation loss 1.2363014221191406 NOT improved\n",
      "Validation loss: 1.199515700340271\n",
      "Validation loss improved from 1.2295682430267334 to 1.199515700340271\n",
      "Save to /glade/work/ksha/torch_models/cifar_net_tune.pth\n",
      "Validation loss: 1.2046940326690674\n",
      "Validation loss 1.2046940326690674 NOT improved\n",
      "Validation loss: 1.1875005960464478\n",
      "Validation loss improved from 1.199515700340271 to 1.1875005960464478\n",
      "Save to /glade/work/ksha/torch_models/cifar_net_tune.pth\n",
      "Validation loss: 1.1761163473129272\n",
      "Validation loss improved from 1.1875005960464478 to 1.1761163473129272\n",
      "Save to /glade/work/ksha/torch_models/cifar_net_tune.pth\n",
      "Validation loss: 1.157332181930542\n",
      "Validation loss improved from 1.1761163473129272 to 1.157332181930542\n",
      "Save to /glade/work/ksha/torch_models/cifar_net_tune.pth\n",
      "Validation loss: 1.158797025680542\n",
      "Validation loss 1.158797025680542 NOT improved\n",
      "Validation loss: 1.1476861238479614\n",
      "Validation loss improved from 1.157332181930542 to 1.1476861238479614\n",
      "Save to /glade/work/ksha/torch_models/cifar_net_tune.pth\n",
      "Validation loss: 1.1417500972747803\n",
      "Validation loss improved from 1.1476861238479614 to 1.1417500972747803\n",
      "Save to /glade/work/ksha/torch_models/cifar_net_tune.pth\n",
      "Validation loss: 1.1207247972488403\n",
      "Validation loss improved from 1.1417500972747803 to 1.1207247972488403\n",
      "Save to /glade/work/ksha/torch_models/cifar_net_tune.pth\n",
      "Validation loss: 1.1302849054336548\n",
      "Validation loss 1.1302849054336548 NOT improved\n",
      "Validation loss: 1.1015578508377075\n",
      "Validation loss improved from 1.1207247972488403 to 1.1015578508377075\n",
      "Save to /glade/work/ksha/torch_models/cifar_net_tune.pth\n",
      "Validation loss: 1.1193687915802002\n",
      "Validation loss 1.1193687915802002 NOT improved\n"
     ]
    }
   ],
   "source": [
    "min_del = 0.0\n",
    "max_tol = 3 # early stopping with 2-epoch patience\n",
    "tol = 0\n",
    "\n",
    "y_pred = model(input_test)\n",
    "record = loss_func(y_pred, y_true).detach().numpy()\n",
    "print('Initial loss: {}'.format(record))\n",
    "\n",
    "for epoch in range(30):  # loop over the dataset multiple times\n",
    "\n",
    "    running_loss = 0.0\n",
    "    \n",
    "    for i, data in enumerate(trainloader):\n",
    "        # get the inputs; data is a list of [inputs, labels]\n",
    "        inputs, labels = data\n",
    "\n",
    "        # zero the parameter gradients\n",
    "        optimizer.zero_grad()\n",
    "\n",
    "        # forward + backward + optimize\n",
    "        outputs = model(inputs)\n",
    "        loss = loss_func(outputs, labels)\n",
    "        loss.backward()\n",
    "        optimizer.step()\n",
    "        \n",
    "    # on-epoch-end validation\n",
    "    y_pred = model(input_test)\n",
    "    record_temp = loss_func(y_pred, y_true).detach().numpy()\n",
    "    print('Validation loss: {}'.format(record_temp))\n",
    "    \n",
    "    if record - record_temp > min_del:\n",
    "        print('Validation loss improved from {} to {}'.format(record, record_temp))\n",
    "        record = record_temp\n",
    "        print(\"Save to {}\".format(save_dir))\n",
    "        torch.save(model.state_dict(), save_dir)\n",
    "        \n",
    "    else:\n",
    "        print('Validation loss {} NOT improved'.format(record_temp))"
   ]
  },
  {
   "cell_type": "code",
   "execution_count": null,
   "id": "5cb2533d-ed69-46c4-b228-fa9a11cb3292",
   "metadata": {},
   "outputs": [],
   "source": []
  }
 ],
 "metadata": {
  "kernelspec": {
   "display_name": "Python 3 (ipykernel)",
   "language": "python",
   "name": "python3"
  },
  "language_info": {
   "codemirror_mode": {
    "name": "ipython",
    "version": 3
   },
   "file_extension": ".py",
   "mimetype": "text/x-python",
   "name": "python",
   "nbconvert_exporter": "python",
   "pygments_lexer": "ipython3",
   "version": "3.10.13"
  }
 },
 "nbformat": 4,
 "nbformat_minor": 5
}
