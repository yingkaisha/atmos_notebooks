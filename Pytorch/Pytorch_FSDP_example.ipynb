{
 "cells": [
  {
   "cell_type": "markdown",
   "id": "e1df0368-e217-47af-9d8c-4f616b689182",
   "metadata": {},
   "source": [
    "# Pytorch Unet image segmentation"
   ]
  },
  {
   "cell_type": "code",
   "execution_count": 1,
   "id": "e54e6c95-0956-46a2-94d8-b09fbd128d82",
   "metadata": {},
   "outputs": [],
   "source": [
    "import os\n",
    "import torch\n",
    "import torch.nn as nn\n",
    "import torch.nn.functional as F\n",
    "from torch.utils.data import Dataset, DataLoader, IterableDataset\n",
    "import torchvision\n",
    "import torchvision.transforms as transforms\n",
    "\n",
    "import functools\n",
    "\n",
    "import torch.distributed as dist\n",
    "import torch.multiprocessing as mp\n",
    "from torch.utils.data.distributed import DistributedSampler\n",
    "\n",
    "from torch.nn.parallel import DistributedDataParallel as DDP\n",
    "from torch.distributed.fsdp import FullyShardedDataParallel as FSDP\n",
    "\n",
    "from torch.distributed.fsdp.fully_sharded_data_parallel import (\n",
    "    CPUOffload,\n",
    "    BackwardPrefetch,\n",
    ")\n",
    "\n",
    "from torch.distributed.fsdp.wrap import (\n",
    "    size_based_auto_wrap_policy,\n",
    "    enable_wrap,\n",
    "    wrap,\n",
    ")"
   ]
  },
  {
   "cell_type": "code",
   "execution_count": 2,
   "id": "04b7eabc-1ae3-49c1-9562-f03faf39ff81",
   "metadata": {},
   "outputs": [],
   "source": [
    "import numpy as np\n",
    "from glob import glob\n",
    "from PIL import Image"
   ]
  },
  {
   "cell_type": "code",
   "execution_count": 3,
   "id": "742f5ad1-3a04-4594-9430-4495c177a0e2",
   "metadata": {},
   "outputs": [],
   "source": [
    "import matplotlib.pyplot as plt\n",
    "%matplotlib inline"
   ]
  },
  {
   "cell_type": "markdown",
   "id": "0fa35436-3d39-4bc0-bdf2-65649a0957da",
   "metadata": {},
   "source": [
    "## Import data"
   ]
  },
  {
   "cell_type": "code",
   "execution_count": 4,
   "id": "90fa262a-fa75-41fa-b805-b4fac80ce475",
   "metadata": {},
   "outputs": [],
   "source": [
    "# the indicator of a fresh run\n",
    "first_time_running = False\n",
    "\n",
    "# user-specified working directory\n",
    "filepath = '/glade/campaign/cisl/aiml/ksha/Pytorch_example_data/oxford_iiit/'"
   ]
  },
  {
   "cell_type": "code",
   "execution_count": 5,
   "id": "2fdff38e-ab8d-4ed0-96b3-348f27d74f4e",
   "metadata": {},
   "outputs": [],
   "source": [
    "if first_time_running:\n",
    "    # downloading and executing data files\n",
    "    import tarfile\n",
    "    import urllib.request\n",
    "    \n",
    "    filename_image = filepath+'images.tar.gz'\n",
    "    filename_target = filepath+'annotations.tar.gz'\n",
    "    \n",
    "    urllib.request.urlretrieve('http://www.robots.ox.ac.uk/~vgg/data/pets/data/images.tar.gz', filename_image);\n",
    "    urllib.request.urlretrieve('https://www.robots.ox.ac.uk/~vgg/data/pets/data/annotations.tar.gz', filename_target);\n",
    "    \n",
    "    with tarfile.open(filename_image, \"r:gz\") as tar_io:\n",
    "        tar_io.extractall(path=filepath)\n",
    "    with tarfile.open(filename_target, \"r:gz\") as tar_io:\n",
    "        tar_io.extractall(path=filepath)"
   ]
  },
  {
   "cell_type": "markdown",
   "id": "a1f25e57-1944-4f51-9542-19438d35b5ff",
   "metadata": {},
   "source": [
    "## Build model"
   ]
  },
  {
   "cell_type": "code",
   "execution_count": 6,
   "id": "e329746b-d158-468e-b2a7-a47360766e4f",
   "metadata": {},
   "outputs": [],
   "source": [
    "class DoubleConv(nn.Module):\n",
    "    \"\"\"(convolution => [BN] => ReLU) * 2\"\"\"\n",
    "\n",
    "    def __init__(self, in_channels, out_channels, mid_channels=None):\n",
    "        super().__init__()\n",
    "        if not mid_channels:\n",
    "            mid_channels = out_channels\n",
    "        self.double_conv = nn.Sequential(\n",
    "            nn.Conv2d(in_channels, mid_channels, kernel_size=3, padding=1, bias=False),\n",
    "            nn.BatchNorm2d(mid_channels),\n",
    "            nn.ReLU(inplace=True),\n",
    "            nn.Conv2d(mid_channels, out_channels, kernel_size=3, padding=1, bias=False),\n",
    "            nn.BatchNorm2d(out_channels),\n",
    "            nn.ReLU(inplace=True)\n",
    "        )\n",
    "\n",
    "    def forward(self, x):\n",
    "        return self.double_conv(x)\n",
    "\n",
    "\n",
    "class Down(nn.Module):\n",
    "    \"\"\"Downscaling with maxpool then double conv\"\"\"\n",
    "\n",
    "    def __init__(self, in_channels, out_channels):\n",
    "        super().__init__()\n",
    "        self.maxpool_conv = nn.Sequential(\n",
    "            nn.MaxPool2d(2),\n",
    "            DoubleConv(in_channels, out_channels)\n",
    "        )\n",
    "\n",
    "    def forward(self, x):\n",
    "        return self.maxpool_conv(x)\n",
    "\n",
    "\n",
    "class Up(nn.Module):\n",
    "    \"\"\"Upscaling then double conv\"\"\"\n",
    "\n",
    "    def __init__(self, in_channels1, in_channels2, out_channels):\n",
    "        super().__init__()\n",
    "\n",
    "        # if bilinear, use the normal convolutions to reduce the number of channels\n",
    "        self.up = nn.Upsample(scale_factor=2, mode='bilinear', align_corners=True)\n",
    "        self.conv1 = DoubleConv(in_channels1, out_channels)\n",
    "        self.conv2 = DoubleConv(out_channels+in_channels2, out_channels)\n",
    "        \n",
    "    def forward(self, x1, x2):\n",
    "        x1 = self.up(x1)\n",
    "        x1 = self.conv1(x1)\n",
    "        x = torch.cat([x2, x1], dim=1)\n",
    "        x = self.conv2(x)\n",
    "        return x\n",
    "\n",
    "class OutConv(nn.Module):\n",
    "    def __init__(self, in_channels, out_channels):\n",
    "        super(OutConv, self).__init__()\n",
    "        self.conv = nn.Conv2d(in_channels, out_channels, kernel_size=1)\n",
    "\n",
    "    def forward(self, x):\n",
    "        return self.conv(x)\n",
    "\n",
    "class UNet(nn.Module):\n",
    "    def __init__(self, n_channels, n_classes):\n",
    "        super(UNet, self).__init__()\n",
    "        \n",
    "        self.n_channels = n_channels\n",
    "        self.n_classes = n_classes\n",
    "        \n",
    "        self.inc = (DoubleConv(n_channels, 64))\n",
    "        \n",
    "        self.down1 = (Down(64, 128))\n",
    "        self.down2 = (Down(128, 256))\n",
    "        self.down3 = (Down(256, 512))\n",
    "        self.down4 = (Down(512, 1024))\n",
    "        \n",
    "        self.up1 = (Up(1024, 512, 512))\n",
    "        self.up2 = (Up(512, 256, 256))\n",
    "        self.up3 = (Up(256, 128, 128))\n",
    "        self.up4 = (Up(128, 64, 64))\n",
    "        \n",
    "        self.outc = (OutConv(64, n_classes))\n",
    "        self.softmax = nn.Softmax(dim=1)\n",
    "        \n",
    "    def forward(self, x):\n",
    "        x1 = self.inc(x)\n",
    "        x2 = self.down1(x1)\n",
    "        x3 = self.down2(x2)\n",
    "        x4 = self.down3(x3)\n",
    "        x5 = self.down4(x4)\n",
    "        x = self.up1(x5, x4)\n",
    "        x = self.up2(x, x3)\n",
    "        x = self.up3(x, x2)\n",
    "        x = self.up4(x, x1)\n",
    "        x = self.outc(x)\n",
    "        #x = self.softmax(x)\n",
    "        return x"
   ]
  },
  {
   "cell_type": "markdown",
   "id": "f07790b2-ac1b-47ec-bd53-f15ab3e951fa",
   "metadata": {},
   "source": [
    "## Data pre-processing"
   ]
  },
  {
   "cell_type": "code",
   "execution_count": 7,
   "id": "a1364c65-9bce-4ac7-b626-517e5bff548d",
   "metadata": {},
   "outputs": [],
   "source": [
    "def input_data_process(input_array):\n",
    "    '''converting pixel vales to [0, 1]'''\n",
    "    return input_array/255.\n",
    "\n",
    "def shuffle_ind(L):\n",
    "    ind = np.arange(L)\n",
    "    np.random.shuffle(ind)\n",
    "    return ind\n",
    "\n",
    "def image_to_array(filenames, size, channel):\n",
    "    # number of files\n",
    "    L = len(filenames)\n",
    "    \n",
    "    # allocation\n",
    "    out = np.empty((L, size, size, channel))\n",
    "    \n",
    "    # loop over filenames\n",
    "    if channel == 1:\n",
    "        for i, name in enumerate(filenames):\n",
    "            with Image.open(name) as pixio:\n",
    "                pix = pixio.resize((size, size), Image.NEAREST)\n",
    "                out[i, ..., 0] = np.array(pix)\n",
    "    else:\n",
    "        for i, name in enumerate(filenames):\n",
    "            with Image.open(name) as pixio:\n",
    "                pix = pixio.resize((size, size), Image.NEAREST)\n",
    "                out[i, ...] = np.array(pix)[..., :channel]\n",
    "    return out[:, ::-1, ...]\n",
    "\n",
    "def to_categorical(y, num_classes):\n",
    "    \"\"\" 1-hot encodes a tensor \"\"\"\n",
    "    return np.eye(num_classes, dtype='uint8')[y]"
   ]
  },
  {
   "cell_type": "code",
   "execution_count": 8,
   "id": "73eaeeeb-1245-442e-ab10-603b99d60342",
   "metadata": {},
   "outputs": [
    {
     "name": "stdout",
     "output_type": "stream",
     "text": [
      "Training:validation:testing = 7094:147:149\n"
     ]
    }
   ],
   "source": [
    "sample_names = np.array(sorted(glob(filepath+'images/*.jpg')))\n",
    "label_names = np.array(sorted(glob(filepath+'annotations/trimaps/*.png')))\n",
    "\n",
    "L = len(sample_names)\n",
    "ind_all = shuffle_ind(L)\n",
    "\n",
    "L_train = int(0.96*L)\n",
    "L_valid = int(0.02*L)\n",
    "L_test = L - L_train - L_valid\n",
    "ind_train = ind_all[:L_train]; ind_valid = ind_all[L_train:L_train+L_valid]; ind_test = ind_all[L_train+L_valid:]\n",
    "\n",
    "print(\"Training:validation:testing = {}:{}:{}\".format(L_train, L_valid, L_test))"
   ]
  },
  {
   "cell_type": "markdown",
   "id": "07795520-9596-4076-8c82-fc0f237c535d",
   "metadata": {},
   "source": [
    "### Training using Pytorch pipeline "
   ]
  },
  {
   "cell_type": "markdown",
   "id": "5980b7d6-f7a1-4f1d-9830-0dc5c30207d4",
   "metadata": {},
   "source": [
    "**Create dataloaders**"
   ]
  },
  {
   "cell_type": "code",
   "execution_count": 10,
   "id": "8c569175-8061-430b-a2b2-194c92a583fd",
   "metadata": {},
   "outputs": [],
   "source": [
    "class base_loader(Dataset):\n",
    "\n",
    "    def __init__(self, filename_input, filename_target, size, channel_input, channel_target):\n",
    "        self.filename_input = filename_input\n",
    "        self.filename_target = filename_target\n",
    "        self.size = size\n",
    "        self.channel_input = channel_input\n",
    "        self.channel_target = channel_target\n",
    "\n",
    "    def __len__(self):\n",
    "        # return total number of samples\n",
    "        return len(self.filename_input)\n",
    "\n",
    "    def __getitem__(self, index):\n",
    "        # return a single input-target pair\n",
    "        \n",
    "        # get single file names\n",
    "        filename_input_single = [self.filename_input[index],]\n",
    "        filename_target_single = [self.filename_target[index],]\n",
    "\n",
    "        # get size info\n",
    "        size = self.size\n",
    "        channel_input = self.channel_input\n",
    "        channel_target = self.channel_target\n",
    "\n",
    "        # input preprocessing\n",
    "        train_input = image_to_array(filename_input_single, size, channel_input)\n",
    "        train_input = input_data_process(train_input)\n",
    "        train_input = np.transpose(train_input, [0, 3, 1, 2])[0, ...]\n",
    "        train_input = torch.from_numpy(train_input).float()\n",
    "\n",
    "        # target preprocessing\n",
    "        train_target = image_to_array(filename_target_single, size, channel_target)\n",
    "        train_target = train_target[..., 0].astype(int)\n",
    "        train_target = train_target - 1\n",
    "        train_target = to_categorical(train_target, num_classes=3)\n",
    "        train_target = np.transpose(train_target, [0, 3, 1, 2])[0, ...]\n",
    "        train_target = torch.from_numpy(train_target.copy()).float()\n",
    "        \n",
    "        return train_input, train_target"
   ]
  },
  {
   "cell_type": "code",
   "execution_count": 60,
   "id": "1268e649-8efb-4293-ba2a-2b3ecf04d7f4",
   "metadata": {},
   "outputs": [],
   "source": [
    "# Test dataloader\n",
    "# train_data = base_loader(sample_names[ind_train], label_names[ind_train], \n",
    "#                          size=128, channel_input=3, channel_target=1)\n",
    "\n",
    "# valid_data = base_loader(sample_names[ind_valid], label_names[ind_valid], \n",
    "#                          size=128, channel_input=3, channel_target=1)\n",
    "\n",
    "# train_loader = DataLoader(train_data, batch_size=N_sample, shuffle=True)\n",
    "# valid_loader = DataLoader(valid_data, batch_size=N_sample, shuffle=False)"
   ]
  },
  {
   "cell_type": "markdown",
   "id": "8c809633-0388-4097-80d4-f4bc9d828e23",
   "metadata": {},
   "source": [
    "## Model training with FSDP"
   ]
  },
  {
   "cell_type": "code",
   "execution_count": 13,
   "id": "e2ebe104-9aa6-4ceb-8fa3-c75619d738c2",
   "metadata": {},
   "outputs": [],
   "source": [
    "def setup(rank, world_size):\n",
    "    # ?? don't know what is this\n",
    "    os.environ['MASTER_ADDR'] = 'localhost'\n",
    "    os.environ['MASTER_PORT'] = '12355'\n",
    "\n",
    "    # initialize the process group\n",
    "    dist.init_process_group(\"nccl\", rank=rank, world_size=world_size)\n",
    "\n",
    "def cleanup():\n",
    "    dist.destroy_process_group()"
   ]
  },
  {
   "cell_type": "code",
   "execution_count": 29,
   "id": "12b56578-8024-4745-a932-8c0ce5f76726",
   "metadata": {},
   "outputs": [],
   "source": [
    "def train(model, train_loader, loss_func, optimizer, rank, world_size, epoch, sampler=None):\n",
    "    '''\n",
    "    train model on a single epoch\n",
    "    '''\n",
    "    # switch to training mode\n",
    "    model.train()\n",
    "\n",
    "    # allocate training loss\n",
    "    ddp_loss = torch.zeros(2).to(rank)\n",
    "\n",
    "    # set the current epoch on sampler\n",
    "    if sampler:\n",
    "        sampler.set_epoch(epoch)\n",
    "\n",
    "    # roll out batches for a single epoch\n",
    "    for batch_idx, (train_input, train_target) in enumerate(train_loader):\n",
    "        \n",
    "        # project data to device \n",
    "        train_input = train_input.to(rank)\n",
    "        train_target = train_target.to(rank)\n",
    "        \n",
    "        optimizer.zero_grad()\n",
    "        y_pred = model(train_input)\n",
    "        \n",
    "        loss = loss_func(y_pred, train_target, reduction='sum')\n",
    "        loss.backward()\n",
    "        optimizer.step()\n",
    "        \n",
    "        ddp_loss[0] += loss.item()\n",
    "        ddp_loss[1] += len(train_loader)\n",
    "\n",
    "    # summarize loss values\n",
    "    dist.all_reduce(ddp_loss, op=dist.ReduceOp.SUM)\n",
    "    \n",
    "    return True\n",
    "\n",
    "def valid(model, valid_loader, N_poins, valid_func, rank, world_size):\n",
    "    '''\n",
    "    Appy the model to validation set\n",
    "    '''\n",
    "    # switch to inference mode\n",
    "    model.eval()\n",
    "\n",
    "    # allocate validation loss\n",
    "    ddp_loss = torch.zeros(2).to(rank)\n",
    "\n",
    "    # stop gradient scopre\n",
    "    with torch.no_grad():\n",
    "        for valid_input, valid_target in valid_loader:\n",
    "\n",
    "            # project data to device\n",
    "            valid_input = valid_input.to(rank)\n",
    "            valid_target = valid_target.to(rank)\n",
    "\n",
    "            # batch inference\n",
    "            y_pred = model(valid_input)\n",
    "\n",
    "            # batch loss\n",
    "            ddp_loss[0] += valid_func(y_pred, valid_target, reduction='sum').item()  # sum up batch loss\n",
    "            ddp_loss[1] += len(valid_loader)\n",
    "\n",
    "    # summarize loss values\n",
    "    dist.all_reduce(ddp_loss, op=dist.ReduceOp.SUM)\n",
    "    valid_loss = ddp_loss[0] / ddp_loss[1] / N_poins\n",
    "    \n",
    "    return valid_loss"
   ]
  },
  {
   "cell_type": "code",
   "execution_count": 46,
   "id": "cb7c5b20-8d2d-4227-b568-41f8f83e8dd3",
   "metadata": {},
   "outputs": [],
   "source": [
    "def fsdp_main(rank, world_size, args):\n",
    "\n",
    "    # setup multi-GPU resources\n",
    "    setup(rank, world_size)\n",
    "\n",
    "    # train dataset\n",
    "    train_data = base_loader(sample_names[ind_train], label_names[ind_train], \n",
    "                             size=128, channel_input=3, channel_target=1)\n",
    "    # valid dataset\n",
    "    valid_data = base_loader(sample_names[ind_valid], label_names[ind_valid], \n",
    "                             size=128, channel_input=3, channel_target=1)\n",
    "    # define samplers\n",
    "    sampler1 = DistributedSampler(train_data, rank=rank, num_replicas=world_size, shuffle=True)\n",
    "    sampler2 = DistributedSampler(valid_data, rank=rank, num_replicas=world_size)\n",
    "\n",
    "    # data loader keywords\n",
    "    train_kwargs = {'batch_size': args['batch_size'], 'sampler': sampler1}\n",
    "    valid_kwargs = {'batch_size': args['test_batch_size'], 'sampler': sampler2}\n",
    "    cuda_kwargs = {'num_workers': 2, 'pin_memory': True, 'shuffle': False}\n",
    "    train_kwargs.update(cuda_kwargs)\n",
    "    valid_kwargs.update(cuda_kwargs)\n",
    "\n",
    "    # config data loader\n",
    "    train_loader = torch.utils.data.DataLoader(train_data, **train_kwargs)\n",
    "    valid_loader = torch.utils.data.DataLoader(valid_data, **valid_kwargs)\n",
    "\n",
    "    # applies FSDP if the parameters in its subtree exceed 100M numel\n",
    "    my_auto_wrap_policy = functools.partial(\n",
    "        size_based_auto_wrap_policy, min_num_params=100\n",
    "    )\n",
    "\n",
    "    # define FSDP scope\n",
    "    torch.cuda.set_device(rank)\n",
    "    init_start_event = torch.cuda.Event(enable_timing=True)\n",
    "    init_end_event = torch.cuda.Event(enable_timing=True)\n",
    "\n",
    "    # build model\n",
    "    model = UNet(n_channels=3, n_classes=3).to(rank)\n",
    "\n",
    "    # load model weights\n",
    "    if args['load_weights']:\n",
    "         model.load_state_dict(torch.load(args['save_dir']))\n",
    "        \n",
    "    # wrap on FSDP\n",
    "    model = FSDP(model)\n",
    "    \n",
    "    # config model\n",
    "    optimizer = torch.optim.Adam(model.parameters(), lr=args['lr'])\n",
    "    scheduler = torch.optim.lr_scheduler.StepLR(optimizer, step_size=1, gamma=args['gamma'])\n",
    "    \n",
    "    N_points = 128*128*3\n",
    "    # ========================================================= #\n",
    "    # training loop within the FSDP scope\n",
    "    init_start_event.record()\n",
    "    \n",
    "    record = valid(model, valid_loader, N_points, F.cross_entropy, rank, world_size)\n",
    "    print('Initial loss: {}'.format(record))\n",
    "    \n",
    "    for epoch in range(args['N_epoch']):\n",
    "        train(model, train_loader, F.cross_entropy, optimizer, rank, world_size, epoch, sampler=sampler1)\n",
    "        \n",
    "        scheduler.step()\n",
    "        \n",
    "        # validation on-epoch-end\n",
    "        record_temp = valid(model, valid_loader, N_points, F.cross_entropy, rank, world_size)\n",
    "        \n",
    "        print('Validation loss: {}'.format(record_temp))\n",
    "        \n",
    "        if record - record_temp > 0:\n",
    "            print('Validation loss improved from {} to {}'.format(record, record_temp))\n",
    "            record = record_temp\n",
    "            print(\"Save to {}\".format(args['save_dir']))\n",
    "            dist.barrier()\n",
    "            states = model.state_dict()\n",
    "            if rank == 0:\n",
    "                torch.save(states, args['save_dir'])\n",
    "    \n",
    "    init_end_event.record()\n",
    "    # ========================================================= # \n",
    "    cleanup()"
   ]
  },
  {
   "cell_type": "code",
   "execution_count": 47,
   "id": "713ba172-6cd0-4d46-b6e7-35e1eedfde5e",
   "metadata": {},
   "outputs": [],
   "source": [
    "args = {}\n",
    "args['batch_size'] = 64\n",
    "args['test_batch_size'] = 64\n",
    "args['lr'] = 1e-3\n",
    "args['gamma'] = 0.7\n",
    "args['N_epoch'] = 10\n",
    "args['save_dir'] = '/glade/work/ksha/torch_models/oxford_unet_fsdp.pth'\n",
    "args['load_weights'] = True"
   ]
  },
  {
   "cell_type": "code",
   "execution_count": 48,
   "id": "0066d560-f402-474f-a129-2f58f4c99ee8",
   "metadata": {},
   "outputs": [],
   "source": [
    "WORLD_SIZE = int(os.environ[\"RANK\"])\n",
    "RANK = int(os.environ[\"WORLD_SIZE\"])"
   ]
  },
  {
   "cell_type": "code",
   "execution_count": 50,
   "id": "a1d0fe48-f85f-470b-a9f6-3e5bfb323a79",
   "metadata": {},
   "outputs": [
    {
     "name": "stdout",
     "output_type": "stream",
     "text": [
      "Initial loss: 1.5559190511703491\n",
      "Validation loss: 2.173408269882202\n",
      "Validation loss: 1.880489706993103\n",
      "Validation loss: 1.6424287557601929\n",
      "Validation loss: 1.5664561986923218\n",
      "Validation loss: 1.494179129600525\n",
      "Validation loss improved from 1.5559190511703491 to 1.494179129600525\n",
      "Save to /glade/work/ksha/torch_models/oxford_unet_fsdp.pth\n",
      "Validation loss: 1.4567431211471558\n",
      "Validation loss improved from 1.494179129600525 to 1.4567431211471558\n",
      "Save to /glade/work/ksha/torch_models/oxford_unet_fsdp.pth\n",
      "Validation loss: 1.4873199462890625\n",
      "Validation loss: 1.442490816116333\n",
      "Validation loss improved from 1.4567431211471558 to 1.442490816116333\n",
      "Save to /glade/work/ksha/torch_models/oxford_unet_fsdp.pth\n",
      "Validation loss: 1.4310860633850098\n",
      "Validation loss improved from 1.442490816116333 to 1.4310860633850098\n",
      "Save to /glade/work/ksha/torch_models/oxford_unet_fsdp.pth\n",
      "Validation loss: 1.4719133377075195\n"
     ]
    }
   ],
   "source": [
    "fsdp_main(RANK, WORLD_SIZE, args)"
   ]
  },
  {
   "cell_type": "code",
   "execution_count": null,
   "id": "84cc59da-086a-4e1b-bb55-18dd051b2e52",
   "metadata": {},
   "outputs": [],
   "source": [
    "cleanup()"
   ]
  },
  {
   "cell_type": "markdown",
   "id": "e56cffd7-b7f0-44bc-8858-850156d7a280",
   "metadata": {},
   "source": [
    "Running on a script:\n",
    "\n",
    "```bash\n",
    "# double check GPU environment\n",
    "nvidia-smi \n",
    "\n",
    "# run FSDP\n",
    "torchrun --nnodes=1 --nproc-per-node=4 FSDP_tests.py\n",
    "```"
   ]
  },
  {
   "cell_type": "markdown",
   "id": "c31f6987-61bb-429b-b66e-4fdb52d458ec",
   "metadata": {},
   "source": [
    "**Load model and test**"
   ]
  },
  {
   "cell_type": "code",
   "execution_count": 51,
   "id": "8c717628-65d8-4524-9de5-8312780829e2",
   "metadata": {},
   "outputs": [
    {
     "data": {
      "text/plain": [
       "<All keys matched successfully>"
      ]
     },
     "execution_count": 51,
     "metadata": {},
     "output_type": "execute_result"
    }
   ],
   "source": [
    "model = UNet(n_channels=3, n_classes=3).to(\"cuda\")\n",
    "model.load_state_dict(torch.load(args['save_dir']))"
   ]
  },
  {
   "cell_type": "code",
   "execution_count": 55,
   "id": "8d69eede-6edf-443e-9ade-1b03c530bbe1",
   "metadata": {},
   "outputs": [],
   "source": [
    "N_sample = 64\n",
    "\n",
    "train_data = base_loader(sample_names[ind_train], label_names[ind_train], \n",
    "                         size=128, channel_input=3, channel_target=1)\n",
    "\n",
    "valid_data = base_loader(sample_names[ind_valid], label_names[ind_valid], \n",
    "                         size=128, channel_input=3, channel_target=1)\n",
    "\n",
    "train_loader = DataLoader(train_data, batch_size=N_sample, shuffle=True)\n",
    "valid_loader = DataLoader(valid_data, batch_size=N_sample)\n",
    "\n",
    "# Test dataloader\n",
    "train_input, train_target = next(iter(train_loader))"
   ]
  },
  {
   "cell_type": "code",
   "execution_count": 56,
   "id": "d9084fdf-3d00-4893-9b36-0d6878ad7134",
   "metadata": {},
   "outputs": [],
   "source": [
    "train_input, train_target = next(iter(train_loader))\n",
    "train_input = train_input.to(\"cuda\")\n",
    "y_pred = model(train_input)\n",
    "y_pred = y_pred.cpu().detach().numpy()"
   ]
  },
  {
   "cell_type": "code",
   "execution_count": 57,
   "id": "1ddbbd74-53c3-463f-b7ea-417766d88240",
   "metadata": {},
   "outputs": [
    {
     "data": {
      "text/plain": [
       "<matplotlib.collections.QuadMesh at 0x14adb83305b0>"
      ]
     },
     "execution_count": 57,
     "metadata": {},
     "output_type": "execute_result"
    },
    {
     "data": {
      "image/png": "[encoded data removed]",
      "text/plain": [
       "<Figure size 640x480 with 1 Axes>"
      ]
     },
     "metadata": {},
     "output_type": "display_data"
    }
   ],
   "source": [
    "plt.pcolormesh(train_target[0, 2, ...])"
   ]
  },
  {
   "cell_type": "code",
   "execution_count": 58,
   "id": "37cc4700-d8cc-4c41-bbc7-47cbe9563d95",
   "metadata": {},
   "outputs": [
    {
     "data": {
      "text/plain": [
       "<matplotlib.collections.QuadMesh at 0x14ae10d62b60>"
      ]
     },
     "execution_count": 58,
     "metadata": {},
     "output_type": "execute_result"
    },
    {
     "data": {
      "image/png": "[encoded data removed]",
      "text/plain": [
       "<Figure size 640x480 with 1 Axes>"
      ]
     },
     "metadata": {},
     "output_type": "display_data"
    }
   ],
   "source": [
    "plt.pcolormesh(y_pred[0, 2, ...])"
   ]
  },
  {
   "cell_type": "code",
   "execution_count": null,
   "id": "a8edecbe-fec9-46a8-ac03-3243c7a4af39",
   "metadata": {},
   "outputs": [],
   "source": []
  }
 ],
 "metadata": {
  "kernelspec": {
   "display_name": "Python 3 (ipykernel)",
   "language": "python",
   "name": "python3"
  },
  "language_info": {
   "codemirror_mode": {
    "name": "ipython",
    "version": 3
   },
   "file_extension": ".py",
   "mimetype": "text/x-python",
   "name": "python",
   "nbconvert_exporter": "python",
   "pygments_lexer": "ipython3",
   "version": "3.10.13"
  }
 },
 "nbformat": 4,
 "nbformat_minor": 5
}
