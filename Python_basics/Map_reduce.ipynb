{
 "cells": [
  {
   "cell_type": "markdown",
   "id": "e970c9a9-f3ac-428a-ab54-3118d427ce76",
   "metadata": {},
   "source": [
    "# Map reduce example"
   ]
  },
  {
   "cell_type": "code",
   "execution_count": null,
   "id": "a864a770-ff43-4bf6-800e-ac03b6d0e10c",
   "metadata": {},
   "outputs": [],
   "source": []
  },
  {
   "cell_type": "code",
   "execution_count": 1,
   "id": "e5ff2bc3-28c6-498f-ac37-ce8948db0a3e",
   "metadata": {},
   "outputs": [],
   "source": [
    "def find_longest_string(list_of_strings):\n",
    "    longest_string = None\n",
    "    longest_string_len = 0 \n",
    "    for s in list_of_strings:\n",
    "        if len(s) > longest_string_len:\n",
    "            longest_string_len = len(s)\n",
    "            longest_string = s\n",
    "    return longest_string"
   ]
  },
  {
   "cell_type": "code",
   "execution_count": 3,
   "id": "db7871fd-ad7f-45c9-a142-41170c8f2058",
   "metadata": {},
   "outputs": [
    {
     "name": "stdout",
     "output_type": "stream",
     "text": [
      "CPU times: user 5 µs, sys: 2 µs, total: 7 µs\n",
      "Wall time: 10.7 µs\n",
      "python\n"
     ]
    }
   ],
   "source": [
    "list_of_strings = ['abc', 'python', 'dima']\n",
    "%time \n",
    "max_length = print(find_longest_string(list_of_strings))"
   ]
  },
  {
   "cell_type": "code",
   "execution_count": 4,
   "id": "79c0b2a9-717c-4b01-ac06-b6b011c90ce3",
   "metadata": {},
   "outputs": [
    {
     "name": "stdout",
     "output_type": "stream",
     "text": [
      "CPU times: user 4 µs, sys: 2 µs, total: 6 µs\n",
      "Wall time: 12.4 µs\n"
     ]
    }
   ],
   "source": [
    "large_list_of_strings = list_of_strings*100000000\n",
    "%time \n",
    "max_length = max(large_list_of_strings, key=len)"
   ]
  },
  {
   "cell_type": "code",
   "execution_count": null,
   "id": "e021defb-0285-4b68-8ec4-89174e077cb9",
   "metadata": {},
   "outputs": [],
   "source": []
  },
  {
   "cell_type": "code",
   "execution_count": 11,
   "id": "36994fc3-f7b7-4633-9d80-0cf0a9d2f8cb",
   "metadata": {},
   "outputs": [
    {
     "name": "stdout",
     "output_type": "stream",
     "text": [
      "('python', 6)\n",
      "CPU times: user 139 µs, sys: 0 ns, total: 139 µs\n",
      "Wall time: 147 µs\n"
     ]
    }
   ],
   "source": [
    "%%time\n",
    "# step 1:\n",
    "list_of_string_lens = [len(s) for s in list_of_strings]\n",
    "list_of_string_lens = zip(list_of_strings, list_of_string_lens)\n",
    "\n",
    "# #step 2:\n",
    "max_len = max(list_of_string_lens)\n",
    "print(max_len)"
   ]
  },
  {
   "cell_type": "code",
   "execution_count": 28,
   "id": "81042854-627a-4758-8ae8-98d6f9726774",
   "metadata": {},
   "outputs": [],
   "source": [
    "from functools import reduce"
   ]
  },
  {
   "cell_type": "code",
   "execution_count": 14,
   "id": "49b11ff7-9164-4c40-b719-b2ace56282b1",
   "metadata": {},
   "outputs": [],
   "source": [
    "def reducer(p, c):\n",
    "    if p[1] > c[1]:\n",
    "        return p\n",
    "    return c\n",
    "\n",
    "mapper = len"
   ]
  },
  {
   "cell_type": "code",
   "execution_count": 29,
   "id": "45358e9f-2643-4b9d-b5ae-c92f57b00056",
   "metadata": {},
   "outputs": [],
   "source": [
    "def chunkify(L, n):\n",
    "    \"\"\" Yield successive n-sized chunks from L.\n",
    "    \"\"\"\n",
    "    for i in range(0, len(L), n):\n",
    "        yield L[i:i+n]"
   ]
  },
  {
   "cell_type": "code",
   "execution_count": 25,
   "id": "c5aea2f5-d8c6-4950-a18d-0cf9a0ac0a6a",
   "metadata": {},
   "outputs": [],
   "source": [
    "mapped = map(mapper, list_of_strings)\n",
    "mapped = zip(list_of_strings, mapped)\n",
    "reduced = reduce(reducer, mapped)"
   ]
  },
  {
   "cell_type": "code",
   "execution_count": 17,
   "id": "2dbf1c02-6c96-4b7a-ad79-32deeec2f7fb",
   "metadata": {},
   "outputs": [],
   "source": []
  },
  {
   "cell_type": "code",
   "execution_count": 30,
   "id": "33e73d24-20d1-4e8d-af92-dc0d03a62f34",
   "metadata": {},
   "outputs": [],
   "source": [
    "data_chunks = chunkify(list_of_strings*10000, n=30)"
   ]
  },
  {
   "cell_type": "code",
   "execution_count": 31,
   "id": "145389cd-3cb9-4d6b-bd30-d8975200d4fc",
   "metadata": {},
   "outputs": [
    {
     "data": {
      "text/plain": [
       "<generator object chunkify at 0x147b6cc15690>"
      ]
     },
     "execution_count": 31,
     "metadata": {},
     "output_type": "execute_result"
    }
   ],
   "source": [
    "data_chunks"
   ]
  },
  {
   "cell_type": "code",
   "execution_count": 20,
   "id": "8fffc605-f068-402e-81dc-38231dd4af54",
   "metadata": {},
   "outputs": [
    {
     "data": {
      "text/plain": [
       "('python', 6)"
      ]
     },
     "execution_count": 20,
     "metadata": {},
     "output_type": "execute_result"
    }
   ],
   "source": [
    "#step 1:\n",
    "reduced_all = []\n",
    "for chunk in data_chunks:\n",
    "    mapped_chunk = map(mapper, chunk)\n",
    "    mapped_chunk = zip(chunk, mapped_chunk)\n",
    "    \n",
    "    reduced_chunk = reduce(reducer, mapped_chunk)\n",
    "    reduced_all.append(reduced_chunk)\n",
    "    \n",
    "#step 2:\n",
    "reduced = reduce(reducer, reduced_all)"
   ]
  },
  {
   "cell_type": "code",
   "execution_count": 24,
   "id": "b8e49a03-7209-47ef-a8c1-dc135e4039b2",
   "metadata": {},
   "outputs": [
    {
     "data": {
      "text/plain": [
       "[3, 6, 4]"
      ]
     },
     "execution_count": 24,
     "metadata": {},
     "output_type": "execute_result"
    }
   ],
   "source": [
    "def chunks_mapper(chunk):\n",
    "    mapped_chunk = map(mapper, chunk) \n",
    "    mapped_chunk = zip(chunk, mapped_chunk)\n",
    "    return reduce(reducer, mapped_chunk)\n",
    "    \n",
    "%%time\n",
    "data_chunks = chunkify(list_of_strings, number_of_chunks=30)\n",
    "#step 1:\n",
    "mapped = map(chunks_mapper, data_chunks)\n",
    "#step 2:\n",
    "reduced = reduce(reducer, mapped)\n",
    "print(reduced)"
   ]
  },
  {
   "cell_type": "code",
   "execution_count": null,
   "id": "519cb929-0f63-4c0c-b9dd-c703db5b72d2",
   "metadata": {},
   "outputs": [],
   "source": []
  }
 ],
 "metadata": {
  "kernelspec": {
   "display_name": "Python 3 (ipykernel)",
   "language": "python",
   "name": "python3"
  },
  "language_info": {
   "codemirror_mode": {
    "name": "ipython",
    "version": 3
   },
   "file_extension": ".py",
   "mimetype": "text/x-python",
   "name": "python",
   "nbconvert_exporter": "python",
   "pygments_lexer": "ipython3",
   "version": "3.10.13"
  }
 },
 "nbformat": 4,
 "nbformat_minor": 5
}
