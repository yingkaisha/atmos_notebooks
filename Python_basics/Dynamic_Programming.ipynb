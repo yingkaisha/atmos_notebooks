{
 "cells": [
  {
   "cell_type": "code",
   "execution_count": 6,
   "metadata": {},
   "outputs": [],
   "source": [
    "import numpy as np"
   ]
  },
  {
   "cell_type": "markdown",
   "metadata": {},
   "source": [
    "### Robots unique path"
   ]
  },
  {
   "cell_type": "markdown",
   "metadata": {},
   "source": [
    "In a m-by-n gridded frame, a robot moves from one corner to the other, how many unique path could it choose?"
   ]
  },
  {
   "cell_type": "code",
   "execution_count": 57,
   "metadata": {},
   "outputs": [],
   "source": [
    "def uniquePaths(m, n):\n",
    "    \"\"\"\n",
    "    :type m: int\n",
    "    :type n: int\n",
    "    :rtype: int\n",
    "    \"\"\"\n",
    "    dp = [[0] * m for _ in range(n)]\n",
    "    for i in range(n):\n",
    "        for j in range(m):\n",
    "            if i == 0 and j == 0:\n",
    "                dp[i][j] = 1\n",
    "            elif i == 0:\n",
    "                dp[i][j] = dp[i][j-1]\n",
    "            elif j == 0:\n",
    "                dp[i][j] = dp[i-1][j]\n",
    "            else:\n",
    "                dp[i][j] = dp[i-1][j] + dp[i][j-1]\n",
    "    return dp"
   ]
  },
  {
   "cell_type": "code",
   "execution_count": 58,
   "metadata": {},
   "outputs": [
    {
     "data": {
      "text/plain": [
       "[[1, 1, 1], [1, 2, 3]]"
      ]
     },
     "execution_count": 58,
     "metadata": {},
     "output_type": "execute_result"
    }
   ],
   "source": [
    "uniquePaths(3, 2)"
   ]
  },
  {
   "cell_type": "markdown",
   "metadata": {},
   "source": [
    "**Solution**\n",
    "\n",
    "When you are at (i-1, j-1) and heading (i, j), your paths are:\n",
    "\n",
    "1. (i-1,j-1) --> (i, j-1) --> (i, j)\n",
    "\n",
    "2. (i-1,j-1) --> (i-1, j) --> (i, j)"
   ]
  },
  {
   "cell_type": "markdown",
   "metadata": {},
   "source": [
    "### Unique path with obstacles\n",
    "\n",
    "Now consider if some obstacles are added to the grids. How many unique paths would there be?"
   ]
  },
  {
   "cell_type": "code",
   "execution_count": 72,
   "metadata": {},
   "outputs": [],
   "source": [
    "def path_obstacles(m, n, blocker_locs):\n",
    "    '''\n",
    "    '''\n",
    "    \n",
    "    path = [[0,]*n,]*m\n",
    "    \n",
    "    for i in range(m):\n",
    "        for j in range(n):\n",
    "            if blocker_locs[i][j] == 1:\n",
    "                path[i][j] = 0\n",
    "            else:\n",
    "                if i == 0 and j == 0:\n",
    "                    path[i][j] = 1\n",
    "                elif i == 0:\n",
    "                    path[i][j] = path[i][j-1]\n",
    "                elif j == 0:\n",
    "                    path[i][j] = path[i-1][j]\n",
    "                else:\n",
    "                    path[i][j] = path[i-1][j] + path[i][j-1]\n",
    "    return path"
   ]
  },
  {
   "cell_type": "code",
   "execution_count": 74,
   "metadata": {},
   "outputs": [
    {
     "data": {
      "text/plain": [
       "[[1, 1, 2], [1, 1, 2], [1, 1, 2]]"
      ]
     },
     "execution_count": 74,
     "metadata": {},
     "output_type": "execute_result"
    }
   ],
   "source": [
    "# single middle bloker\n",
    "path_obstacles(3, 3, [[0,0,0],[0,1,0],[0,0,0]])"
   ]
  },
  {
   "cell_type": "code",
   "execution_count": null,
   "metadata": {},
   "outputs": [],
   "source": []
  },
  {
   "cell_type": "markdown",
   "metadata": {},
   "source": [
    "### Robbr problem"
   ]
  },
  {
   "cell_type": "markdown",
   "metadata": {},
   "source": [
    "You are a professional robber planning to rob houses along a street. Each house has a certain amount of money stashed, the only constraint stopping you from robbing each of them is that adjacent houses have security systems connected and it will automatically contact the police if two adjacent houses were broken into on the same night.\n",
    "\n",
    "Given an integer array nums representing the amount of money of each house, return the maximum amount of money you can rob tonight without alerting the police."
   ]
  },
  {
   "cell_type": "markdown",
   "metadata": {},
   "source": [
    "**Example**\n",
    "\n",
    "Input: nums = [1,2,3,1]\n",
    "\n",
    "Output: 4\n",
    "\n",
    "Explanation: Rob house 1 (money = 1) and then rob house 3 (money = 3).\n",
    "\n",
    "Total amount you can rob = 1 + 3 = 4."
   ]
  },
  {
   "cell_type": "code",
   "execution_count": 26,
   "metadata": {},
   "outputs": [],
   "source": [
    "def robber(prices,):\n",
    "    '''\n",
    "    '''\n",
    "    L = len(prices)\n",
    "    \n",
    "    # allocation\n",
    "    gain_accum = [0,]*(L+1) # +1 becuase 0 house\n",
    "    \n",
    "    gain_accum[0] = 0\n",
    "    gain_accum[1] = prices[0]\n",
    "    \n",
    "    # hourse 0 has 0 gain\n",
    "    prices = [0,] + prices\n",
    "    \n",
    "    # (rob i and i-2) v.s. (rob i-1)\n",
    "    for i in range(2, L+1):\n",
    "        gain_accum[i] = max(gain_accum[i-2]+prices[i] , gain_accum[i-1])\n",
    "        \n",
    "    return gain_accum[-1]"
   ]
  },
  {
   "cell_type": "code",
   "execution_count": 24,
   "metadata": {},
   "outputs": [
    {
     "data": {
      "text/plain": [
       "12"
      ]
     },
     "execution_count": 24,
     "metadata": {},
     "output_type": "execute_result"
    }
   ],
   "source": [
    "robber([2,7,9,3,1],)"
   ]
  },
  {
   "cell_type": "markdown",
   "metadata": {},
   "source": [
    "**Generalized**: houses are arranged in a circle. "
   ]
  },
  {
   "cell_type": "code",
   "execution_count": 38,
   "metadata": {},
   "outputs": [],
   "source": [
    "def robber_circle(prices,):\n",
    "    '''\n",
    "    '''\n",
    "    L = len(prices)\n",
    "    \n",
    "    # plan A: steal the first one, skip the last one\n",
    "    prices_A = prices[:-1] # slice copy\n",
    "    prices_A = [0,]+prices_A\n",
    "    \n",
    "    gain_accum_A = [0,]*L\n",
    "    gain_accum_A[0] = prices_A[0]\n",
    "    gain_accum_A[1] = prices_A[1]\n",
    "    \n",
    "    # plan B: skip the first one, steal the last one\n",
    "    prices_B = prices[1:]\n",
    "    prices_B = [0,]+prices_B\n",
    "    \n",
    "    gain_accum_B = [0,]*L\n",
    "    gain_accum_B[0] = prices_B[0]\n",
    "    gain_accum_B[1] = prices_B[1]\n",
    "    \n",
    "    # start from 2 house cases\n",
    "    for i in range(2, L):\n",
    "        gain_accum_A[i] = max(gain_accum_A[i-1], gain_accum_A[i-2]+prices_A[i])\n",
    "        gain_accum_B[i] = max(gain_accum_B[i-1], gain_accum_B[i-2]+prices_B[i])\n",
    "        \n",
    "    return max(gain_accum_A[-1], gain_accum_B[-1]) "
   ]
  },
  {
   "cell_type": "code",
   "execution_count": null,
   "metadata": {},
   "outputs": [],
   "source": []
  },
  {
   "cell_type": "code",
   "execution_count": 37,
   "metadata": {},
   "outputs": [
    {
     "data": {
      "text/plain": [
       "3"
      ]
     },
     "execution_count": 37,
     "metadata": {},
     "output_type": "execute_result"
    }
   ],
   "source": [
    "robber_circle([1,2,3],)"
   ]
  },
  {
   "cell_type": "markdown",
   "metadata": {},
   "source": [
    "### Out-of-bound problem"
   ]
  },
  {
   "cell_type": "markdown",
   "metadata": {},
   "source": [
    "There is an m x n grid with a ball. The ball is initially at the position [startRow, startColumn]. You are allowed to move the ball to one of the four adjacent cells in the grid (possibly out of the grid crossing the grid boundary). You can apply at most maxMove moves to the ball.\n",
    "\n",
    "Given the five integers m, n, maxMove, startRow, startColumn, return the number of paths to move the ball out of the grid boundary. Since the answer can be very large, return it modulo 109 + 7.\n",
    "\n",
    "```\n",
    "Input: m = 2, n = 2, maxMove = 2, startRow = 0, startColumn = 0\n",
    "Output: 6\n",
    "```\n",
    "\n",
    "```\n",
    "Input: m = 1, n = 3, maxMove = 3, startRow = 0, startColumn = 1\n",
    "Output: 12\n",
    "```"
   ]
  },
  {
   "cell_type": "code",
   "execution_count": null,
   "metadata": {},
   "outputs": [],
   "source": []
  },
  {
   "cell_type": "code",
   "execution_count": null,
   "metadata": {},
   "outputs": [],
   "source": [
    "def football(m, n, maxMove, startRow, startColumn):\n",
    "    '''\n",
    "    '''\n",
    "    \n",
    "    oob_counts = [[[0,]*m,]*n,]*maxMove\n",
    "    \n",
    "    "
   ]
  },
  {
   "cell_type": "code",
   "execution_count": null,
   "metadata": {},
   "outputs": [],
   "source": []
  }
 ],
 "metadata": {
  "kernelspec": {
   "display_name": "Python 3",
   "language": "python",
   "name": "python3"
  },
  "language_info": {
   "codemirror_mode": {
    "name": "ipython",
    "version": 3
   },
   "file_extension": ".py",
   "mimetype": "text/x-python",
   "name": "python",
   "nbconvert_exporter": "python",
   "pygments_lexer": "ipython3",
   "version": "3.6.8"
  }
 },
 "nbformat": 4,
 "nbformat_minor": 4
}
