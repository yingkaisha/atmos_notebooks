{
 "cells": [
  {
   "cell_type": "markdown",
   "metadata": {},
   "source": [
    "### Quick sort"
   ]
  },
  {
   "cell_type": "code",
   "execution_count": 1,
   "metadata": {},
   "outputs": [],
   "source": [
    "X = [4, 3, 6, 9, 3, 7, 1, 9, 4, 5, 6, 1, 2, 7, 4, 89, 11, -3]"
   ]
  },
  {
   "cell_type": "code",
   "execution_count": 11,
   "metadata": {},
   "outputs": [],
   "source": [
    "def quick_sort(X, ind0, ind1):\n",
    "    \n",
    "    # single-element list is sorted\n",
    "    if ind0 >= ind1:\n",
    "        return X\n",
    "    \n",
    "    # define walkers\n",
    "    walk0 = ind0\n",
    "    walk1 = ind1\n",
    "    \n",
    "    # take the 1st available element as pviot\n",
    "    pviot = X[ind0]\n",
    "    \n",
    "    while walk0 < walk1:\n",
    "        \n",
    "        # place large elements to the right-side of the pivot\n",
    "        while (walk0 < walk1) and (X[walk1] >= pviot):\n",
    "            walk1 -= 1\n",
    "            \n",
    "        X[walk0], X[walk1] = X[walk1], X[walk0]\n",
    "        \n",
    "        # place small elements to the left-side of the pivot\n",
    "        while (walk0 < walk1) and (X[walk0] <= pviot):\n",
    "            walk0 += 1\n",
    "            \n",
    "        X[walk0], X[walk1] = X[walk1], X[walk0]\n",
    "    \n",
    "    # walkers should meet on the pivot location.\n",
    "    if X[walk0] != pviot:\n",
    "        print('warning: loop ends but walkers have not met.')\n",
    "        \n",
    "    quick_sort(X, ind0, walk1-1)\n",
    "    quick_sort(X, walk0+1, ind1)\n",
    "    \n",
    "    return X"
   ]
  },
  {
   "cell_type": "code",
   "execution_count": 12,
   "metadata": {},
   "outputs": [
    {
     "data": {
      "text/plain": [
       "[-3, 1, 1, 2, 3, 3, 4, 4, 4, 5, 6, 6, 7, 7, 9, 9, 11, 89]"
      ]
     },
     "execution_count": 12,
     "metadata": {},
     "output_type": "execute_result"
    }
   ],
   "source": [
    "quick_sort(X, 0, len(X)-1)"
   ]
  },
  {
   "cell_type": "code",
   "execution_count": 6,
   "metadata": {},
   "outputs": [
    {
     "data": {
      "text/plain": [
       "[-3, 2, 6, 9, 3, 7, 1, 9, 4, 5, 6, 1, 3, 7, 4, 89, 11, 4]"
      ]
     },
     "execution_count": 6,
     "metadata": {},
     "output_type": "execute_result"
    }
   ],
   "source": [
    "X"
   ]
  },
  {
   "cell_type": "markdown",
   "metadata": {},
   "source": [
    "### Bubble sort"
   ]
  },
  {
   "cell_type": "code",
   "execution_count": 107,
   "metadata": {},
   "outputs": [],
   "source": [
    "X = [4, 3, 6, 9, 3, 7, 1, 9, 4, 5, 6, 1, 2, 7, 4, 89, 11, -3]"
   ]
  },
  {
   "cell_type": "code",
   "execution_count": 111,
   "metadata": {},
   "outputs": [],
   "source": [
    "def bubble_sort(X):\n",
    "    '''\n",
    "    Bubble sort\n",
    "    '''\n",
    "    \n",
    "    L = len(X)\n",
    "    flag_swap = True\n",
    "    \n",
    "    for i in range(L):\n",
    "        \n",
    "        # the last i^th element will in its order during the (i+1)^th loop\n",
    "        # So L-(i+1)\n",
    "        \n",
    "        for j in range(L-i-1):\n",
    "            if X[j] > X[j+1]:\n",
    "                X[j], X[j+1] = X[j+1], X[j]\n",
    "                flag_swap = True\n",
    "            else:\n",
    "                flag_swap = False\n",
    "        \n",
    "        # exit if all the remained elements are ordered (no swaping)\n",
    "        if flag_swap is False:\n",
    "            return X\n",
    "        \n",
    "    return X\n",
    "            \n",
    "        "
   ]
  },
  {
   "cell_type": "code",
   "execution_count": 110,
   "metadata": {},
   "outputs": [
    {
     "data": {
      "text/plain": [
       "[-3, 1, 1, 2, 3, 3, 4, 4, 4, 5, 6, 6, 7, 7, 9, 9, 11, 89]"
      ]
     },
     "execution_count": 110,
     "metadata": {},
     "output_type": "execute_result"
    }
   ],
   "source": [
    "bubble_sort(X)"
   ]
  },
  {
   "cell_type": "code",
   "execution_count": null,
   "metadata": {},
   "outputs": [],
   "source": [
    "### "
   ]
  },
  {
   "cell_type": "code",
   "execution_count": null,
   "metadata": {},
   "outputs": [],
   "source": []
  }
 ],
 "metadata": {
  "kernelspec": {
   "display_name": "Python 3",
   "language": "python",
   "name": "python3"
  },
  "language_info": {
   "codemirror_mode": {
    "name": "ipython",
    "version": 3
   },
   "file_extension": ".py",
   "mimetype": "text/x-python",
   "name": "python",
   "nbconvert_exporter": "python",
   "pygments_lexer": "ipython3",
   "version": "3.6.8"
  }
 },
 "nbformat": 4,
 "nbformat_minor": 4
}
