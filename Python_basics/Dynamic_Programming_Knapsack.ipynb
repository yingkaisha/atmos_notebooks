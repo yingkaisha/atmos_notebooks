{
 "cells": [
  {
   "cell_type": "markdown",
   "metadata": {},
   "source": [
    "# Dynamic Programming - 0/1 Knapsack"
   ]
  },
  {
   "cell_type": "markdown",
   "metadata": {},
   "source": [
    "### Packing fruits"
   ]
  },
  {
   "cell_type": "markdown",
   "metadata": {},
   "source": [
    "Given the weights and profits of ‘N’ items, we are asked to put these items in a knapsack that has a capacity ‘C’. The goal is to get the maximum profit from the items in the knapsack. Each item can only be selected once, as we don’t have multiple quantities of any item.\n",
    "\n",
    "Source: https://www.educative.io/courses/grokking-dynamic-programming-patterns-for-coding-interviews/RM1BDv71V60\n",
    "\n",
    "Let’s take Merry’s example, who wants to carry some fruits in the knapsack to get maximum profit. Here are the weights and profits of the fruits:\n",
    "\n",
    "```\n",
    "Items: { Apple, Orange, Banana, Melon }\n",
    "Weights: { 2, 3, 1, 4 }\n",
    "Profits: { 4, 5, 3, 7 }\n",
    "Knapsack capacity: 5\n",
    "```\n",
    "\n",
    "Let’s try to put different combinations of fruits in the knapsack, such that their total weight is not more than 5:\n",
    "\n",
    "```\n",
    "Apple + Orange (total weight 5) => 9 profit\n",
    "Apple + Banana (total weight 3) => 7 profit\n",
    "Orange + Banana (total weight 4) => 8 profit\n",
    "Banana + Melon (total weight 5) => 10 profit\n",
    "```\n",
    "\n",
    "This shows that Banana + Melon is the best combination, as it gives us the maximum profit and the total weight does not exceed the capacity."
   ]
  },
  {
   "cell_type": "code",
   "execution_count": 1,
   "metadata": {},
   "outputs": [],
   "source": [
    "class Solution:\n",
    "    def fruits(self, weights, values, capacity):\n",
    "        '''\n",
    "        '''\n",
    "        \n",
    "        L = len(weights)\n",
    "        \n",
    "        value_accum = []\n",
    "        \n",
    "        for i in range(L):\n",
    "            value_accum.append([])\n",
    "            for cap in range(capacity+1):\n",
    "                value_accum[i].append(0)\n",
    "                \n",
    "        value_accum[0][weights[0]] = values[0]\n",
    "        \n",
    "        for i in range(1, L):\n",
    "            for cap in range(capacity+1):\n",
    "                if weights[i] > cap:\n",
    "                    value_accum[i][cap] = value_accum[i-1][cap]\n",
    "                else:\n",
    "                    value_accum[i][cap] = max(value_accum[i-1][cap], value_accum[i-1][cap-weights[i]]+values[i])\n",
    "        \n",
    "        return value_accum"
   ]
  },
  {
   "cell_type": "code",
   "execution_count": 2,
   "metadata": {},
   "outputs": [
    {
     "data": {
      "text/plain": [
       "[[0, 0, 4, 0, 0, 0],\n",
       " [0, 0, 4, 5, 5, 9],\n",
       " [0, 3, 4, 7, 8, 9],\n",
       " [0, 3, 4, 7, 8, 10]]"
      ]
     },
     "execution_count": 2,
     "metadata": {},
     "output_type": "execute_result"
    }
   ],
   "source": [
    "solver = Solution()\n",
    "solver.fruits([2, 3, 1, 4], [4, 5, 3, 7], 5)"
   ]
  },
  {
   "cell_type": "code",
   "execution_count": 32,
   "metadata": {},
   "outputs": [],
   "source": [
    "class Solution:\n",
    "    def fruits(self, weights, values, capacity):\n",
    "        '''\n",
    "        '''\n",
    "        \n",
    "        L = len(weights)\n",
    "        \n",
    "        value_accum = [0,]*(capacity+1)\n",
    "        \n",
    "        for i in range(L):\n",
    "            weight = weights[i]\n",
    "            for cap in range(capacity, -1, -1):\n",
    "                if weight <= cap:\n",
    "                    value_accum[cap] = max(value_accum[cap], value_accum[cap-weight]+values[i])\n",
    "\n",
    "        return value_accum"
   ]
  },
  {
   "cell_type": "code",
   "execution_count": 33,
   "metadata": {},
   "outputs": [
    {
     "data": {
      "text/plain": [
       "[0, 3, 4, 7, 8, 10]"
      ]
     },
     "execution_count": 33,
     "metadata": {},
     "output_type": "execute_result"
    }
   ],
   "source": [
    "solver = Solution()\n",
    "solver.fruits([2, 3, 1, 4], [4, 5, 3, 7], 5)"
   ]
  },
  {
   "cell_type": "markdown",
   "metadata": {},
   "source": [
    "The max profit is 10"
   ]
  },
  {
   "cell_type": "markdown",
   "metadata": {},
   "source": [
    "### Partition Equal Subset Sum\n",
    "\n",
    "Given a non-empty array nums containing only positive integers, find if the array can be partitioned into two subsets such that the sum of elements in both subsets is equal.\n",
    "\n",
    "Source: https://leetcode.com/problems/partition-equal-subset-sum/\n",
    "\n",
    "Example 1:\n",
    "\n",
    "```\n",
    "Input: nums = [1,5,11,5]\n",
    "Output: true\n",
    "Explanation: The array can be partitioned as [1, 5, 5] and [11].\n",
    "```\n",
    "\n",
    "Example 2:\n",
    "\n",
    "```\n",
    "Input: nums = [1,2,3,5]\n",
    "Output: false\n",
    "Explanation: The array cannot be partitioned into equal sum subsets.\n",
    "```"
   ]
  },
  {
   "cell_type": "code",
   "execution_count": 76,
   "metadata": {},
   "outputs": [],
   "source": [
    "class Solution:\n",
    "    def canPartition(self, nums):\n",
    "        '''\n",
    "        '''\n",
    "        \n",
    "        L = len(nums)\n",
    "        \n",
    "        if L < 1:\n",
    "            return False\n",
    "        \n",
    "        total_num = sum(nums)\n",
    "        max_num = max(nums)\n",
    "        \n",
    "        if total_num % 2 == 1:\n",
    "            return False\n",
    "        else:\n",
    "            half_num = int(total_num/2)\n",
    "            \n",
    "            if max_num > half_num:\n",
    "                return False\n",
    "        \n",
    "        subset_flag = []\n",
    "        \n",
    "        for i in range(L):\n",
    "            subset_flag.append([])\n",
    "            \n",
    "            # \"+1\" for starting from zero\n",
    "            for j in range(half_num+1):\n",
    "                subset_flag[i].append(False)\n",
    "                \n",
    "        # DP: initialization\n",
    "        ## 1. an empty subset sums to zero\n",
    "        subset_flag[0][0] = True\n",
    "        ## 2. The first single-element sums to itself\n",
    "        subset_flag[0][nums[0]] = True\n",
    "        \n",
    "        # DP: subseructure\n",
    "        ## 1. if number i is not used: i = i-1\n",
    "        ## 2. if number i is used: i = (i-1) or (sum minus number i)\n",
    "        for i in range(1, L):\n",
    "            for val in range(half_num+1):\n",
    "                if nums[i] > val:\n",
    "                    subset_flag[i][val] = subset_flag[i-1][val]\n",
    "                else:\n",
    "                    subset_flag[i][val] = (subset_flag[i-1][val]) or (subset_flag[i-1][val-nums[i]])\n",
    "                    \n",
    "        return subset_flag[-1][-1]"
   ]
  },
  {
   "cell_type": "code",
   "execution_count": 77,
   "metadata": {},
   "outputs": [
    {
     "data": {
      "text/plain": [
       "True"
      ]
     },
     "execution_count": 77,
     "metadata": {},
     "output_type": "execute_result"
    }
   ],
   "source": [
    "solver = Solution()\n",
    "solver.canPartition([1,5,11,5])"
   ]
  },
  {
   "cell_type": "code",
   "execution_count": 78,
   "metadata": {},
   "outputs": [
    {
     "data": {
      "text/plain": [
       "True"
      ]
     },
     "execution_count": 78,
     "metadata": {},
     "output_type": "execute_result"
    }
   ],
   "source": [
    "solver.canPartition([3,3,7,7])"
   ]
  },
  {
   "cell_type": "code",
   "execution_count": 79,
   "metadata": {},
   "outputs": [
    {
     "data": {
      "text/plain": [
       "True"
      ]
     },
     "execution_count": 79,
     "metadata": {},
     "output_type": "execute_result"
    }
   ],
   "source": [
    "solver.canPartition([2,4,2])"
   ]
  },
  {
   "cell_type": "code",
   "execution_count": 48,
   "metadata": {},
   "outputs": [],
   "source": [
    "class Solution:\n",
    "    def canPartition(self, nums):\n",
    "        '''\n",
    "        '''\n",
    "        \n",
    "        L = len(nums)\n",
    "        N_sum = sum(nums)\n",
    "        \n",
    "        if N_sum % 2 == 1:\n",
    "            return False\n",
    "        else:\n",
    "            N_half = N_sum // 2 \n",
    "        \n",
    "        \n",
    "        flag_partition = [False,]*(N_half+1)\n",
    "        \n",
    "        \n",
    "        flag_partition[0] = True\n",
    "        \n",
    "        for i in range(L):\n",
    "            num = nums[i]\n",
    "            for val in range(N_half, -1, -1):\n",
    "                if num <= val:\n",
    "                    flag_partition[val] = flag_partition[val] or flag_partition[val-num]\n",
    "                    \n",
    "        return flag_partition[-1]"
   ]
  },
  {
   "cell_type": "code",
   "execution_count": 49,
   "metadata": {},
   "outputs": [
    {
     "data": {
      "text/plain": [
       "True"
      ]
     },
     "execution_count": 49,
     "metadata": {},
     "output_type": "execute_result"
    }
   ],
   "source": [
    "solver = Solution()\n",
    "solver.canPartition([1,5,11,5])"
   ]
  },
  {
   "cell_type": "code",
   "execution_count": 50,
   "metadata": {},
   "outputs": [
    {
     "data": {
      "text/plain": [
       "True"
      ]
     },
     "execution_count": 50,
     "metadata": {},
     "output_type": "execute_result"
    }
   ],
   "source": [
    "solver.canPartition([3,3,7,7])"
   ]
  },
  {
   "cell_type": "code",
   "execution_count": null,
   "metadata": {},
   "outputs": [],
   "source": []
  },
  {
   "cell_type": "markdown",
   "metadata": {},
   "source": [
    "**Partition Equal Subset Sum**\n",
    "\n",
    "You are given an integer array nums and an integer target.\n",
    "\n",
    "You want to build an expression out of nums by adding one of the symbols '+' and '-' before each integer in nums and then concatenate all the integers.\n",
    "\n",
    "For example, if nums = [2, 1], you can add a '+' before 2 and a '-' before 1 and concatenate them to build the expression \"+2-1\".\n",
    "Return the number of different expressions that you can build, which evaluates to target.\n",
    "\n",
    "Source: https://leetcode.com/problems/target-sum/\n",
    "\n",
    "Example 1:\n",
    "\n",
    "```\n",
    "Input: nums = [1,1,1,1,1], target = 3\n",
    "Output: 5\n",
    "Explanation: There are 5 ways to assign symbols to make the sum of nums be target 3.\n",
    "-1 + 1 + 1 + 1 + 1 = 3\n",
    "+1 - 1 + 1 + 1 + 1 = 3\n",
    "+1 + 1 - 1 + 1 + 1 = 3\n",
    "+1 + 1 + 1 - 1 + 1 = 3\n",
    "+1 + 1 + 1 + 1 - 1 = 3\n",
    "```\n",
    "\n",
    "Example 2:\n",
    "\n",
    "```\n",
    "Input: nums = [1], target = 1\n",
    "Output: 1\n",
    "```"
   ]
  },
  {
   "cell_type": "code",
   "execution_count": 74,
   "metadata": {},
   "outputs": [],
   "source": [
    "class Solution:\n",
    "    def findTargetSumWays(self, nums, target):\n",
    "        '''\n",
    "        '''\n",
    "        \n",
    "        max_num = sum(nums)\n",
    "        min_num = int(-1*max_num)\n",
    "        \n",
    "        if (target > max_num) or (target < min_num):\n",
    "            return 0\n",
    "        \n",
    "        # skip the \"equal\" case\n",
    "        if (target == max_num) or (target == min_num):\n",
    "            return 1\n",
    "        \n",
    "        L = len(nums)\n",
    "        \n",
    "        if (max_num - target) % 2 == 1:\n",
    "            return 0\n",
    "        \n",
    "        neg_num = (max_num - target) // 2 # <---- !!!\n",
    "        \n",
    "        if neg_num < 1:\n",
    "            return 0\n",
    "        \n",
    "        # The original Q is converted to the DP of subsetting to neg_num \n",
    "        # DP: initialization (all-zero counts)\n",
    "        \n",
    "        sub_count = []\n",
    "        for i in range(L):\n",
    "            sub_count.append([])\n",
    "            for j in range(neg_num+1):\n",
    "                sub_count[i].append(0)\n",
    "                \n",
    "        # an enmpty subset sums to zero\n",
    "        sub_count[0][0] = 1\n",
    "        # the first element sum to itself\n",
    "        sub_count[0][nums[0]] = 1\n",
    "        \n",
    "        # DP substructure\n",
    "        ## DP: use/not-use the current element\n",
    "        \n",
    "        for i in range(1, L):\n",
    "            for val in range(neg_num+1):\n",
    "                if nums[i] > val:\n",
    "                    sub_count[i][val] = sub_count[i-1][val]\n",
    "                else:\n",
    "                    sub_count[i][val] = sub_count[i-1][val] + sub_count[i-1][val-nums[i]]\n",
    "                    \n",
    "        return sub_count[-1][-1]\n",
    "\n",
    "        "
   ]
  },
  {
   "cell_type": "code",
   "execution_count": 75,
   "metadata": {},
   "outputs": [
    {
     "data": {
      "text/plain": [
       "5"
      ]
     },
     "execution_count": 75,
     "metadata": {},
     "output_type": "execute_result"
    }
   ],
   "source": [
    "solver = Solution()\n",
    "solver.findTargetSumWays([1,1,1,1,1], 3)"
   ]
  },
  {
   "cell_type": "markdown",
   "metadata": {},
   "source": [
    "### Last Stone Weight II"
   ]
  },
  {
   "cell_type": "markdown",
   "metadata": {},
   "source": [
    "You are given an array of integers stones where stones[i] is the weight of the ith stone.\n",
    "\n",
    "We are playing a game with the stones. On each turn, we choose any two stones and smash them together. Suppose the stones have weights x and y with x <= y. The result of this smash is:\n",
    "\n",
    "If x == y, both stones are destroyed, and\n",
    "If x != y, the stone of weight x is destroyed, and the stone of weight y has new weight y - x.\n",
    "At the end of the game, there is at most one stone left.\n",
    "\n",
    "Return the smallest possible weight of the left stone. If there are no stones left, return 0.\n",
    "\n",
    "Source: https://leetcode.com/problems/last-stone-weight-ii/\n",
    "\n",
    "Example 1:\n",
    "\n",
    "```\n",
    "Input: stones = [2,7,4,1,8,1]\n",
    "Output: 1\n",
    "Explanation:\n",
    "We can combine 2 and 4 to get 2, so the array converts to [2,7,1,8,1] then,\n",
    "we can combine 7 and 8 to get 1, so the array converts to [2,1,1,1] then,\n",
    "we can combine 2 and 1 to get 1, so the array converts to [1,1,1] then,\n",
    "we can combine 1 and 1 to get 0, so the array converts to [1], then that's the optimal value.\n",
    "```\n",
    "\n",
    "Example 2:\n",
    "\n",
    "```\n",
    "Input: stones = [31,26,33,21,40]\n",
    "Output: 5\n",
    "```\n",
    "\n",
    "Example 3:\n",
    "\n",
    "```\n",
    "Input: stones = [1,2]\n",
    "Output: 1\n",
    "```"
   ]
  },
  {
   "cell_type": "code",
   "execution_count": 70,
   "metadata": {},
   "outputs": [],
   "source": [
    "class Solution:\n",
    "    def lastStoneWeightII(self, stones):\n",
    "        '''\n",
    "        '''\n",
    "        \n",
    "        # The original Q is converted to: find a subset that is the closest to the half-sum\n",
    "        \n",
    "        L = len(stones)\n",
    "        \n",
    "        if L == 0:\n",
    "            return 0\n",
    "        if L == 1:\n",
    "            return stones[0]\n",
    "        \n",
    "        sum_stone = sum(stones)\n",
    "        \n",
    "        if sum_stone % 2 == 1:\n",
    "            half_stone = (sum_stone-1) // 2\n",
    "        else:\n",
    "            half_stone = sum_stone // 2\n",
    "            \n",
    "        subset_flag = []\n",
    "        \n",
    "        for i in range(L):\n",
    "            subset_flag.append([])\n",
    "            # +1 becuase zero is considered\n",
    "            for j in range(sum_stone+1):\n",
    "                subset_flag[i].append(False)\n",
    "        \n",
    "        # DP: initialization\n",
    "        ## An empty subset sums to zero\n",
    "        subset_flag[0][0] = True\n",
    "        ## The first element sums to itself\n",
    "        subset_flag[0][stones[0]] = True\n",
    "        \n",
    "        # DP: substructure\n",
    "        ##\n",
    "        for i in range(1, L):\n",
    "            for val in range(sum_stone+1):\n",
    "                if stones[i] > val:\n",
    "                    subset_flag[i][val] = subset_flag[i-1][val]\n",
    "                else:\n",
    "                    subset_flag[i][val] = subset_flag[i-1][val] or subset_flag[i-1][val-stones[i]]\n",
    "        #return subset_flag#[-1]     \n",
    "        weight = 0\n",
    "        for val in range(half_stone, -1, -1):\n",
    "            \n",
    "            if subset_flag[-1][val] is True:\n",
    "                weight = val\n",
    "                break;\n",
    "        \n",
    "        # 2* represents the weights can be cancelled\n",
    "        return sum_stone - 2*weight\n",
    "        \n",
    "        "
   ]
  },
  {
   "cell_type": "code",
   "execution_count": 71,
   "metadata": {},
   "outputs": [
    {
     "data": {
      "text/plain": [
       "1"
      ]
     },
     "execution_count": 71,
     "metadata": {},
     "output_type": "execute_result"
    }
   ],
   "source": [
    "solver = Solution()\n",
    "solver.lastStoneWeightII([1,2])"
   ]
  },
  {
   "cell_type": "code",
   "execution_count": 73,
   "metadata": {},
   "outputs": [
    {
     "data": {
      "text/plain": [
       "5"
      ]
     },
     "execution_count": 73,
     "metadata": {},
     "output_type": "execute_result"
    }
   ],
   "source": [
    "solver.lastStoneWeightII([31,26,33,21,40])"
   ]
  },
  {
   "cell_type": "code",
   "execution_count": null,
   "metadata": {},
   "outputs": [],
   "source": []
  },
  {
   "cell_type": "markdown",
   "metadata": {},
   "source": [
    "### Ones and Zeroes\n",
    "\n",
    "ou are given an array of binary strings strs and two integers m and n.\n",
    "\n",
    "Return the size of the largest subset of strs such that there are at most m 0's and n 1's in the subset.\n",
    "\n",
    "A set x is a subset of a set y if all elements of x are also elements of y.\n",
    "\n",
    "Source: https://leetcode.com/problems/ones-and-zeroes/\n",
    "\n",
    "Example 1:\n",
    "\n",
    "```\n",
    "Input: strs = [\"10\",\"0001\",\"111001\",\"1\",\"0\"], m = 5, n = 3\n",
    "Output: 4\n",
    "Explanation: The largest subset with at most 5 0's and 3 1's is {\"10\", \"0001\", \"1\", \"0\"}, so the answer is 4.\n",
    "Other valid but smaller subsets include {\"0001\", \"1\"} and {\"10\", \"1\", \"0\"}.\n",
    "{\"111001\"} is an invalid subset because it contains 4 1's, greater than the maximum of 3.\n",
    "```\n",
    "\n",
    "Example 2:\n",
    "\n",
    "```\n",
    "Input: strs = [\"10\",\"0\",\"1\"], m = 1, n = 1\n",
    "Output: 2\n",
    "Explanation: The largest subset is {\"0\", \"1\"}, so the answer is 2.\n",
    "```"
   ]
  },
  {
   "cell_type": "code",
   "execution_count": 140,
   "metadata": {},
   "outputs": [],
   "source": [
    "class Solution:\n",
    "    def findMaxForm(self, strs, m, n):\n",
    "        '''\n",
    "        \n",
    "        '''\n",
    "        L = len(strs)\n",
    "        \n",
    "        # converting strings to vals\n",
    "        list_ones = [0,]*L\n",
    "        list_zero = [0,]*L\n",
    "        \n",
    "        for i, temp_str in enumerate(strs):            \n",
    "            for j, temp_letter in enumerate(temp_str):\n",
    "                \n",
    "                if temp_letter is '0':\n",
    "                    list_zero[i] += 1\n",
    "                elif temp_letter is '1':\n",
    "                    list_ones[i] += 1\n",
    "                else:\n",
    "                    print('????')\n",
    "\n",
    "        subset_max = []\n",
    "        \n",
    "        # L strs\n",
    "        for i in range(L):\n",
    "            subset_max.append([])\n",
    "            # m zeros\n",
    "            for mi in range(m+1):\n",
    "                subset_max[i].append([])\n",
    "                # n ones\n",
    "                for ni in range(n+1):\n",
    "                    subset_max[i][mi].append(False)\n",
    "\n",
    "        # DP: initialize\n",
    "        subset_max[0][0][0] = True\n",
    "        subset_max[0][list_zero[0]][list_ones[0]] = True\n",
    "        \n",
    "        # DP substructure\n",
    "        for i in range(1, L):\n",
    "            for val_zero in range(m+1):\n",
    "                for val_ones in range(n+1):\n",
    "                    # cannot pick element i\n",
    "                    if (list_zero[i] > val_zero) or (list_ones[i] > val_ones):\n",
    "                        subset_max[i][val_zero][val_ones] = subset_max[i-1][val_zero][val_ones]\n",
    "                    else:\n",
    "                        subset_max[i][val_zero][val_ones] = subset_max[i-1][val_zero][val_ones] or subset_max[i-1][val_zero-list_zero[i]][val_ones-list_ones[i]]\n",
    "    \n",
    "        max_sub = 0\n",
    "        for i in range(L-1, -1, -1):\n",
    "            if subset_max[i][-1][-1]:\n",
    "                max_sub = i\n",
    "                break;\n",
    "        \n",
    "        return max_sub\n",
    "        "
   ]
  },
  {
   "cell_type": "code",
   "execution_count": 142,
   "metadata": {},
   "outputs": [
    {
     "data": {
      "text/plain": [
       "4"
      ]
     },
     "execution_count": 142,
     "metadata": {},
     "output_type": "execute_result"
    }
   ],
   "source": [
    "solver = Solution()\n",
    "solver.findMaxForm([\"10\",\"0001\",\"111001\",\"1\",\"0\"], 1, 1)"
   ]
  },
  {
   "cell_type": "markdown",
   "metadata": {},
   "source": [
    "### Tallest Billboard (hard)\n",
    "\n",
    "You are installing a billboard and want it to have the largest height. The billboard will have two steel supports, one on each side. Each steel support must be an equal height.\n",
    "\n",
    "You are given a collection of rods that can be welded together. For example, if you have rods of lengths 1, 2, and 3, you can weld them together to make a support of length 6.\n",
    "\n",
    "Return the largest possible height of your billboard installation. If you cannot support the billboard, return 0.\n",
    "\n",
    "Source: https://leetcode.com/problems/tallest-billboard/\n",
    "\n",
    "Example 1:\n",
    "\n",
    "```\n",
    "Input: rods = [1,2,3,6]\n",
    "Output: 6\n",
    "Explanation: We have two disjoint subsets {1,2,3} and {6}, which have the same sum = 6.\n",
    "```\n",
    "\n",
    "Example 2:\n",
    "\n",
    "```\n",
    "Input: rods = [1,2,3,4,5,6]\n",
    "Output: 10\n",
    "Explanation: We have two disjoint subsets {2,3,5} and {4,6}, which have the same sum = 10.\n",
    "```\n",
    "\n",
    "Example 3:\n",
    "\n",
    "```\n",
    "Input: rods = [1,2]\n",
    "Output: 0\n",
    "Explanation: The billboard cannot be supported, so we return 0.\n",
    "```"
   ]
  },
  {
   "cell_type": "code",
   "execution_count": 25,
   "metadata": {},
   "outputs": [],
   "source": [
    "class Solution:\n",
    "    def tallestBillboard(self, rods):\n",
    "        '''\n",
    "        '''\n",
    "        \n",
    "        L = len(rods)\n",
    "        total_height = sum(rods)\n",
    "        # index: the difference of two supports\n",
    "        # element: the max height of the sum of the two supports\n",
    "        \n",
    "        height = []\n",
    "        \n",
    "        for i in range(L):\n",
    "            height.append([])\n",
    "            for diff_h in range(total_height+1):\n",
    "                height[i].append(0)\n",
    "                \n",
    "        # DP: initialization\n",
    "        ## use zero rods, get zero height\n",
    "        height[0][0] = 0\n",
    "        ## use the first rod only, get its height v.s. zero as the shorter support\n",
    "        height[0][rods[0]] = rods[0]\n",
    "        \n",
    "        # DP: substructure\n",
    "        for i in range(1, L):\n",
    "            for diff_h in range(total_height+1):\n",
    "                rod_new = rods[i]\n",
    "                \n",
    "                # impossible scenario: place all rods on one side cannot get this diff_h\n",
    "                if diff_h+rod_new > total_height:\n",
    "                    height[i][diff_h] = max(height[i][diff_h], height[i-1][diff_h])\n",
    "                # possible scenarios: different rod use cases v.s. do not use this rod\n",
    "                else:\n",
    "                    # if rod_new is stacked on the longer support\n",
    "                    height[i][diff_h+rod_new] = max(height[i-1][diff_h]+rod_new, height[i][diff_h+rod_new])\n",
    "                \n",
    "                    # if rod_new is stacked on the shorter support, and it is still the shorter support\n",
    "                    if diff_h-rod_new >= 0:\n",
    "                        height[i][diff_h-rod_new] = max(height[i-1][diff_h]+rod_new, height[i][diff_h-rod_new])\n",
    "                    # the shorter support is now the longer support\n",
    "                    else:\n",
    "                        height[i][rod_new-diff_h] = max(height[i-1][diff_h]+rod_new, height[i][rod_new-diff_h])\n",
    "                        \n",
    "        # height[-1][0]: the max total height after examining all rods, with diff_h equals to zero.\n",
    "        # total height // 2 is the supported height\n",
    "        return height[-1][0]//2\n",
    "        "
   ]
  },
  {
   "cell_type": "code",
   "execution_count": 26,
   "metadata": {},
   "outputs": [
    {
     "data": {
      "text/plain": [
       "6"
      ]
     },
     "execution_count": 26,
     "metadata": {},
     "output_type": "execute_result"
    }
   ],
   "source": [
    "solver = Solution()\n",
    "solver.tallestBillboard([1,2,3,6])"
   ]
  },
  {
   "cell_type": "code",
   "execution_count": 27,
   "metadata": {},
   "outputs": [
    {
     "data": {
      "text/plain": [
       "10"
      ]
     },
     "execution_count": 27,
     "metadata": {},
     "output_type": "execute_result"
    }
   ],
   "source": [
    "solver.tallestBillboard([1,2,3,4,5,6])"
   ]
  },
  {
   "cell_type": "markdown",
   "metadata": {},
   "source": [
    "**What I have learned**\n",
    "\n",
    "* A template for solving 0/1 Knapsack problems\n",
    "* Some problems are not knapsacks directly, but they can be converted to knapsacks\n",
    "* In 2-d DP solutions, values[objects][weights] is commonly used, but values can be implicit (e.g., the billboard problem)\n",
    "* Knapsack initialization is somewhat difficult, remembering that an \"empty subset/weights\" is corresponded to \"empty values\""
   ]
  },
  {
   "cell_type": "markdown",
   "metadata": {},
   "source": [
    "**Coming back from unbound knapsack**\n",
    "\n",
    "* 2-d DP is useful as a way of thinking, but sometimes it is necessary to simplify its iterations to 1-d. Herein, some of the 1-d DP solutions are added."
   ]
  },
  {
   "cell_type": "code",
   "execution_count": null,
   "metadata": {},
   "outputs": [],
   "source": []
  }
 ],
 "metadata": {
  "kernelspec": {
   "display_name": "Python 3",
   "language": "python",
   "name": "python3"
  },
  "language_info": {
   "codemirror_mode": {
    "name": "ipython",
    "version": 3
   },
   "file_extension": ".py",
   "mimetype": "text/x-python",
   "name": "python",
   "nbconvert_exporter": "python",
   "pygments_lexer": "ipython3",
   "version": "3.6.8"
  }
 },
 "nbformat": 4,
 "nbformat_minor": 4
}
