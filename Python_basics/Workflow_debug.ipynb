{
 "cells": [
  {
   "cell_type": "markdown",
   "metadata": {},
   "source": [
    "# Workflow debug"
   ]
  },
  {
   "cell_type": "code",
   "execution_count": 1,
   "metadata": {},
   "outputs": [],
   "source": [
    "import time\n",
    "import numba as nb\n",
    "import numpy as np"
   ]
  },
  {
   "cell_type": "code",
   "execution_count": 2,
   "metadata": {},
   "outputs": [],
   "source": [
    "year_hist = np.arange(2000, 2019).astype(int) # 2000 --> 2018"
   ]
  },
  {
   "cell_type": "code",
   "execution_count": 3,
   "metadata": {},
   "outputs": [],
   "source": [
    "# importing GEFS historical fcst\n",
    "GEFS_history = {}\n",
    "\n",
    "for year in year_hist:\n",
    "    # random number to replace real data for debugging\n",
    "    # size = (365, 64, 64)\n",
    "    apcp_ = np.random.normal(0.0, scale=1.0, size=(365, 64, 64))\n",
    "    pwat_ = np.random.normal(0.0, scale=1.0, size=(365, 64, 64))\n",
    "    \n",
    "    GEFS_history['apcp_{}'.format(year)] = apcp_\n",
    "    GEFS_history['pwat_{}'.format(year)] = pwat_"
   ]
  },
  {
   "cell_type": "code",
   "execution_count": 4,
   "metadata": {},
   "outputs": [],
   "source": [
    "# importing new fcst\n",
    "apcp_new = np.random.normal(0.0, scale=1.0, size=(365, 32, 32))\n",
    "pwat_new = np.random.normal(0.0, scale=1.0, size=(365, 32, 32))"
   ]
  },
  {
   "cell_type": "markdown",
   "metadata": {},
   "source": [
    "### Objective \n",
    "Given new forecasts with 32-by-32 grids, identify the **top 50 similar** 32-by-32 patterns within the historical forecast with 64-by-64 grids and 20 years through a **sliding window**.\n",
    "\n",
    "* One historical day can have only one window.\n",
    "\n",
    "**pseudo code**\n",
    "* loop over new forecast days\n",
    "* loop over old forecast days\n",
    "* sliding window on each day, found the \"single best\" window\n",
    "* Comparing the \"single best\" with the existing \"top 50\"\n",
    "* If sigle best is good, then insert into the \"new top 50\"\n"
   ]
  },
  {
   "cell_type": "code",
   "execution_count": 5,
   "metadata": {},
   "outputs": [],
   "source": [
    "N_fcst_day = 365 # new forecast has 365 days\n",
    "EN = 50 # top 50 similar\n",
    "size = 32 # size of new forecast\n",
    "detect_size = 64 # size of historical forecast\n",
    "\n",
    "# number of windows on both x and y directions\n",
    "N_window = detect_size-size"
   ]
  },
  {
   "cell_type": "code",
   "execution_count": 6,
   "metadata": {},
   "outputs": [],
   "source": [
    "@nb.jit(nopython=True)\n",
    "def shift_one(arr, num=1, fill_value=999):\n",
    "    result = np.empty_like(arr)\n",
    "    result[:num] = fill_value\n",
    "    result[num:] = arr[:-num]\n",
    "    return result"
   ]
  },
  {
   "cell_type": "code",
   "execution_count": null,
   "metadata": {},
   "outputs": [],
   "source": []
  },
  {
   "cell_type": "code",
   "execution_count": 7,
   "metadata": {},
   "outputs": [],
   "source": [
    "#@nb.jit(nopython=True)\n",
    "def window_slider(apcp_cadidate, pwat_cadidate, apcp_base, pwat_base, \n",
    "                  hist_day, N_window, size, \n",
    "                  record_single_day, indx_single_day, indy_single_day):\n",
    "    '''\n",
    "    '''\n",
    "    apcp_base_sub = apcp_base[hist_day, ...]\n",
    "    pwat_base_sub = pwat_base[hist_day, ...]\n",
    "    # windows\n",
    "    for i in range(0, N_window):\n",
    "        for j in range(0, N_window):\n",
    "            apcp_window = apcp_base_sub[i:i+size, j:j+size]\n",
    "            pwat_window = pwat_base_sub[i:i+size, j:j+size]\n",
    "            # the rule of similar (cannot be changed)\n",
    "            record_temp = 0.7*np.sum(np.abs(apcp_cadidate-apcp_window))+0.3*np.sum(np.abs(pwat_cadidate-pwat_window))\n",
    "            # identify single best\n",
    "            if record_temp < record_single_day:\n",
    "                # good match\n",
    "                record_single_day = record_temp\n",
    "                indx_single_day = i\n",
    "                indy_single_day = j\n",
    "                \n",
    "    return record_single_day, indx_single_day, indy_single_day"
   ]
  },
  {
   "cell_type": "markdown",
   "metadata": {},
   "source": [
    "# The part that is slow"
   ]
  },
  {
   "cell_type": "code",
   "execution_count": 8,
   "metadata": {},
   "outputs": [
    {
     "name": "stdout",
     "output_type": "stream",
     "text": [
      "--- 36.706010580062866 seconds ---\n",
      "--- 36.18890118598938 seconds ---\n",
      "--- 36.18970227241516 seconds ---\n",
      "--- 36.08813261985779 seconds ---\n"
     ]
    },
    {
     "ename": "KeyboardInterrupt",
     "evalue": "",
     "output_type": "error",
     "traceback": [
      "\u001b[0;31m---------------------------------------------------------------------------\u001b[0m",
      "\u001b[0;31mKeyboardInterrupt\u001b[0m                         Traceback (most recent call last)",
      "\u001b[0;32m<ipython-input-8-05944aa50615>\u001b[0m in \u001b[0;36m<module>\u001b[0;34m\u001b[0m\n\u001b[1;32m     50\u001b[0m                 \u001b[0mrecord_single_day\u001b[0m\u001b[0;34m,\u001b[0m\u001b[0;34m\u001b[0m\u001b[0;34m\u001b[0m\u001b[0m\n\u001b[1;32m     51\u001b[0m                 \u001b[0mindx_single_day\u001b[0m\u001b[0;34m,\u001b[0m\u001b[0;34m\u001b[0m\u001b[0;34m\u001b[0m\u001b[0m\n\u001b[0;32m---> 52\u001b[0;31m                 indy_single_day)\n\u001b[0m\u001b[1;32m     53\u001b[0m             \u001b[0;31m# ------------------------------------------ #\u001b[0m\u001b[0;34m\u001b[0m\u001b[0;34m\u001b[0m\u001b[0;34m\u001b[0m\u001b[0m\n\u001b[1;32m     54\u001b[0m             \u001b[0;31m# compare single best with global best\u001b[0m\u001b[0;34m\u001b[0m\u001b[0;34m\u001b[0m\u001b[0;34m\u001b[0m\u001b[0m\n",
      "\u001b[0;31mKeyboardInterrupt\u001b[0m: "
     ]
    }
   ],
   "source": [
    "# global allocations\n",
    "record_full = np.ones([N_fcst_day, EN], dtype=np.float16)*9999.9\n",
    "record_full_day = np.ones([N_fcst_day, EN], dtype=np.int)*999\n",
    "record_full_year = np.ones([N_fcst_day, EN], dtype=np.int)*999\n",
    "record_full_indx = np.zeros([N_fcst_day, EN], dtype=np.int)\n",
    "record_full_indy = np.zeros([N_fcst_day, EN], dtype=np.int)\n",
    "\n",
    "# local allocation\n",
    "record_day = np.empty([EN], dtype=np.int)\n",
    "record_year = np.empty([EN], dtype=np.int)\n",
    "record_indx = np.empty([EN], dtype=np.int)\n",
    "record_indy = np.empty([EN], dtype=np.int)\n",
    "# -------------------- #\n",
    "\n",
    "indx_single_day = 999\n",
    "indy_single_day = 999\n",
    "\n",
    "# loop over days of new forecasts\n",
    "for fcst_day in range(N_fcst_day):\n",
    "    start_time = time.time()\n",
    "    apcp_cadidate = apcp_new[fcst_day, ...]\n",
    "    pwat_cadidate = pwat_new[fcst_day, ...]\n",
    "    # initializing the top 50 records\n",
    "    record = np.ones([EN], dtype=np.float32)*9999\n",
    "    # -------------------- #\n",
    "    # loop over historical forecast by years\n",
    "    for year in year_hist:\n",
    "        # -------------------- #\n",
    "        # current year information\n",
    "        apcp_base = GEFS_history['apcp_{}'.format(year)]\n",
    "        pwat_base = GEFS_history['pwat_{}'.format(year)]\n",
    "        # -------------------- #\n",
    "        days_history = np.arange(365) # <----- ignoring leap year for testing\n",
    "        \n",
    "        # loop over historical forecast days\n",
    "        for hist_day in days_history:\n",
    "            record_single_day = 9999.9\n",
    "            # ---------- Sliding window (JIT) ---------- #\n",
    "            # update single day record\n",
    "            # update indx\n",
    "            # update indy\n",
    "            record_single_day, indx_single_day, indy_single_day = window_slider(\n",
    "                apcp_cadidate, \n",
    "                pwat_cadidate, \n",
    "                apcp_base, \n",
    "                pwat_base, \n",
    "                hist_day, \n",
    "                N_window, \n",
    "                size, \n",
    "                record_single_day, \n",
    "                indx_single_day, \n",
    "                indy_single_day)\n",
    "            # ------------------------------------------ #\n",
    "            # compare single best with global best        \n",
    "            if record_single_day < record[-1]:\n",
    "                # if the current day can be added to the \"top 50\"\n",
    "                analog_ind = np.searchsorted(record, record_single_day)\n",
    "                # shift one to the left and free space\n",
    "                record[analog_ind:] = shift_one(record[analog_ind:])\n",
    "                record_day[analog_ind:] = shift_one(record_day[analog_ind:])\n",
    "                record_year[analog_ind:] = shift_one(record_year[analog_ind:])\n",
    "                record_indx[analog_ind:] = shift_one(record_indx[analog_ind:])\n",
    "                record_indy[analog_ind:] = shift_one(record_indy[analog_ind:])\n",
    "                # insert the current day\n",
    "                record[analog_ind] = record_single_day\n",
    "                record_day[analog_ind] = hist_day\n",
    "                record_year[analog_ind] = year\n",
    "                record_indx[analog_ind] = indx_single_day\n",
    "                record_indy[analog_ind] = indy_single_day\n",
    "                \n",
    "    record_full[fcst_day, :] = record\n",
    "    record_full_day[fcst_day, :] = record_day\n",
    "    record_full_year[fcst_day, :] = record_year\n",
    "    record_full_indx[fcst_day, :] = record_indx\n",
    "    record_full_indy[fcst_day, :] = record_indy\n",
    "\n",
    "    print(\"--- %s seconds ---\" % (time.time() - start_time))"
   ]
  },
  {
   "cell_type": "code",
   "execution_count": null,
   "metadata": {},
   "outputs": [],
   "source": []
  },
  {
   "cell_type": "code",
   "execution_count": null,
   "metadata": {},
   "outputs": [],
   "source": []
  },
  {
   "cell_type": "code",
   "execution_count": null,
   "metadata": {},
   "outputs": [],
   "source": []
  },
  {
   "cell_type": "code",
   "execution_count": null,
   "metadata": {},
   "outputs": [],
   "source": []
  }
 ],
 "metadata": {
  "kernelspec": {
   "display_name": "Python 3",
   "language": "python",
   "name": "python3"
  },
  "language_info": {
   "codemirror_mode": {
    "name": "ipython",
    "version": 3
   },
   "file_extension": ".py",
   "mimetype": "text/x-python",
   "name": "python",
   "nbconvert_exporter": "python",
   "pygments_lexer": "ipython3",
   "version": "3.6.8"
  }
 },
 "nbformat": 4,
 "nbformat_minor": 4
}
