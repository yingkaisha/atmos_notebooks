{
 "cells": [
  {
   "cell_type": "code",
   "execution_count": 2,
   "metadata": {},
   "outputs": [],
   "source": [
    "import numpy as np"
   ]
  },
  {
   "cell_type": "markdown",
   "metadata": {},
   "source": [
    "### Search element is an ordered array"
   ]
  },
  {
   "cell_type": "code",
   "execution_count": 109,
   "metadata": {},
   "outputs": [],
   "source": [
    "X = np.array([\n",
    "    [0, 1, 2, 3, 4, 5, 10],\n",
    "    [2, 4, 5, 6, 7, 9, 11],\n",
    "    [3, 6, 8, 9, 11, 12, 15],\n",
    "])"
   ]
  },
  {
   "cell_type": "code",
   "execution_count": 110,
   "metadata": {},
   "outputs": [
    {
     "data": {
      "text/plain": [
       "array([[ 0,  1,  2,  3,  4,  5, 10],\n",
       "       [ 2,  4,  5,  6,  7,  9, 11],\n",
       "       [ 3,  6,  8,  9, 11, 12, 15]])"
      ]
     },
     "execution_count": 110,
     "metadata": {},
     "output_type": "execute_result"
    }
   ],
   "source": [
    "X"
   ]
  },
  {
   "cell_type": "code",
   "execution_count": 113,
   "metadata": {},
   "outputs": [],
   "source": [
    "def search_loc(X, target):\n",
    "    '''\n",
    "    '''\n",
    "    Nx, Ny = X.shape\n",
    "    \n",
    "    # search starts from bottom-left\n",
    "    indx = Nx-1\n",
    "    indy = 0\n",
    "    \n",
    "    while (indx >= 0) and (indy <= Ny-1):\n",
    "        \n",
    "        if X[indx, indy] == target:\n",
    "            return indx, indy\n",
    "        \n",
    "        elif X[indx, indy] < target:\n",
    "            indy += 1\n",
    "        else:\n",
    "            indx -= 1\n",
    "            \n",
    "    print(\"Search target {} not found, Python None type is returned\".format(target))\n",
    "    return None\n",
    "            "
   ]
  },
  {
   "cell_type": "code",
   "execution_count": 116,
   "metadata": {},
   "outputs": [
    {
     "data": {
      "text/plain": [
       "(0, 6)"
      ]
     },
     "execution_count": 116,
     "metadata": {},
     "output_type": "execute_result"
    }
   ],
   "source": [
    "search_loc(X, 10)"
   ]
  },
  {
   "cell_type": "markdown",
   "metadata": {},
   "source": [
    "### \"Unique\" problems"
   ]
  },
  {
   "cell_type": "markdown",
   "metadata": {},
   "source": [
    "数组中有一个数字出现的次数超过数组长度的一半，请找出这个数字。例如输入一个长度为9的数组{1,2,3,2,2,2,5,4,2}。由于数字2在数组中出现了5次，超过数组长度的一半，因此输出2。如果不存在则输出0。"
   ]
  },
  {
   "cell_type": "code",
   "execution_count": 137,
   "metadata": {},
   "outputs": [],
   "source": [
    "X = [1,1,1,2,3,2,5,4,2,4,4,1]"
   ]
  },
  {
   "cell_type": "code",
   "execution_count": 138,
   "metadata": {},
   "outputs": [],
   "source": [
    "def find_dominate_number(X):\n",
    "    \n",
    "    L = len(X)\n",
    "    \n",
    "    candidate = None\n",
    "    count = 0\n",
    "    \n",
    "    for i in range(L):\n",
    "        # if no candidate, assign the current element as candidate\n",
    "        if candidate is None:\n",
    "            candidate = X[i]\n",
    "            count = 1\n",
    "            \n",
    "        else:\n",
    "            # Candidate meets its dups, life count +1\n",
    "            if X[i] == candidate:\n",
    "                count += 1\n",
    "            # Candidate meets a different one, life count -1\n",
    "            else:\n",
    "                count -= 1\n",
    "                # The candidate is moved out if it lose all lifes\n",
    "                if count <= 0:\n",
    "                    candidate = None\n",
    "                    \n",
    "    # all dead\n",
    "    if candidate is None:\n",
    "        return None\n",
    "    \n",
    "    # a candidate survived\n",
    "    count = 0\n",
    "    \n",
    "    for i in range(L):\n",
    "        if X[i] == candidate:\n",
    "            count += 1\n",
    "    if count > 0.5*L:\n",
    "        return candidate\n",
    "    else:\n",
    "        return None"
   ]
  },
  {
   "cell_type": "code",
   "execution_count": 139,
   "metadata": {},
   "outputs": [
    {
     "name": "stdout",
     "output_type": "stream",
     "text": [
      "None\n"
     ]
    }
   ],
   "source": [
    "find_dominate_number(X)"
   ]
  },
  {
   "cell_type": "markdown",
   "metadata": {},
   "source": [
    "数组中有一个数字出现的次数等于（没有超过）数组长度的一半，请找出这个数字。例如输入一个长度为9的数组{1,2,3,2,2,5,4,2}。由于数字2在数组中出现了4次，等于数组长度的一半，因此输出2。如果不存在则输出0。"
   ]
  },
  {
   "cell_type": "code",
   "execution_count": 150,
   "metadata": {},
   "outputs": [],
   "source": [
    "def find_dominate_number(X):\n",
    "    \n",
    "    L = len(X)\n",
    "    \n",
    "    candidate = None\n",
    "    count = 0\n",
    "    \n",
    "    for i in range(L):\n",
    "        # if no candidate, assign the current element as candidate\n",
    "        if candidate is None:\n",
    "            candidate = X[i]\n",
    "            count = 1\n",
    "            \n",
    "        else:\n",
    "            # Candidate meets its dups, life count +1\n",
    "            if X[i] == candidate:\n",
    "                count += 1\n",
    "            # Candidate meets a different one, life count -1\n",
    "            else:\n",
    "                count -= 1\n",
    "                # The candidate is moved out if it lose all lifes\n",
    "                if count <= -1:\n",
    "                    candidate = None\n",
    "                    \n",
    "    # all dead\n",
    "    if candidate is None:\n",
    "        return None\n",
    "    \n",
    "    # a candidate survived\n",
    "    count = 0\n",
    "    \n",
    "    for i in range(L):\n",
    "        if X[i] == candidate:\n",
    "            count += 1\n",
    "            \n",
    "    if count >= 0.5*L:\n",
    "        return candidate\n",
    "    \n",
    "    else:\n",
    "        return None"
   ]
  },
  {
   "cell_type": "code",
   "execution_count": 148,
   "metadata": {},
   "outputs": [],
   "source": [
    "X = [1,2,3,2,2,5,4,2]"
   ]
  },
  {
   "cell_type": "code",
   "execution_count": 149,
   "metadata": {},
   "outputs": [
    {
     "data": {
      "text/plain": [
       "2"
      ]
     },
     "execution_count": 149,
     "metadata": {},
     "output_type": "execute_result"
    }
   ],
   "source": [
    "find_dominate_number(X)"
   ]
  },
  {
   "cell_type": "markdown",
   "metadata": {},
   "source": [
    "### Search slide-window maximum/minimum"
   ]
  },
  {
   "cell_type": "code",
   "execution_count": 151,
   "metadata": {},
   "outputs": [],
   "source": [
    "X = [4, 3, 6, 9, 3, 7, 1, 9, 4, 5, 6, 1, 2, 7, 4, 89, 11, -3]"
   ]
  },
  {
   "cell_type": "code",
   "execution_count": 158,
   "metadata": {},
   "outputs": [],
   "source": [
    "def slide_window_max(X, window_size):\n",
    "    '''\n",
    "    '''\n",
    "    L = len(X)\n",
    "    \n",
    "    N_windows = L - window_size + 1\n",
    "    \n",
    "    assert N_windows > 0, \"window_size {} is larger than the lenght of input list + 1\".format(window_size)\n",
    "    \n",
    "    window_max = [0,]*N_windows\n",
    "    \n",
    "    temp_max = None\n",
    "    \n",
    "    for i in range(N_windows):\n",
    "        \n",
    "        temp_max = X[i]\n",
    "        \n",
    "        for j in range(1, window_size):\n",
    "            \n",
    "            if X[i+j] > temp_max:\n",
    "                \n",
    "                temp_max = X[i+j]\n",
    "        \n",
    "        window_max[i] = temp_max\n",
    "        \n",
    "    return window_max\n",
    "            \n",
    "        \n",
    "    "
   ]
  },
  {
   "cell_type": "code",
   "execution_count": 160,
   "metadata": {},
   "outputs": [
    {
     "data": {
      "text/plain": [
       "[6, 9, 9, 9, 7, 9, 9, 9, 6, 6, 6, 7, 7, 89, 89, 89]"
      ]
     },
     "execution_count": 160,
     "metadata": {},
     "output_type": "execute_result"
    }
   ],
   "source": [
    "slide_window_max(X, 3)"
   ]
  },
  {
   "cell_type": "code",
   "execution_count": null,
   "metadata": {},
   "outputs": [],
   "source": []
  },
  {
   "cell_type": "code",
   "execution_count": null,
   "metadata": {},
   "outputs": [],
   "source": []
  }
 ],
 "metadata": {
  "kernelspec": {
   "display_name": "Python 3",
   "language": "python",
   "name": "python3"
  },
  "language_info": {
   "codemirror_mode": {
    "name": "ipython",
    "version": 3
   },
   "file_extension": ".py",
   "mimetype": "text/x-python",
   "name": "python",
   "nbconvert_exporter": "python",
   "pygments_lexer": "ipython3",
   "version": "3.6.8"
  }
 },
 "nbformat": 4,
 "nbformat_minor": 4
}
