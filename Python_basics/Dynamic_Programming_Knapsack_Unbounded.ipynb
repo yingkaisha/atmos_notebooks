{
 "cells": [
  {
   "cell_type": "markdown",
   "metadata": {},
   "source": [
    "# Dynamic Programming - Unbounded Knapsack"
   ]
  },
  {
   "cell_type": "code",
   "execution_count": null,
   "metadata": {},
   "outputs": [],
   "source": []
  },
  {
   "cell_type": "markdown",
   "metadata": {},
   "source": [
    "### Coin Change\n",
    "\n",
    "You are given an integer array coins representing coins of different denominations and an integer amount representing a total amount of money.\n",
    "\n",
    "Return the fewest number of coins that you need to make up that amount. If that amount of money cannot be made up by any combination of the coins, return -1.\n",
    "\n",
    "You may assume that you have an infinite number of each kind of coin.\n",
    "\n",
    "Source: https://leetcode.com/problems/coin-change/\n",
    "\n",
    "Example 1:\n",
    "\n",
    "```\n",
    "Input: coins = [1,2,5], amount = 11\n",
    "Output: 3\n",
    "Explanation: 11 = 5 + 5 + 1\n",
    "```\n",
    "\n",
    "Example 2:\n",
    "\n",
    "```\n",
    "Input: coins = [2], amount = 3\n",
    "Output: -1\n",
    "```\n",
    "\n",
    "Example 3:\n",
    "\n",
    "```\n",
    "Input: coins = [1], amount = 0\n",
    "Output: 0\n",
    "```\n",
    "\n",
    "Example 4:\n",
    "\n",
    "```\n",
    "Input: coins = [1], amount = 1\n",
    "Output: 1\n",
    "```\n",
    "\n",
    "Example 5:\n",
    "\n",
    "```\n",
    "Input: coins = [1], amount = 2\n",
    "Output: 2\n",
    "```"
   ]
  },
  {
   "cell_type": "code",
   "execution_count": 116,
   "metadata": {},
   "outputs": [],
   "source": [
    "class Solution:\n",
    "    def coinChange(self, coins, amount):\n",
    "        '''\n",
    "        '''\n",
    "        \n",
    "        L = len(coins)\n",
    "        \n",
    "        coin_count = []\n",
    "        \n",
    "        for i in range(L):\n",
    "            coin_count.append([])\n",
    "            for val in range(amount+1):\n",
    "                coin_count[i].append(999)\n",
    "                \n",
    "        coin_count[0][0] = 0\n",
    "        \n",
    "        for val in range(amount+1):\n",
    "            if val % coins[0] == 0:\n",
    "                coin_count[0][val] = val // coins[0]\n",
    "            \n",
    "        for i in range(1, L):\n",
    "            coin = coins[i]\n",
    "            for val in range(amount+1):\n",
    "                for times in range((val//coin)+1):\n",
    "                    coin_stack = coin*times\n",
    "                    if coin_stack > val:\n",
    "                        coin_count[i][val] = min(coin_count[i-1][val])\n",
    "                    else:\n",
    "                        coin_count[i][val] = min(coin_count[i-1][val], coin_count[i-1][val-coin_stack]+times)\n",
    "                    \n",
    "        if coin_count[-1][-1] == 999:\n",
    "            return -1\n",
    "        else:\n",
    "            return coin_count[-1][-1]"
   ]
  },
  {
   "cell_type": "code",
   "execution_count": 117,
   "metadata": {},
   "outputs": [
    {
     "data": {
      "text/plain": [
       "3"
      ]
     },
     "execution_count": 117,
     "metadata": {},
     "output_type": "execute_result"
    }
   ],
   "source": [
    "solver = Solution()\n",
    "solver.coinChange([1,2,5], 11)"
   ]
  },
  {
   "cell_type": "code",
   "execution_count": 128,
   "metadata": {},
   "outputs": [],
   "source": [
    "class Solution:\n",
    "    def coinChange(self, coins, amount):\n",
    "        '''\n",
    "        '''\n",
    "        \n",
    "        L = len(coins)\n",
    "        \n",
    "        count_coin = [9999,]*(amount+1)\n",
    "        \n",
    "        count_coin[0] = 0\n",
    "        \n",
    "        for i in range(L):\n",
    "            coin = coins[i]\n",
    "            for val in range(amount+1):\n",
    "                if coin <= val:\n",
    "                    count_coin[val] = min(count_coin[val], count_coin[val-coin] + 1)\n",
    "        return count_coin[-1]"
   ]
  },
  {
   "cell_type": "code",
   "execution_count": 129,
   "metadata": {},
   "outputs": [
    {
     "data": {
      "text/plain": [
       "3"
      ]
     },
     "execution_count": 129,
     "metadata": {},
     "output_type": "execute_result"
    }
   ],
   "source": [
    "solver = Solution()\n",
    "solver.coinChange([1,2,5], 11)"
   ]
  },
  {
   "cell_type": "code",
   "execution_count": null,
   "metadata": {},
   "outputs": [],
   "source": []
  },
  {
   "cell_type": "markdown",
   "metadata": {},
   "source": [
    "### Coin change II\n",
    "\n",
    "You are given an integer array coins representing coins of different denominations and an integer amount representing a total amount of money.\n",
    "\n",
    "Return the number of combinations that make up that amount. If that amount of money cannot be made up by any combination of the coins, return 0.\n",
    "\n",
    "You may assume that you have an infinite number of each kind of coin.\n",
    "\n",
    "The answer is guaranteed to fit into a signed 32-bit integer.\n",
    "\n",
    "Source: https://leetcode.com/problems/coin-change-2/ \n",
    "\n",
    "Example 1:\n",
    "\n",
    "```\n",
    "Input: amount = 5, coins = [1,2,5]\n",
    "Output: 4\n",
    "Explanation: there are four ways to make up the amount:\n",
    "5=5\n",
    "5=2+2+1\n",
    "5=2+1+1+1\n",
    "5=1+1+1+1+1\n",
    "```\n",
    "\n",
    "Example 2:\n",
    "\n",
    "```\n",
    "Input: amount = 3, coins = [2]\n",
    "Output: 0\n",
    "Explanation: the amount of 3 cannot be made up just with coins of 2.\n",
    "```\n",
    "\n",
    "Example 3:\n",
    "\n",
    "```\n",
    "Input: amount = 10, coins = [10]\n",
    "Output: 1\n",
    "```"
   ]
  },
  {
   "cell_type": "code",
   "execution_count": 90,
   "metadata": {},
   "outputs": [],
   "source": [
    "class Solution:\n",
    "    def change(self, amount, coins):\n",
    "        '''\n",
    "        '''\n",
    "        \n",
    "        L = len(coins)\n",
    "        \n",
    "        coin_count = []\n",
    "        \n",
    "        for i in range(L):\n",
    "            coin_count.append([])\n",
    "            for val in range(amount+1):\n",
    "                coin_count[i].append(0)\n",
    "                \n",
    "        #coin_count[0][0] = 1\n",
    "        \n",
    "        for val in range(amount+1):\n",
    "            if val % coins[0] == 0:\n",
    "                coin_count[0][val] += 1\n",
    "        \n",
    "        for i in range(1, L):\n",
    "            coin = coins[i]\n",
    "            \n",
    "            for val in range(amount+1):\n",
    "                \n",
    "                for times in range(val//coin+1):\n",
    "                    \n",
    "                    coin_stack = coin*times\n",
    "                    # cannot use this many coins\n",
    "                    if coin_stack > val:\n",
    "                        coin_count[i][val] = coin_count[i-1][val]\n",
    "                    # can use this many coins\n",
    "                    # \n",
    "                    else:\n",
    "                        coin_count[i][val] += coin_count[i-1][val-coin_stack]                        \n",
    "        return coin_count[-1][-1]"
   ]
  },
  {
   "cell_type": "code",
   "execution_count": 92,
   "metadata": {},
   "outputs": [
    {
     "data": {
      "text/plain": [
       "1"
      ]
     },
     "execution_count": 92,
     "metadata": {},
     "output_type": "execute_result"
    }
   ],
   "source": [
    "solver = Solution()\n",
    "solver.change(10, [10,])"
   ]
  },
  {
   "cell_type": "code",
   "execution_count": 93,
   "metadata": {},
   "outputs": [
    {
     "data": {
      "text/plain": [
       "4"
      ]
     },
     "execution_count": 93,
     "metadata": {},
     "output_type": "execute_result"
    }
   ],
   "source": [
    "solver.change(5, [1,2,5])"
   ]
  },
  {
   "cell_type": "code",
   "execution_count": 138,
   "metadata": {},
   "outputs": [],
   "source": [
    "class Solution:\n",
    "    def change(self, amount, coins):\n",
    "        '''\n",
    "        '''\n",
    "        \n",
    "        L = len(coins)\n",
    "        \n",
    "        count_coin = [0,]*(amount+1)\n",
    "        \n",
    "        count_coin[0] = 1\n",
    "        \n",
    "        for i in range(L):\n",
    "            coin = coins[i]\n",
    "            for val in range(amount+1):\n",
    "                if coin <= val:\n",
    "                    count_coin[val] = count_coin[val] + count_coin[val-coin]\n",
    "        return count_coin[-1]"
   ]
  },
  {
   "cell_type": "code",
   "execution_count": 140,
   "metadata": {},
   "outputs": [
    {
     "data": {
      "text/plain": [
       "4"
      ]
     },
     "execution_count": 140,
     "metadata": {},
     "output_type": "execute_result"
    }
   ],
   "source": [
    "solver = Solution()\n",
    "solver.change(5, [1,2,5])"
   ]
  },
  {
   "cell_type": "markdown",
   "metadata": {},
   "source": [
    "### Combination Sum IV\n",
    "\n",
    "Given an array of distinct integers nums and a target integer target, return the number of possible combinations that add up to target.\n",
    "\n",
    "The answer is guaranteed to fit in a 32-bit integer.\n",
    "\n",
    "Source: https://leetcode-cn.com/problems/combination-sum-iv/ \n",
    "\n",
    "Example 1:\n",
    "\n",
    "```\n",
    "Input: nums = [1,2,3], target = 4\n",
    "Output: 7\n",
    "Explanation:\n",
    "The possible combination ways are:\n",
    "(1, 1, 1, 1)\n",
    "(1, 1, 2)\n",
    "(1, 2, 1)\n",
    "(1, 3)\n",
    "(2, 1, 1)\n",
    "(2, 2)\n",
    "(3, 1)\n",
    "Note that different sequences are counted as different combinations.\n",
    "```\n",
    "\n",
    "Example 2:\n",
    "\n",
    "```\n",
    "Input: nums = [9], target = 3\n",
    "Output: 0\n",
    "```"
   ]
  },
  {
   "cell_type": "code",
   "execution_count": 144,
   "metadata": {},
   "outputs": [],
   "source": [
    "class Solution:\n",
    "    def combinationSum4(self, nums, target):\n",
    "        '''\n",
    "        '''\n",
    "        \n",
    "        L = len(nums)\n",
    "        \n",
    "        count_combo = [0,]*(target+1)\n",
    "        count_combo[0] = 1\n",
    "        \n",
    "        for val in range(target+1):\n",
    "            for i in range(L):\n",
    "                num = nums[i]\n",
    "                \n",
    "                if num <= target:\n",
    "                \n",
    "                    count_combo[val] = count_combo[val] + count_combo[val-num]\n",
    "                \n",
    "        return count_combo[-1]"
   ]
  },
  {
   "cell_type": "code",
   "execution_count": 145,
   "metadata": {},
   "outputs": [
    {
     "data": {
      "text/plain": [
       "7"
      ]
     },
     "execution_count": 145,
     "metadata": {},
     "output_type": "execute_result"
    }
   ],
   "source": [
    "solver = Solution()\n",
    "solver.combinationSum4([1,2,3], 4)"
   ]
  },
  {
   "cell_type": "code",
   "execution_count": null,
   "metadata": {},
   "outputs": [],
   "source": []
  }
 ],
 "metadata": {
  "kernelspec": {
   "display_name": "Python 3",
   "language": "python",
   "name": "python3"
  },
  "language_info": {
   "codemirror_mode": {
    "name": "ipython",
    "version": 3
   },
   "file_extension": ".py",
   "mimetype": "text/x-python",
   "name": "python",
   "nbconvert_exporter": "python",
   "pygments_lexer": "ipython3",
   "version": "3.6.8"
  }
 },
 "nbformat": 4,
 "nbformat_minor": 4
}
