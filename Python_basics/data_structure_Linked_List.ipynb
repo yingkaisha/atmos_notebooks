{
 "cells": [
  {
   "cell_type": "markdown",
   "metadata": {},
   "source": [
    "# Understanding linked list in Python"
   ]
  },
  {
   "cell_type": "code",
   "execution_count": 1,
   "metadata": {},
   "outputs": [],
   "source": [
    "# define nodes\n",
    "\n",
    "class node(object):\n",
    "    def __init__(self, x):\n",
    "        self.value = x\n",
    "        self.next = None # \"next\" is a pointer that connects this node with pther nodes"
   ]
  },
  {
   "cell_type": "code",
   "execution_count": 2,
   "metadata": {},
   "outputs": [],
   "source": [
    "# define a sequential linked list\n",
    "\n",
    "class seq_list(object):\n",
    "    def __init__(self):\n",
    "        self._head = None # linked list must have a head\n",
    "        \n",
    "    # an ultility that adds a new value from the head\n",
    "    def add(self, x):\n",
    "        node_new = node(x)\n",
    "        \n",
    "        # if no node exist\n",
    "        if self._head is None:\n",
    "            self._head = node_new\n",
    "        # if at lead one node exist\n",
    "        else:\n",
    "            # temporally store the old head node and its downstream nodes\n",
    "            temp = self._head\n",
    "            # assign the new node as the head node\n",
    "            self._head = node_new\n",
    "            # assign the old head node as the next node\n",
    "            self._head.next = temp\n",
    "            \n",
    "    def append(self, x):\n",
    "        node_new = node(x)\n",
    "        \n",
    "        # if no node exist\n",
    "        if self._head is None:\n",
    "            self._head = node_new\n",
    "        # if at least one node exist\n",
    "        else:\n",
    "            # duplicate a pointer from head (so the head node will not be changed)\n",
    "            pointer_work = self._head\n",
    "            \n",
    "            # move to the tail of the list\n",
    "            while pointer_work.next is not None:\n",
    "                pointer_work = pointer_work.next\n",
    "            \n",
    "            pointer_work.next = node_new        "
   ]
  },
  {
   "cell_type": "markdown",
   "metadata": {},
   "source": [
    "# Create a linked list"
   ]
  },
  {
   "cell_type": "code",
   "execution_count": 3,
   "metadata": {},
   "outputs": [],
   "source": [
    "list_test = seq_list()"
   ]
  },
  {
   "cell_type": "code",
   "execution_count": 4,
   "metadata": {},
   "outputs": [],
   "source": [
    "for i in range(10):\n",
    "    list_test.add(i)"
   ]
  },
  {
   "cell_type": "code",
   "execution_count": 6,
   "metadata": {},
   "outputs": [
    {
     "data": {
      "text/plain": [
       "9"
      ]
     },
     "execution_count": 6,
     "metadata": {},
     "output_type": "execute_result"
    }
   ],
   "source": [
    "list_test._head.value"
   ]
  },
  {
   "cell_type": "markdown",
   "metadata": {},
   "source": [
    "# Advanced linked list operations"
   ]
  },
  {
   "cell_type": "markdown",
   "metadata": {},
   "source": [
    "### Revert the list"
   ]
  },
  {
   "cell_type": "code",
   "execution_count": 6,
   "metadata": {},
   "outputs": [],
   "source": [
    "def revert(list_head):\n",
    "    '''\n",
    "    '''\n",
    "    \n",
    "    if list_head is None:\n",
    "        return list_head\n",
    "    if list_head.next is None:\n",
    "        return list_head\n",
    "    \n",
    "    pointer_work = list_head\n",
    "    pointer_reverse = None\n",
    "    temp = None\n",
    "    \n",
    "    while pointer_work is not None:\n",
    "        \n",
    "        temp = pointer_work.next\n",
    "        pointer_work.next = pointer_reverse\n",
    "        pointer_reverse = pointer_work\n",
    "        pointer_work = temp\n",
    "        \n",
    "    return pointer_reverse"
   ]
  },
  {
   "cell_type": "code",
   "execution_count": 7,
   "metadata": {},
   "outputs": [],
   "source": [
    "head_reverse = revert(list_test._head)"
   ]
  },
  {
   "cell_type": "code",
   "execution_count": 8,
   "metadata": {},
   "outputs": [
    {
     "data": {
      "text/plain": [
       "0"
      ]
     },
     "execution_count": 8,
     "metadata": {},
     "output_type": "execute_result"
    }
   ],
   "source": [
    "head_reverse.value"
   ]
  },
  {
   "cell_type": "markdown",
   "metadata": {},
   "source": [
    "### Return the last k-th node of a list"
   ]
  },
  {
   "cell_type": "code",
   "execution_count": 9,
   "metadata": {},
   "outputs": [],
   "source": [
    "def index_from_tail(list_head, ind):\n",
    "    '''\n",
    "    '''\n",
    "    \n",
    "    if list_head is None:\n",
    "        return list_head\n",
    "    if list_head.next is None:\n",
    "        return list_head\n",
    "    \n",
    "    assert ind >= 0, 'Input index \"{}\" should be non-negative'.format(ind)\n",
    "    \n",
    "    ind = int(ind)\n",
    "    \n",
    "    pointer_work = list_head\n",
    "    pointer_tail = list_head\n",
    "    i = 0 # shifts from work to tail\n",
    "    \n",
    "    while (pointer_tail.next is not None) and (i < ind):\n",
    "        pointer_tail = pointer_tail.next\n",
    "        i += 1\n",
    "        \n",
    "    if i < ind:\n",
    "        print(\"Warning: Input index is larger than the length of the linked list. The first node is returned\")\n",
    "        return list_head\n",
    "    \n",
    "    while pointer_tail.next is not None:\n",
    "        pointer_work = pointer_work.next\n",
    "        pointer_tail = pointer_tail.next\n",
    "        \n",
    "    return pointer_work\n",
    "        \n",
    "    "
   ]
  },
  {
   "cell_type": "code",
   "execution_count": 130,
   "metadata": {},
   "outputs": [
    {
     "name": "stdout",
     "output_type": "stream",
     "text": [
      "Warning: Input index is larger than the length of the linked list. The first node is returned\n"
     ]
    }
   ],
   "source": [
    "node_ind = index_from_tail(list_test._head, 10)"
   ]
  },
  {
   "cell_type": "markdown",
   "metadata": {},
   "source": [
    "### Delete duplicated nodes"
   ]
  },
  {
   "cell_type": "code",
   "execution_count": 222,
   "metadata": {},
   "outputs": [],
   "source": [
    "def unique(list_head):\n",
    "    '''\n",
    "    '''\n",
    "    \n",
    "    if list_head is None:\n",
    "        return list_head\n",
    "    if list_head.next is None:\n",
    "        return list_head\n",
    "    \n",
    "    pointer_anchor = list_head\n",
    "    \n",
    "    while pointer_anchor is not None:\n",
    "        #print(pointer_anchor.value)\n",
    "        \n",
    "        # identifier: node connections changed\n",
    "        flag_change = False\n",
    "        \n",
    "        # two walkers start from the current anchor\n",
    "        pointer_walk_step0 = pointer_anchor\n",
    "        pointer_walk_step1 = pointer_anchor.next\n",
    "        \n",
    "        # anchor value\n",
    "        val_anchor = pointer_anchor.value\n",
    "        \n",
    "        while pointer_walk_step1 is not None:\n",
    "            \n",
    "            # current walker value\n",
    "            val_walk = pointer_walk_step1.value\n",
    "            \n",
    "            # found dups\n",
    "            if val_anchor == val_walk:\n",
    "                \n",
    "                # delete dups\n",
    "                pointer_walk_step0.next = pointer_walk_step1.next\n",
    "                \n",
    "                # move the two walkers\n",
    "                pointer_walk_step0 = pointer_walk_step0.next\n",
    "                pointer_walk_step1 = pointer_walk_step1.next\n",
    "                \n",
    "                # node connections changed after deleting dups\n",
    "                flag_change = True\n",
    "                \n",
    "            else:\n",
    "                # move the two walkers\n",
    "                pointer_walk_step0 = pointer_walk_step0.next\n",
    "                pointer_walk_step1 = pointer_walk_step1.next\n",
    "                \n",
    "        # if node connections not changed --> this anchor value is unique\n",
    "        #     --> move to the next anchor\n",
    "        if not flag_change:\n",
    "            pointer_anchor = pointer_anchor.next\n",
    "        \n",
    "    return list_head\n",
    "                "
   ]
  },
  {
   "cell_type": "code",
   "execution_count": 237,
   "metadata": {},
   "outputs": [],
   "source": []
  },
  {
   "cell_type": "code",
   "execution_count": 265,
   "metadata": {},
   "outputs": [],
   "source": [
    "list_test = seq_list()\n",
    "\n",
    "list_test.append(0)\n",
    "list_test.append(0)\n",
    "list_test.append(0)\n",
    "list_test.append(0)\n",
    "list_test.append(2)\n",
    "list_test.append(2)\n",
    "\n",
    "list_test.append(20)\n",
    "\n",
    "list_test.append(2)\n",
    "list_test.append(1)\n",
    "list_test.append(1)\n",
    "list_test.append(1)\n",
    "list_test.append(2)"
   ]
  },
  {
   "cell_type": "code",
   "execution_count": 266,
   "metadata": {},
   "outputs": [],
   "source": [
    "head_unique = unique(list_test._head)"
   ]
  },
  {
   "cell_type": "code",
   "execution_count": 268,
   "metadata": {},
   "outputs": [
    {
     "data": {
      "text/plain": [
       "1"
      ]
     },
     "execution_count": 268,
     "metadata": {},
     "output_type": "execute_result"
    }
   ],
   "source": [
    "head_unique.next.next.next.value"
   ]
  },
  {
   "cell_type": "code",
   "execution_count": null,
   "metadata": {},
   "outputs": [],
   "source": []
  },
  {
   "cell_type": "markdown",
   "metadata": {},
   "source": [
    "### delete nodes that a given value"
   ]
  },
  {
   "cell_type": "code",
   "execution_count": 501,
   "metadata": {},
   "outputs": [],
   "source": [
    "def remove(list_head, x):\n",
    "    '''\n",
    "    '''\n",
    "    if list_head is None:\n",
    "        return list_head\n",
    "    \n",
    "    # upstream pointer\n",
    "    pointer_upstream = None\n",
    "    \n",
    "    # output pointer (new list head)\n",
    "    pointer_work = list_head\n",
    "    \n",
    "    # loop while not the last node\n",
    "    while pointer_work is not None:\n",
    "        \n",
    "        # current node value\n",
    "        val_work = pointer_work.value\n",
    "        #print(val_work)\n",
    "        \n",
    "        # if it matches to the target\n",
    "        if val_work == x:\n",
    "            \n",
    "            # if it is the 1st node\n",
    "            if pointer_upstream is None:\n",
    "                \n",
    "                # delete\n",
    "                temp = pointer_work.next\n",
    "                pointer_work.next = None\n",
    "                pointer_work = temp\n",
    "                \n",
    "                # also update the list head to the first valid position\n",
    "                list_head = temp\n",
    "                \n",
    "            # if it is not the 1st node\n",
    "            else:\n",
    "                # delete\n",
    "                pointer_upstream.next = pointer_work.next\n",
    "                pointer_work = pointer_work.next\n",
    "                \n",
    "        else:\n",
    "            # pointers move to the next node\n",
    "            pointer_upstream = pointer_work\n",
    "            pointer_work = pointer_work.next\n",
    "\n",
    "    return list_head\n",
    "                \n"
   ]
  },
  {
   "cell_type": "code",
   "execution_count": 502,
   "metadata": {},
   "outputs": [],
   "source": [
    "list_test = seq_list()\n",
    "\n",
    "list_test.append(0)\n",
    "list_test.append(0)\n",
    "list_test.append(0)\n",
    "list_test.append(0)\n",
    "list_test.append(2)\n",
    "list_test.append(2)\n",
    "list_test.append(2)\n",
    "\n",
    "list_test.append(20)\n",
    "\n",
    "list_test.append(1)\n",
    "list_test.append(1)\n",
    "list_test.append(1)\n",
    "list_test.append(2)"
   ]
  },
  {
   "cell_type": "code",
   "execution_count": 503,
   "metadata": {},
   "outputs": [],
   "source": [
    "head_remove = remove(list_test._head, 20)"
   ]
  },
  {
   "cell_type": "markdown",
   "metadata": {},
   "source": [
    "### delete all the duplicated nodes"
   ]
  },
  {
   "cell_type": "code",
   "execution_count": null,
   "metadata": {},
   "outputs": [],
   "source": []
  },
  {
   "cell_type": "code",
   "execution_count": 555,
   "metadata": {},
   "outputs": [],
   "source": [
    "def unique_purge(list_head):\n",
    "    '''\n",
    "    '''\n",
    "    \n",
    "    if list_head is None:\n",
    "        return list_head\n",
    "    if list_head.next is None:\n",
    "        return list_head\n",
    "        \n",
    "    pointer_anchor = list_head\n",
    "    \n",
    "    while pointer_anchor.next is not None:\n",
    "        \n",
    "        # pointer walk\n",
    "        pointer_walk = pointer_anchor.next\n",
    "        \n",
    "        #anchor value\n",
    "        val_anchor = pointer_anchor.value\n",
    "        \n",
    "        # identifier\n",
    "        flag_change = False\n",
    "        \n",
    "        while pointer_walk is not None:\n",
    "            \n",
    "            val_walk = pointer_walk.value\n",
    "            \n",
    "            if val_walk == val_anchor:\n",
    "                \n",
    "                # found dups, remove all\n",
    "                list_head = remove(list_head, val_walk)\n",
    "                \n",
    "                # ========== #\n",
    "                # reset all the pointers\n",
    "                \n",
    "                if list_head is None:\n",
    "                    return list_head\n",
    "                if list_head.next is None:\n",
    "                    return list_head\n",
    "                    \n",
    "                pointer_anchor = list_head\n",
    "                pointer_walk = list_head.next\n",
    "                \n",
    "                val_anchor = pointer_anchor.value\n",
    "                #val_walk = pointer_walk.value\n",
    "                # ========== #\n",
    "                \n",
    "                # the list is modified\n",
    "                flag_change = True\n",
    "                \n",
    "            else:\n",
    "                pointer_walk = pointer_walk.next\n",
    "        \n",
    "        \n",
    "        if not flag_change:\n",
    "            pointer_anchor = pointer_anchor.next\n",
    "            \n",
    "    \n",
    "    return list_head\n",
    "                "
   ]
  },
  {
   "cell_type": "code",
   "execution_count": 556,
   "metadata": {},
   "outputs": [],
   "source": [
    "list_test = seq_list()\n",
    "\n",
    "list_test.append(19)\n",
    "\n",
    "list_test.append(0)\n",
    "list_test.append(0)\n",
    "list_test.append(0)\n",
    "list_test.append(0)\n",
    "list_test.append(2)\n",
    "list_test.append(2)\n",
    "list_test.append(2)\n",
    "\n",
    "list_test.append(20)\n",
    "\n",
    "list_test.append(1)\n",
    "list_test.append(1)\n",
    "list_test.append(1)\n",
    "list_test.append(2)\n",
    "\n",
    "list_test.append(21)"
   ]
  },
  {
   "cell_type": "code",
   "execution_count": 557,
   "metadata": {},
   "outputs": [],
   "source": [
    "head_purge = unique_purge(list_test._head)"
   ]
  },
  {
   "cell_type": "code",
   "execution_count": 558,
   "metadata": {},
   "outputs": [
    {
     "data": {
      "text/plain": [
       "21"
      ]
     },
     "execution_count": 558,
     "metadata": {},
     "output_type": "execute_result"
    }
   ],
   "source": [
    "head_purge.next.next.value"
   ]
  },
  {
   "cell_type": "markdown",
   "metadata": {},
   "source": [
    "### Merge two ascending lists "
   ]
  },
  {
   "cell_type": "code",
   "execution_count": 35,
   "metadata": {},
   "outputs": [],
   "source": [
    "def merge_ascending(list_head1, list_head2):\n",
    "    '''\n",
    "    '''\n",
    "    if list_head1 is None:\n",
    "        return list_head2\n",
    "    if list_head2 is None:\n",
    "        return list_head1\n",
    "    \n",
    "    node_init = node(-9999)\n",
    "    \n",
    "    head_new = node_init\n",
    "\n",
    "    pointer1 = list_head1 #.next\n",
    "    pointer2 = list_head2 #.next\n",
    "    \n",
    "    while (pointer1 is not None) and (pointer2 is not None):\n",
    "        temp_val1 = pointer1.value\n",
    "        temp_val2 = pointer2.value\n",
    "\n",
    "        # list1 value is lower, collect it\n",
    "        if temp_val1 <= temp_val2:\n",
    "            head_new.next = pointer1\n",
    "            head_new = head_new.next\n",
    "            pointer1 = pointer1.next\n",
    "            \n",
    "        # list2 value is lower otherwise\n",
    "        else:\n",
    "            head_new.next = pointer2\n",
    "            head_new = head_new.next\n",
    "            pointer2 = pointer2.next\n",
    "            \n",
    "    # list2 runs out, list1 remains\n",
    "    if pointer1 is not None:\n",
    "        head_new.next = pointer1\n",
    "\n",
    "    # list1 runs out\n",
    "    else:\n",
    "        head_new.next = pointer2\n",
    "            \n",
    "    return node_init.next"
   ]
  },
  {
   "cell_type": "code",
   "execution_count": null,
   "metadata": {},
   "outputs": [],
   "source": []
  },
  {
   "cell_type": "code",
   "execution_count": 36,
   "metadata": {},
   "outputs": [],
   "source": [
    "list_test1 = seq_list()\n",
    "\n",
    "list_test1.append(1)\n",
    "list_test1.append(3)\n",
    "list_test1.append(5)\n",
    "list_test1.append(7)\n",
    "list_test1.append(9)\n",
    "list_test1.append(11)\n",
    "\n",
    "list_test2 = seq_list()\n",
    "\n",
    "list_test2.append(0)\n",
    "list_test2.append(2)\n",
    "list_test2.append(4)\n",
    "list_test2.append(6)\n",
    "list_test2.append(8)\n",
    "list_test2.append(10)\n",
    "list_test2.append(12)"
   ]
  },
  {
   "cell_type": "code",
   "execution_count": 37,
   "metadata": {},
   "outputs": [],
   "source": [
    "head_merge = merge_ascending(list_test1._head, list_test2._head)"
   ]
  },
  {
   "cell_type": "markdown",
   "metadata": {},
   "source": [
    "### Copy a list"
   ]
  },
  {
   "cell_type": "code",
   "execution_count": 46,
   "metadata": {},
   "outputs": [],
   "source": [
    "def copy_list(list_head):\n",
    "    '''\n",
    "    '''\n",
    "    if list_head is None:\n",
    "        return list_head\n",
    "    \n",
    "    head_new = node(-9999)\n",
    "    pointer = head_new\n",
    "    \n",
    "    while list_head is not None:\n",
    "        temp_val = list_head.value\n",
    "        pointer.next = node(temp_val)\n",
    "        pointer = pointer.next\n",
    "        list_head = list_head.next\n",
    "        \n",
    "    return head_new.next"
   ]
  },
  {
   "cell_type": "code",
   "execution_count": 47,
   "metadata": {},
   "outputs": [],
   "source": [
    "list_test = seq_list()\n",
    "\n",
    "list_test.append(1)\n",
    "list_test.append(3)"
   ]
  },
  {
   "cell_type": "code",
   "execution_count": 48,
   "metadata": {},
   "outputs": [],
   "source": [
    "copy_head = copy_list(list_test._head)"
   ]
  },
  {
   "cell_type": "code",
   "execution_count": 50,
   "metadata": {},
   "outputs": [
    {
     "data": {
      "text/plain": [
       "3"
      ]
     },
     "execution_count": 50,
     "metadata": {},
     "output_type": "execute_result"
    }
   ],
   "source": [
    "copy_head.next.value"
   ]
  },
  {
   "cell_type": "code",
   "execution_count": null,
   "metadata": {},
   "outputs": [],
   "source": []
  }
 ],
 "metadata": {
  "kernelspec": {
   "display_name": "Python 3",
   "language": "python",
   "name": "python3"
  },
  "language_info": {
   "codemirror_mode": {
    "name": "ipython",
    "version": 3
   },
   "file_extension": ".py",
   "mimetype": "text/x-python",
   "name": "python",
   "nbconvert_exporter": "python",
   "pygments_lexer": "ipython3",
   "version": "3.6.8"
  }
 },
 "nbformat": 4,
 "nbformat_minor": 4
}
