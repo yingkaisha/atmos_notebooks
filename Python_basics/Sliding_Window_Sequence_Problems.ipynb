{
 "cells": [
  {
   "cell_type": "markdown",
   "metadata": {},
   "source": [
    "# Sliding Window - Sequence Problems"
   ]
  },
  {
   "cell_type": "markdown",
   "metadata": {},
   "source": [
    "### Maximum Average Subarray I\n",
    "\n",
    "You are given an integer array nums consisting of n elements, and an integer k.\n",
    "\n",
    "Find a contiguous subarray whose length is equal to k that has the maximum average value and return this value. Any answer with a calculation error less than 10-5 will be accepted.\n",
    "\n",
    "Source: https://leetcode.com/problems/maximum-average-subarray-i/\n",
    "\n",
    "Example 1:\n",
    "\n",
    "```\n",
    "Input: nums = [1,12,-5,-6,50,3], k = 4\n",
    "Output: 12.75000\n",
    "Explanation: Maximum average is (12 - 5 - 6 + 50) / 4 = 51 / 4 = 12.75\n",
    "```\n",
    "\n",
    "Example 2:\n",
    "\n",
    "```\n",
    "Input: nums = [5], k = 1\n",
    "Output: 5.00000\n",
    "```"
   ]
  },
  {
   "cell_type": "code",
   "execution_count": 23,
   "metadata": {},
   "outputs": [],
   "source": [
    "class Solution:\n",
    "    def findMaxAverage(self, nums, k):\n",
    "        L = len(nums)\n",
    "        # window size: k\n",
    "        temp_ave = -9999\n",
    "        temp_sum = 0\n",
    "        \n",
    "        head = 0\n",
    "        for tail in range(L):\n",
    "            temp_sum += nums[tail]\n",
    "            \n",
    "            if tail+1-head == k:\n",
    "                temp_ave = max(temp_ave, temp_sum/k)\n",
    "                \n",
    "            # if tail >= k-1, head starts moving\n",
    "            # why k-1?, think about the smallest possible k, k=1\n",
    "            # \n",
    "            if tail+1 >= k:\n",
    "                # when head is moved to a new index, \n",
    "                # its old index is out of the window, \n",
    "                # and its old value should be removed from temp_sum\n",
    "                temp_sum = temp_sum - nums[head]\n",
    "                # now move the head\n",
    "                head += 1\n",
    "                \n",
    "        return temp_ave  "
   ]
  },
  {
   "cell_type": "code",
   "execution_count": 24,
   "metadata": {},
   "outputs": [
    {
     "data": {
      "text/plain": [
       "12.75"
      ]
     },
     "execution_count": 24,
     "metadata": {},
     "output_type": "execute_result"
    }
   ],
   "source": [
    "solver = Solution()\n",
    "solver.findMaxAverage([1,12,-5,-6,50,3], 4)"
   ]
  },
  {
   "cell_type": "markdown",
   "metadata": {},
   "source": [
    "### Longest Substring Without Repeating Characters\n",
    "\n",
    "Given a string s, find the length of the longest substring without repeating characters.\n",
    "\n",
    "Example 1:\n",
    "\n",
    "```\n",
    "Input: s = \"abcabcbb\"\n",
    "Output: 3\n",
    "Explanation: The answer is \"abc\", with the length of 3.\n",
    "```\n",
    "\n",
    "Example 2:\n",
    "\n",
    "```\n",
    "Input: s = \"bbbbb\"\n",
    "Output: 1\n",
    "Explanation: The answer is \"b\", with the length of 1.\n",
    "```\n",
    "\n",
    "Example 3:\n",
    "\n",
    "```\n",
    "Input: s = \"pwwkew\"\n",
    "Output: 3\n",
    "Explanation: The answer is \"wke\", with the length of 3.\n",
    "Notice that the answer must be a substring, \"pwke\" is a subsequence and not a substring.\n",
    "```\n",
    "\n",
    "Example 4:\n",
    "\n",
    "```\n",
    "Input: s = \"\"\n",
    "Output: 0\n",
    "```"
   ]
  },
  {
   "cell_type": "code",
   "execution_count": 4,
   "metadata": {},
   "outputs": [],
   "source": [
    "class Solution:\n",
    "    def lengthOfLongestSubstring(self, s):\n",
    "        '''\n",
    "        '''\n",
    "        L = len(s)\n",
    "        max_len = 0\n",
    "        hash_table = {}\n",
    "        \n",
    "        head = 0\n",
    "        for tail in range(L):\n",
    "            temp_str = s[tail]\n",
    "            # hash map: if there is a duplicate, then its length will not change\n",
    "            hash_table[temp_str] = hash_table.get(temp_str, 0) + 1\n",
    "            \n",
    "            # if no duplicates found so far,\n",
    "            # then it is a valid substring\n",
    "            if len(hash_table) == tail - head + 1:\n",
    "                max_len = max(max_len, len(hash_table))\n",
    "                \n",
    "            # while loop ensures that our sliding window is always placed on non-repeat substrings\n",
    "            while len(hash_table) < tail - head + 1:\n",
    "                # move head index one-by-one\n",
    "                # until head->tail contains no duplicate\n",
    "                key_head = s[head]\n",
    "                if hash_table[key_head] == 0:\n",
    "                    del hash_table[key_head]\n",
    "                else:\n",
    "                    hash_table[key_head] -= 1\n",
    "                # move head index by one\n",
    "                head += 1\n",
    "        return max_len\n",
    "            "
   ]
  },
  {
   "cell_type": "code",
   "execution_count": 5,
   "metadata": {},
   "outputs": [
    {
     "data": {
      "text/plain": [
       "3"
      ]
     },
     "execution_count": 5,
     "metadata": {},
     "output_type": "execute_result"
    }
   ],
   "source": [
    "solver = Solution()\n",
    "solver.lengthOfLongestSubstring('abcabcbb')"
   ]
  },
  {
   "cell_type": "markdown",
   "metadata": {},
   "source": [
    "### Minimum Size Subarray Sum\n",
    "\n",
    "Given an array of positive integers nums and a positive integer target, return the minimal length of a contiguous subarray [numsl, numsl+1, ..., numsr-1, numsr] of which the sum is greater than or equal to target. If there is no such subarray, return 0 instead.\n",
    "\n",
    "Source: https://leetcode.com/problems/minimum-size-subarray-sum/ \n",
    "\n",
    "Example 1:\n",
    "\n",
    "```\n",
    "Input: target = 7, nums = [2,3,1,2,4,3]\n",
    "Output: 2\n",
    "Explanation: The subarray [4,3] has the minimal length under the problem constraint.\n",
    "```\n",
    "\n",
    "Example 2:\n",
    "\n",
    "```\n",
    "Input: target = 4, nums = [1,4,4]\n",
    "Output: 1\n",
    "```\n",
    "\n",
    "Example 3:\n",
    "\n",
    "```\n",
    "Input: target = 11, nums = [1,1,1,1,1,1,1,1]\n",
    "Output: 0\n",
    "```"
   ]
  },
  {
   "cell_type": "code",
   "execution_count": 11,
   "metadata": {},
   "outputs": [],
   "source": [
    "class Solution:\n",
    "    def minSubArrayLen(self, target, nums):\n",
    "        '''\n",
    "        '''\n",
    "        \n",
    "        sum_nums = sum(nums)\n",
    "        L = len(nums)\n",
    "        \n",
    "        # skipping exceptions\n",
    "        if sum_nums == target:\n",
    "            return L\n",
    "        if sum_nums < target:\n",
    "            return 0\n",
    "        if target in nums is True:\n",
    "            return 1\n",
    "        \n",
    "        temp_min_L = L\n",
    "        temp_sum = 0\n",
    "        \n",
    "        head = 0\n",
    "        for tail in range(L):\n",
    "            temp_sum += nums[tail] \n",
    "            if temp_sum >= target:\n",
    "                temp_min_L = min(temp_min_L, tail-head+1)\n",
    "            \n",
    "            # while loop ensures a valid window\n",
    "            # here \">= target\" is defined as valid\n",
    "            while temp_sum >= target:\n",
    "                temp_min_L = min(temp_min_L, tail-head+1)\n",
    "                temp_sum -= nums[head]\n",
    "                head += 1\n",
    "                \n",
    "        return temp_min_L\n",
    "        "
   ]
  },
  {
   "cell_type": "code",
   "execution_count": 12,
   "metadata": {},
   "outputs": [
    {
     "data": {
      "text/plain": [
       "2"
      ]
     },
     "execution_count": 12,
     "metadata": {},
     "output_type": "execute_result"
    }
   ],
   "source": [
    "solver = Solution()\n",
    "solver.minSubArrayLen(7, [2,3,1,2,4,3])"
   ]
  },
  {
   "cell_type": "code",
   "execution_count": null,
   "metadata": {},
   "outputs": [],
   "source": []
  },
  {
   "cell_type": "markdown",
   "metadata": {},
   "source": [
    "### Maximum Erasure Value\n",
    "\n",
    "You are given an array of positive integers nums and want to erase a subarray containing unique elements. The score you get by erasing the subarray is equal to the sum of its elements.\n",
    "\n",
    "Return the maximum score you can get by erasing exactly one subarray.\n",
    "\n",
    "An array b is called to be a subarray of a if it forms a contiguous subsequence of a, that is, if it is equal to a[l],a[l+1],...,a[r] for some (l,r).\n",
    "\n",
    "Source: https://leetcode.com/problems/maximum-erasure-value/\n",
    "\n",
    "Example 1:\n",
    "\n",
    "```\n",
    "Input: nums = [4,2,4,5,6]\n",
    "Output: 17\n",
    "Explanation: The optimal subarray here is [2,4,5,6].\n",
    "```\n",
    "\n",
    "Example 2:\n",
    "\n",
    "```\n",
    "Input: nums = [5,2,1,2,5,2,1,2,5]\n",
    "Output: 8\n",
    "Explanation: The optimal subarray here is [5,2,1] or [1,2,5].\n",
    "```"
   ]
  },
  {
   "cell_type": "code",
   "execution_count": 16,
   "metadata": {},
   "outputs": [],
   "source": [
    "class Solution:\n",
    "    def maximumUniqueSubarray(self, nums):\n",
    "        '''\n",
    "        '''\n",
    "        \n",
    "        L = len(nums)\n",
    "        temp_sum = 0\n",
    "        temp_max = 0\n",
    "        hash_table = {}\n",
    "        \n",
    "        head = 0\n",
    "        for tail in range(L):\n",
    "            temp_sum += nums[tail]\n",
    "            hash_table[nums[tail]] = hash_table.get(nums[tail], 0) + 1\n",
    "            \n",
    "            if len(hash_table) == tail - head + 1:\n",
    "                temp_max = max(temp_max, temp_sum)\n",
    "                \n",
    "            while len(hash_table) < (tail - head + 1):\n",
    "                temp_sum -= nums[head]\n",
    "                \n",
    "                if hash_table[nums[head]] == 1:\n",
    "                    del hash_table[nums[head]]\n",
    "                else:\n",
    "                    hash_table[nums[head]] -= 1\n",
    "                    \n",
    "                #temp_max = max(temp_max, temp_sum) # <-- ???\n",
    "                head += 1\n",
    "                \n",
    "        return temp_max"
   ]
  },
  {
   "cell_type": "code",
   "execution_count": 17,
   "metadata": {},
   "outputs": [
    {
     "data": {
      "text/plain": [
       "8"
      ]
     },
     "execution_count": 17,
     "metadata": {},
     "output_type": "execute_result"
    }
   ],
   "source": [
    "solver = Solution()\n",
    "solver.maximumUniqueSubarray([5,2,1,2,5,2,1,2,5])"
   ]
  },
  {
   "cell_type": "markdown",
   "metadata": {},
   "source": [
    "### Find All Anagrams in a String\n",
    "\n",
    "Given two strings s and p, return an array of all the start indices of p's anagrams in s. You may return the answer in any order.\n",
    "\n",
    "An Anagram is a word or phrase formed by rearranging the letters of a different word or phrase, typically using all the original letters exactly once.\n",
    "\n",
    "Source: https://leetcode.com/problems/find-all-anagrams-in-a-string/\n",
    "\n",
    "Example 1:\n",
    "\n",
    "```\n",
    "Input: s = \"cbaebabacd\", p = \"abc\"\n",
    "Output: [0,6]\n",
    "Explanation:\n",
    "The substring with start index = 0 is \"cba\", which is an anagram of \"abc\".\n",
    "The substring with start index = 6 is \"bac\", which is an anagram of \"abc\".\n",
    "```\n",
    "\n",
    "Example 2:\n",
    "\n",
    "```\n",
    "Input: s = \"abab\", p = \"ab\"\n",
    "Output: [0,1,2]\n",
    "Explanation:\n",
    "The substring with start index = 0 is \"ab\", which is an anagram of \"ab\".\n",
    "The substring with start index = 1 is \"ba\", which is an anagram of \"ab\".\n",
    "The substring with start index = 2 is \"ab\", which is an anagram of \"ab\".\n",
    "```"
   ]
  },
  {
   "cell_type": "code",
   "execution_count": 20,
   "metadata": {},
   "outputs": [],
   "source": [
    "class Solution:\n",
    "    def findAnagrams(self, s, p):\n",
    "        '''\n",
    "        '''\n",
    "        \n",
    "        L = len(s)\n",
    "        L_p = len(p)\n",
    "        \n",
    "        hash_map = {}\n",
    "        hash_base = {}\n",
    "        \n",
    "        # output\n",
    "        index_collection = []\n",
    "        \n",
    "        # Fill the reference hash\n",
    "        for letter in p:\n",
    "            hash_base[letter] = hash_base.get(letter, 0) + 1\n",
    "        \n",
    "        head = 0\n",
    "        for tail in range(L):\n",
    "            temp_letter = s[tail]\n",
    "            hash_map[temp_letter] = hash_map.get(temp_letter, 0) + 1\n",
    "            \n",
    "            # Analog\n",
    "            if hash_map == hash_base:\n",
    "                index_collection.append(head)\n",
    "                \n",
    "            if tail + 1 >= L_p:\n",
    "                temp_letter_head = s[head]\n",
    "                if hash_map[temp_letter_head] == 1:\n",
    "                    del hash_map[temp_letter_head]\n",
    "                else:\n",
    "                    hash_map[temp_letter_head] -= 1\n",
    "                head += 1\n",
    "        return index_collection \n",
    "        \n",
    "                \n",
    "        "
   ]
  },
  {
   "cell_type": "code",
   "execution_count": 22,
   "metadata": {},
   "outputs": [
    {
     "data": {
      "text/plain": [
       "[0, 1, 2]"
      ]
     },
     "execution_count": 22,
     "metadata": {},
     "output_type": "execute_result"
    }
   ],
   "source": [
    "solver = Solution()\n",
    "solver.findAnagrams(\"abab\", \"ab\")"
   ]
  },
  {
   "cell_type": "markdown",
   "metadata": {},
   "source": [
    "### Permutation in String\n",
    "\n",
    "Given two strings s1 and s2, return true if s2 contains a permutation of s1, or false otherwise.\n",
    "\n",
    "In other words, return true if one of s1's permutations is the substring of s2.\n",
    "\n",
    "Source: https://leetcode.com/problems/permutation-in-string/\n",
    "\n",
    "Example 1:\n",
    "\n",
    "```\n",
    "Input: s1 = \"ab\", s2 = \"eidbaooo\"\n",
    "Output: true\n",
    "Explanation: s2 contains one permutation of s1 (\"ba\").\n",
    "```\n",
    "\n",
    "Example 2:\n",
    "\n",
    "```\n",
    "Input: s1 = \"ab\", s2 = \"eidboaoo\"\n",
    "Output: false\n",
    "```"
   ]
  },
  {
   "cell_type": "code",
   "execution_count": 23,
   "metadata": {},
   "outputs": [],
   "source": [
    "class Solution:\n",
    "    def checkInclusion(self, s1, s2):\n",
    "        '''\n",
    "        '''\n",
    "        \n",
    "        flag_permute = False\n",
    "        \n",
    "        hash_base = {}\n",
    "        hash_map = {}\n",
    "        \n",
    "        L1 = len(s1)\n",
    "        L2 = len(s2)\n",
    "        \n",
    "        for letter in s1:\n",
    "            hash_base[letter] = hash_base.get(letter, 0) + 1\n",
    "            \n",
    "        head = 0\n",
    "        for tail in range(L2):\n",
    "            temp_letter = s2[tail]\n",
    "            \n",
    "            hash_map[temp_letter] = hash_map.get(temp_letter, 0) + 1\n",
    "            \n",
    "            if hash_map == hash_base:\n",
    "                flag_permute = True\n",
    "                return flag_permute\n",
    "            \n",
    "            if tail + 1 >= L1:\n",
    "                temp_letter_head = s2[head]\n",
    "                \n",
    "                if hash_map[temp_letter_head] == 1:\n",
    "                    del hash_map[temp_letter_head]\n",
    "                else:\n",
    "                    hash_map[temp_letter_head] -= 1\n",
    "                \n",
    "                head += 1\n",
    "                \n",
    "        return flag_permute"
   ]
  },
  {
   "cell_type": "code",
   "execution_count": 25,
   "metadata": {},
   "outputs": [
    {
     "data": {
      "text/plain": [
       "False"
      ]
     },
     "execution_count": 25,
     "metadata": {},
     "output_type": "execute_result"
    }
   ],
   "source": [
    "solver = Solution()\n",
    "solver.checkInclusion(\"ab\", \"eidboaooo\")"
   ]
  },
  {
   "cell_type": "code",
   "execution_count": null,
   "metadata": {},
   "outputs": [],
   "source": []
  },
  {
   "cell_type": "markdown",
   "metadata": {},
   "source": [
    "### Get Equal Substrings Within Budget\n",
    "\n",
    "You are given two strings s and t of the same length. You want to change s to t. Changing the i-th character of s to i-th character of t costs |s[i] - t[i]| that is, the absolute difference between the ASCII values of the characters.\n",
    "\n",
    "You are also given an integer maxCost.\n",
    "\n",
    "Return the maximum length of a substring of s that can be changed to be the same as the corresponding substring of twith a cost less than or equal to maxCost.\n",
    "\n",
    "If there is no substring from s that can be changed to its corresponding substring from t, return 0.\n",
    "\n",
    "Source: https://leetcode.com/problems/get-equal-substrings-within-budget/\n",
    "\n",
    "Example 1:\n",
    "\n",
    "```\n",
    "Input: s = \"abcd\", t = \"bcdf\", maxCost = 3\n",
    "Output: 3\n",
    "Explanation: \"abc\" of s can change to \"bcd\". That costs 3, so the maximum length is 3.\n",
    "```\n",
    "\n",
    "Example 2:\n",
    "\n",
    "```\n",
    "Input: s = \"abcd\", t = \"cdef\", maxCost = 3\n",
    "Output: 1\n",
    "Explanation: Each character in s costs 2 to change to charactor in t, so the maximum length is 1.\n",
    "```\n",
    "\n",
    "Example 3:\n",
    "\n",
    "```\n",
    "Input: s = \"abcd\", t = \"acde\", maxCost = 0\n",
    "Output: 1\n",
    "Explanation: You can't make any change, so the maximum length is 1.\n",
    "```"
   ]
  },
  {
   "cell_type": "code",
   "execution_count": 28,
   "metadata": {},
   "outputs": [],
   "source": [
    "class Solution:\n",
    "    def equalSubstring(self, s, t, maxCost):\n",
    "        '''\n",
    "        '''\n",
    "        \n",
    "        L = len(s) # len(s) = len(t)\n",
    "  \n",
    "        temp_cost = 0\n",
    "        max_length = 1\n",
    "        \n",
    "        head  = 0\n",
    "        for tail in range(L):\n",
    "            letter_s = s[tail]\n",
    "            letter_t = t[tail]\n",
    "            \n",
    "            temp_cost += abs(ord(letter_s)-ord(letter_t))\n",
    "            \n",
    "            if temp_cost <= maxCost:\n",
    "                max_length = max(max_length, tail - head + 1)\n",
    "                \n",
    "            while temp_cost > maxCost:\n",
    "                letter_head_cost = abs(ord(s[head])-ord(t[head]))\n",
    "                temp_cost -= letter_head_cost\n",
    "                \n",
    "                head += 1\n",
    "        return max_length"
   ]
  },
  {
   "cell_type": "code",
   "execution_count": 29,
   "metadata": {},
   "outputs": [
    {
     "data": {
      "text/plain": [
       "3"
      ]
     },
     "execution_count": 29,
     "metadata": {},
     "output_type": "execute_result"
    }
   ],
   "source": [
    "solver = Solution()\n",
    "solver.equalSubstring(\"abcd\", \"cdef\", 3)"
   ]
  },
  {
   "cell_type": "code",
   "execution_count": null,
   "metadata": {},
   "outputs": [],
   "source": []
  }
 ],
 "metadata": {
  "kernelspec": {
   "display_name": "Python 3",
   "language": "python",
   "name": "python3"
  },
  "language_info": {
   "codemirror_mode": {
    "name": "ipython",
    "version": 3
   },
   "file_extension": ".py",
   "mimetype": "text/x-python",
   "name": "python",
   "nbconvert_exporter": "python",
   "pygments_lexer": "ipython3",
   "version": "3.6.8"
  }
 },
 "nbformat": 4,
 "nbformat_minor": 4
}
