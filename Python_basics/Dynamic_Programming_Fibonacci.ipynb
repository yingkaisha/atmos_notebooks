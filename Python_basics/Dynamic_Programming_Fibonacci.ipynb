{
 "cells": [
  {
   "cell_type": "markdown",
   "metadata": {},
   "source": [
    "# Dynamic Programming - Fibonacci"
   ]
  },
  {
   "cell_type": "code",
   "execution_count": null,
   "metadata": {},
   "outputs": [],
   "source": []
  },
  {
   "cell_type": "markdown",
   "metadata": {},
   "source": [
    "### Fibonacci Number\n",
    "\n",
    "The Fibonacci numbers, commonly denoted F(n) form a sequence, called the Fibonacci sequence, such that each number is the sum of the two preceding ones, starting from 0 and 1. That is,\n",
    "\n",
    "```\n",
    "F(0) = 0, F(1) = 1\n",
    "F(n) = F(n - 1) + F(n - 2), for n > 1.\n",
    "```\n",
    "\n",
    "Source: https://leetcode.com/problems/fibonacci-number/\n",
    "\n",
    "Given n, calculate F(n).\n",
    "\n",
    "Example 1:\n",
    "\n",
    "```\n",
    "Input: n = 2\n",
    "Output: 1\n",
    "Explanation: F(2) = F(1) + F(0) = 1 + 0 = 1.\n",
    "```\n",
    "\n",
    "Example 2:\n",
    "\n",
    "```\n",
    "Input: n = 3\n",
    "Output: 2\n",
    "Explanation: F(3) = F(2) + F(1) = 1 + 1 = 2.\n",
    "```\n",
    "\n",
    "Example 3:\n",
    "\n",
    "```\n",
    "Input: n = 4\n",
    "Output: 3\n",
    "Explanation: F(4) = F(3) + F(2) = 2 + 1 = 3.\n",
    "```"
   ]
  },
  {
   "cell_type": "code",
   "execution_count": 29,
   "metadata": {},
   "outputs": [],
   "source": [
    "class Solution:\n",
    "    def fib(self, n):\n",
    "        '''\n",
    "        '''\n",
    "        \n",
    "        if n == 0:\n",
    "            return 0\n",
    "        if n == 1:\n",
    "            return 1\n",
    "        \n",
    "        # DP: initializaiton\n",
    "        # (n+1) is needed\n",
    "        F = []\n",
    "        for i in range(n+1):\n",
    "            F.append(None)\n",
    "            \n",
    "        F[0] = 0\n",
    "        F[1] = 1\n",
    "        \n",
    "        # DP substructure\n",
    "        for i in range(2, n+1):\n",
    "            F[i] = F[i-1] + F[i-2]\n",
    "        \n",
    "        return F[-1]"
   ]
  },
  {
   "cell_type": "code",
   "execution_count": 30,
   "metadata": {},
   "outputs": [],
   "source": [
    "solver = Solution()\n",
    "solver.fib(4)"
   ]
  },
  {
   "cell_type": "markdown",
   "metadata": {},
   "source": [
    "### N-th Tribonacci Number\n",
    "\n",
    "The Tribonacci sequence Tn is defined as follows: \n",
    "\n",
    "T0 = 0, T1 = 1, T2 = 1, and Tn+3 = Tn + Tn+1 + Tn+2 for n >= 0.\n",
    "\n",
    "Given n, return the value of Tn.\n",
    "\n",
    "Source: https://leetcode.com/problems/n-th-tribonacci-number/\n",
    "\n",
    "Example 1:\n",
    "\n",
    "```\n",
    "Input: n = 4\n",
    "Output: 4\n",
    "Explanation:\n",
    "T_3 = 0 + 1 + 1 = 2\n",
    "T_4 = 1 + 1 + 2 = 4\n",
    "```\n",
    "\n",
    "Example 2:\n",
    "\n",
    "```\n",
    "Input: n = 25\n",
    "Output: 1389537\n",
    "```"
   ]
  },
  {
   "cell_type": "code",
   "execution_count": 37,
   "metadata": {},
   "outputs": [],
   "source": [
    "class Solution:\n",
    "    def tribonacci(self, n):\n",
    "        '''\n",
    "        '''\n",
    "        \n",
    "        if n == 0:\n",
    "            return 0\n",
    "        if n == 1:\n",
    "            return 1\n",
    "        if n == 2:\n",
    "            return 1\n",
    "        \n",
    "        # DP: initialization\n",
    "        T = []\n",
    "        for i in range(n+1):\n",
    "            T.append(None)\n",
    "        \n",
    "        T[0] = 0\n",
    "        T[1] = 1\n",
    "        T[2] = 1\n",
    "        \n",
    "        # DP\": substructure\n",
    "        for i in range(3, n+1):\n",
    "            T[i] = T[i-3] + T[i-2] + T[i-1]\n",
    "            \n",
    "        return T[-1]"
   ]
  },
  {
   "cell_type": "code",
   "execution_count": 39,
   "metadata": {},
   "outputs": [
    {
     "data": {
      "text/plain": [
       "1389537"
      ]
     },
     "execution_count": 39,
     "metadata": {},
     "output_type": "execute_result"
    }
   ],
   "source": [
    "solver = Solution()\n",
    "solver.tribonacci(25)"
   ]
  },
  {
   "cell_type": "markdown",
   "metadata": {},
   "source": [
    "### Climbing Stairs (frog jump)"
   ]
  },
  {
   "cell_type": "markdown",
   "metadata": {},
   "source": [
    "You are climbing a staircase. It takes n steps to reach the top.\n",
    "\n",
    "Each time you can either climb 1 or 2 steps. In how many distinct ways can you climb to the top?\n",
    "\n",
    "Example 1:\n",
    "\n",
    "```\n",
    "Input: n = 2\n",
    "Output: 2\n",
    "Explanation: There are two ways to climb to the top.\n",
    "1. 1 step + 1 step\n",
    "2. 2 steps\n",
    "```\n",
    "\n",
    "Example 2:\n",
    "\n",
    "```\n",
    "Input: n = 3\n",
    "Output: 3\n",
    "Explanation: There are three ways to climb to the top.\n",
    "1. 1 step + 1 step + 1 step\n",
    "2. 1 step + 2 steps\n",
    "3. 2 steps + 1 step\n",
    "```"
   ]
  },
  {
   "cell_type": "code",
   "execution_count": 43,
   "metadata": {},
   "outputs": [],
   "source": [
    "class Solution:\n",
    "    def climbStairs(self, n):\n",
    "        '''\n",
    "        '''\n",
    "        \n",
    "        if n == 1:\n",
    "            return 1\n",
    "        if n == 2:\n",
    "            return 2\n",
    "        \n",
    "        # DP: initialization\n",
    "        step = []\n",
    "        for i in range(n):\n",
    "            step.append(None)\n",
    "            \n",
    "        step[0] = 1\n",
    "        step[1] = 2\n",
    "        \n",
    "        # DP: substructure\n",
    "        for i in range(2, n):\n",
    "            step[i] = step[i-1] + step[i-2]\n",
    "        \n",
    "        return step[-1]\n",
    "        \n",
    "        "
   ]
  },
  {
   "cell_type": "code",
   "execution_count": 44,
   "metadata": {},
   "outputs": [
    {
     "data": {
      "text/plain": [
       "3"
      ]
     },
     "execution_count": 44,
     "metadata": {},
     "output_type": "execute_result"
    }
   ],
   "source": [
    "solver = Solution()\n",
    "solver.climbStairs(3)"
   ]
  },
  {
   "cell_type": "markdown",
   "metadata": {},
   "source": [
    "### Min Cost Climbing Stairs (frog jump with cost)\n",
    "\n",
    "You are given an integer array cost where cost[i] is the cost of ith step on a staircase. Once you pay the cost, you can either climb one or two steps.\n",
    "\n",
    "You can either start from the step with index 0, or the step with index 1.\n",
    "\n",
    "Return the minimum cost to reach the top of the floor.\n",
    "\n",
    "Example 1:\n",
    "\n",
    "```\n",
    "Input: cost = [10,15,20]\n",
    "Output: 15\n",
    "Explanation: You will start at index 1.\n",
    "- Pay 15 and climb two steps to reach the top.\n",
    "The total cost is 15.\n",
    "```\n",
    "\n",
    "Example 2:\n",
    "\n",
    "```\n",
    "Input: cost = [1,100,1,1,1,100,1,1,100,1]\n",
    "Output: 6\n",
    "Explanation: You will start at index 0.\n",
    "- Pay 1 and climb two steps to reach index 2.\n",
    "- Pay 1 and climb two steps to reach index 4.\n",
    "- Pay 1 and climb two steps to reach index 6.\n",
    "- Pay 1 and climb one step to reach index 7.\n",
    "- Pay 1 and climb two steps to reach index 9.\n",
    "- Pay 1 and climb one step to reach the top.\n",
    "The total cost is 6.\n",
    "```"
   ]
  },
  {
   "cell_type": "code",
   "execution_count": 60,
   "metadata": {},
   "outputs": [],
   "source": [
    "class Solution:\n",
    "    def minCostClimbingStairs(self, cost):\n",
    "        '''\n",
    "        '''\n",
    "        \n",
    "        L = len(cost)\n",
    "        \n",
    "        # DP: initialization\n",
    "        payment = []\n",
    "        \n",
    "        for i in range(L+1):\n",
    "            payment.append(None)\n",
    "            \n",
    "        payment[0] = 0\n",
    "        payment[1] = cost[0]\n",
    "        \n",
    "        # DP: substructure\n",
    "        # finish with 2-step jump v.s. 1-step jump\n",
    "        cost = [0,] + cost\n",
    "        \n",
    "        for i in range(2, L+1):\n",
    "            payment[i] = min(payment[i-2]+cost[i-2], payment[i-1]+cost[i-1])\n",
    "            \n",
    "        return payment[-1]"
   ]
  },
  {
   "cell_type": "code",
   "execution_count": 62,
   "metadata": {},
   "outputs": [
    {
     "data": {
      "text/plain": [
       "6"
      ]
     },
     "execution_count": 62,
     "metadata": {},
     "output_type": "execute_result"
    }
   ],
   "source": [
    "solver = Solution()\n",
    "solver.minCostClimbingStairs([1,100,1,1,1,100,1,1,100,1])"
   ]
  },
  {
   "cell_type": "markdown",
   "metadata": {},
   "source": [
    "### House Robber\n",
    "\n",
    "You are a professional robber planning to rob houses along a street. Each house has a certain amount of money stashed, the only constraint stopping you from robbing each of them is that adjacent houses have security systems connected and it will automatically contact the police if two adjacent houses were broken into on the same night.\n",
    "\n",
    "Given an integer array nums representing the amount of money of each house, return the maximum amount of money you can rob tonight without alerting the police.\n",
    "\n",
    "Source: https://leetcode.com/problems/house-robber/\n",
    "\n",
    "Example 1:\n",
    "\n",
    "```\n",
    "Input: nums = [1,2,3,1]\n",
    "Output: 4\n",
    "Explanation: Rob house 1 (money = 1) and then rob house 3 (money = 3).\n",
    "Total amount you can rob = 1 + 3 = 4.\n",
    "```\n",
    "\n",
    "Example 2:\n",
    "\n",
    "```\n",
    "Input: nums = [2,7,9,3,1]\n",
    "Output: 12\n",
    "Explanation: Rob house 1 (money = 2), rob house 3 (money = 9) and rob house 5 (money = 1).\n",
    "Total amount you can rob = 2 + 9 + 1 = 12.\n",
    "```"
   ]
  },
  {
   "cell_type": "code",
   "execution_count": 66,
   "metadata": {},
   "outputs": [],
   "source": [
    "class Solution:\n",
    "    def rob(self, nums):\n",
    "        '''\n",
    "        '''\n",
    "        \n",
    "        L = len(nums)\n",
    "        \n",
    "        if L == 1:\n",
    "            return nums[0]\n",
    "        \n",
    "        rob_gain = []\n",
    "        \n",
    "        for i in range(L+1):\n",
    "            rob_gain.append(None)\n",
    "            \n",
    "        rob_gain[0] = 0\n",
    "        rob_gain[1] = nums[0]\n",
    "        \n",
    "        nums = [0,]+nums\n",
    "        \n",
    "        for i in range(2, L+1):\n",
    "            rob_gain[i] = max(rob_gain[i-2] + nums[i], rob_gain[i-1])\n",
    "            \n",
    "        return rob_gain[-1]\n",
    "        "
   ]
  },
  {
   "cell_type": "code",
   "execution_count": 67,
   "metadata": {},
   "outputs": [],
   "source": [
    "solver = Solution()"
   ]
  },
  {
   "cell_type": "code",
   "execution_count": 69,
   "metadata": {},
   "outputs": [
    {
     "data": {
      "text/plain": [
       "4"
      ]
     },
     "execution_count": 69,
     "metadata": {},
     "output_type": "execute_result"
    }
   ],
   "source": [
    "solver.rob([1,2,3,1])"
   ]
  },
  {
   "cell_type": "markdown",
   "metadata": {},
   "source": [
    "### House Robber II\n",
    "\n",
    "You are a professional robber planning to rob houses along a street. Each house has a certain amount of money stashed. All houses at this place are arranged in a circle. That means the first house is the neighbor of the last one. Meanwhile, adjacent houses have a security system connected, and it will automatically contact the police if two adjacent houses were broken into on the same night.\n",
    "\n",
    "Given an integer array nums representing the amount of money of each house, return the maximum amount of money you can rob tonight without alerting the police.\n",
    "\n",
    "Source: https://leetcode.com/problems/house-robber-ii/\n",
    "\n",
    "Example 1:\n",
    "\n",
    "```\n",
    "Input: nums = [2,3,2]\n",
    "Output: 3\n",
    "Explanation: You cannot rob house 1 (money = 2) and then rob house 3 (money = 2), because they are adjacent houses.\n",
    "```\n",
    "\n",
    "Example 2:\n",
    "\n",
    "```\n",
    "Input: nums = [1,2,3,1]\n",
    "Output: 4\n",
    "Explanation: Rob house 1 (money = 1) and then rob house 3 (money = 3).\n",
    "Total amount you can rob = 1 + 3 = 4.\n",
    "```\n",
    "\n",
    "Example 3:\n",
    "\n",
    "```\n",
    "Input: nums = [1,2,3]\n",
    "Output: 3\n",
    "```"
   ]
  },
  {
   "cell_type": "code",
   "execution_count": 73,
   "metadata": {},
   "outputs": [],
   "source": [
    "class Solution:\n",
    "    def rob(self, nums):\n",
    "        '''\n",
    "        '''\n",
    "        \n",
    "        # It is similar to that of the previous rob problem, but with two optimizations,\n",
    "        # one excludes the first house, the other exclude the last house\n",
    "        \n",
    "        L = len(nums)\n",
    "        \n",
    "        if L == 1:\n",
    "            return nums[0]\n",
    "         \n",
    "        rob_head = []\n",
    "        rob_tail = []\n",
    "        \n",
    "        for i in range(L):\n",
    "            rob_head.append(None)\n",
    "            rob_tail.append(None)\n",
    "            \n",
    "        nums_head = nums[:-1].copy() # if head, dont rob tail\n",
    "        nums_head = [0,] + nums_head\n",
    "        rob_head[0] = 0\n",
    "        rob_head[1] = nums_head[1]\n",
    "        \n",
    "        nums_tail = nums[1:].copy() # if tail, dont rob head\n",
    "        nums_tail = [0,] + nums_tail\n",
    "        rob_tail[0] = 0\n",
    "        rob_tail[1] = nums_tail[1]\n",
    "        \n",
    "        for i in range(2, L):\n",
    "            rob_head[i] = max(rob_head[i-2]+nums_head[i], rob_head[i-1])\n",
    "            rob_tail[i] = max(rob_tail[i-2]+nums_tail[i], rob_tail[i-1])\n",
    "            \n",
    "        return max(rob_head[-1], rob_tail[-1])"
   ]
  },
  {
   "cell_type": "code",
   "execution_count": 74,
   "metadata": {},
   "outputs": [],
   "source": [
    "solver = Solution()"
   ]
  },
  {
   "cell_type": "code",
   "execution_count": 75,
   "metadata": {},
   "outputs": [
    {
     "data": {
      "text/plain": [
       "3"
      ]
     },
     "execution_count": 75,
     "metadata": {},
     "output_type": "execute_result"
    }
   ],
   "source": [
    "solver.rob([2,3,2])"
   ]
  },
  {
   "cell_type": "code",
   "execution_count": 76,
   "metadata": {},
   "outputs": [
    {
     "data": {
      "text/plain": [
       "4"
      ]
     },
     "execution_count": 76,
     "metadata": {},
     "output_type": "execute_result"
    }
   ],
   "source": [
    "solver.rob([1,2,3,1])"
   ]
  },
  {
   "cell_type": "code",
   "execution_count": 77,
   "metadata": {},
   "outputs": [
    {
     "data": {
      "text/plain": [
       "3"
      ]
     },
     "execution_count": 77,
     "metadata": {},
     "output_type": "execute_result"
    }
   ],
   "source": [
    "solver.rob([1,2,3])"
   ]
  },
  {
   "cell_type": "markdown",
   "metadata": {},
   "source": [
    "**What I have learned**\n",
    "\n",
    "* When confused by the DP substructure, take the \"finishing step\" as an example and generalize it by using \"`i`, `i-1`, `i-2`\"."
   ]
  },
  {
   "cell_type": "code",
   "execution_count": null,
   "metadata": {},
   "outputs": [],
   "source": []
  }
 ],
 "metadata": {
  "kernelspec": {
   "display_name": "Python 3",
   "language": "python",
   "name": "python3"
  },
  "language_info": {
   "codemirror_mode": {
    "name": "ipython",
    "version": 3
   },
   "file_extension": ".py",
   "mimetype": "text/x-python",
   "name": "python",
   "nbconvert_exporter": "python",
   "pygments_lexer": "ipython3",
   "version": "3.6.8"
  }
 },
 "nbformat": 4,
 "nbformat_minor": 4
}
