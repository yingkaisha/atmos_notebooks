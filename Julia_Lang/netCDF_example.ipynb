{
 "cells": [
  {
   "cell_type": "markdown",
   "metadata": {},
   "source": [
    "# JL netCDF example"
   ]
  },
  {
   "cell_type": "code",
   "execution_count": 16,
   "metadata": {},
   "outputs": [],
   "source": [
    "import Glob\n",
    "import NetCDF\n",
    "import PyPlot\n",
    "import FTPClient"
   ]
  },
  {
   "cell_type": "markdown",
   "metadata": {},
   "source": [
    "**Import netCDF data**"
   ]
  },
  {
   "cell_type": "code",
   "execution_count": 3,
   "metadata": {},
   "outputs": [],
   "source": [
    "ftp = FTPClient.FTP(\"ftp://ftp.cdc.noaa.gov/Datasets/ncep.reanalysis.derived/\")\n",
    "ftp_filename = \"surface/slp.mon.mean.nc\";\n",
    "\n",
    "# download to a local path\n",
    "filename = \"/glade/u/home/ksha/WORKSPACE/JL_Collection/data/slp.mon.mean.nc\";\n",
    "FTPClient.download(ftp, ftp_filename, filename);\n",
    "FTPClient.close(ftp)"
   ]
  },
  {
   "cell_type": "markdown",
   "metadata": {},
   "source": [
    "**Browse nc file information**"
   ]
  },
  {
   "cell_type": "code",
   "execution_count": 4,
   "metadata": {},
   "outputs": [
    {
     "name": "stdout",
     "output_type": "stream",
     "text": [
      "\n",
      "##### NetCDF File #####\n",
      "\n",
      "/glade/u/home/ksha/WORKSPACE/JL_Collection/data/slp.mon.mean.nc\n",
      "\n",
      "##### Dimensions #####\n",
      "\n",
      "Name                                                Length                    \n",
      "--------------------------------------------------------------------------------\n",
      "lat                                                 73                        \n",
      "time                                                UNLIMITED (868 currently) \n",
      "lon                                                 144                       \n",
      "\n",
      "##### Variables #####\n",
      "\n",
      "Name                            Type            Dimensions                      \n",
      "--------------------------------------------------------------------------------\n",
      "lat                             FLOAT           lat                             \n",
      "slp                             FLOAT           lon lat time                    \n",
      "time                            DOUBLE          time                            \n",
      "lon                             FLOAT           lon                             \n",
      "\n",
      "##### Attributes #####\n",
      "\n",
      "Variable            Name                Value                                   \n",
      "--------------------------------------------------------------------------------\n",
      "global              NCO                 20121012                                \n",
      "global              history             Thu May  4 18:12:35 2000: ncrcat -d ti..\n",
      "global              dataset_title       NCEP-NCAR Reanalysis 1                  \n",
      "global              References          http://www.psl.noaa.gov/data/gridded/d..\n",
      "global              platform            Model                                   \n",
      "global              title               monthly mean slp from the NCEP Reanaly..\n",
      "global              description         Data is from NMC initialized reanalysi..\n",
      "global              Conventions         COARDS                                  \n",
      "lat                 units               degrees_north                           \n",
      "lat                 long_name           Latitude                                \n",
      "lat                 axis                Y                                       \n",
      "lat                 actual_range        Float32[90.0, -90.0]                    \n",
      "lat                 standard_name       latitude                                \n",
      "slp                 long_name           Sea Level Pressure                      \n",
      "slp                 scale_factor        1.0                                     \n",
      "slp                 precision           1                                       \n",
      "slp                 var_desc            Sea Level Pressure                      \n",
      "slp                 valid_range         Float32[870.0, 1150.0]                  \n",
      "slp                 add_offset          0.0                                     \n",
      "slp                 actual_range        Float32[955.56085, 1082.5582]           \n",
      "slp                 statistic           Mean                                    \n",
      "slp                 least_significant_..1                                       \n",
      "slp                 dataset             NCEP Reanalysis Derived Products        \n",
      "slp                 units               millibars                               \n",
      "slp                 missing_value       -9.96921e36                             \n",
      "slp                 parent_stat         Other                                   \n",
      "slp                 level_desc          Sea Level                               \n",
      "time                units               hours since 1800-01-01 00:00:0.0        \n",
      "time                long_name           Time                                    \n",
      "time                axis                T                                       \n",
      "time                actual_range        [1.29732e6, 1.930656e6]                 \n",
      "time                standard_name       time                                    \n",
      "time                prev_avg_period     0000-00-01 00:00:00                     \n",
      "time                delta_t             0000-01-00 00:00:00                     \n",
      "lon                 units               degrees_east                            \n",
      "lon                 long_name           Longitude                               \n",
      "lon                 axis                X                                       \n",
      "lon                 actual_range        Float32[0.0, 357.5]                     \n",
      "lon                 standard_name       longitude                               \n"
     ]
    }
   ],
   "source": [
    "NetCDF.ncinfo(filename)"
   ]
  },
  {
   "cell_type": "code",
   "execution_count": 6,
   "metadata": {},
   "outputs": [],
   "source": [
    "# get \"lat\", \"lon\" and \"slp\"\n",
    "lat = NetCDF.ncread(filename, \"lat\");\n",
    "lon = NetCDF.ncread(filename, \"lon\");\n",
    "slp = NetCDF.ncread(filename, \"slp\");"
   ]
  },
  {
   "cell_type": "code",
   "execution_count": 20,
   "metadata": {},
   "outputs": [
    {
     "data": {
      "text/plain": [
       "(144, 73)"
      ]
     },
     "execution_count": 20,
     "metadata": {},
     "output_type": "execute_result"
    }
   ],
   "source": [
    "size(slp[:, :, 1])"
   ]
  },
  {
   "cell_type": "code",
   "execution_count": 25,
   "metadata": {},
   "outputs": [],
   "source": [
    "grid_lon = [i for i in lon, j in lat];\n",
    "grid_lat = [j for i in lon, j in lat];"
   ]
  },
  {
   "cell_type": "code",
   "execution_count": 29,
   "metadata": {},
   "outputs": [
    {
     "data": {
      "image/png": "[encoded data removed]",
      "text/plain": [
       "PyPlot.Figure(PyObject <Figure size 600x300 with 2 Axes>)"
      ]
     },
     "metadata": {},
     "output_type": "display_data"
    },
    {
     "data": {
      "text/plain": [
       "PyObject <matplotlib.colorbar.Colorbar object at 0x2acdd5925d50>"
      ]
     },
     "execution_count": 29,
     "metadata": {},
     "output_type": "execute_result"
    }
   ],
   "source": [
    "fig = PyPlot.figure(figsize=(6, 3));\n",
    "ax = fig.gca();\n",
    "CS = ax.contourf(grid_lon, grid_lat, slp[:, :, 1], cmap=PyPlot.ColorMap(\"jet\"));\n",
    "PyPlot.colorbar(CS)"
   ]
  },
  {
   "cell_type": "markdown",
   "metadata": {},
   "source": [
    "**Write netCDF4** with C-like API"
   ]
  },
  {
   "cell_type": "code",
   "execution_count": 36,
   "metadata": {},
   "outputs": [],
   "source": [
    "writename = \"/glade/u/home/ksha/WORKSPACE/JL_Collection/data/test.nc\";\n",
    "nc_attributes = Dict(\"creator\" => \"Kyle\", \"create_date\" => \"2020 May\");"
   ]
  },
  {
   "cell_type": "code",
   "execution_count": 51,
   "metadata": {},
   "outputs": [
    {
     "name": "stdout",
     "output_type": "stream",
     "text": [
      "Base.StackTraces.StackFrame[close(::NetCDF.NcFile) at NetCDF.jl:871, top-level scope at In[51]:12, eval at boot.jl:331 [inlined], softscope_include_string(::Module, ::String, ::String) at SoftGlobalScope.jl:218, execute_request(::ZMQ.Socket, ::IJulia.Msg) at execute_request.jl:67, #invokelatest#1 at essentials.jl:712 [inlined], invokelatest at essentials.jl:711 [inlined], eventloop(::ZMQ.Socket) at eventloop.jl:8, (::IJulia.var\"#15#18\")() at task.jl:358]\n"
     ]
    },
    {
     "name": "stderr",
     "output_type": "stream",
     "text": [
      "┌ Warning: NetCDF.close is deprecated, because closing files is done with finalizers from now on. \n",
      "└ @ NetCDF /glade/u/home/ksha/.julia/packages/NetCDF/RrTZz/src/NetCDF.jl:872\n"
     ]
    }
   ],
   "source": [
    "x_axis = NetCDF.NcDim(\"lon\", 144, values=lon)\n",
    "y_axis = NetCDF.NcDim(\"lat\", 73, values=lat)\n",
    "time = NetCDF.NcDim(\"time\", 0, unlimited=true)\n",
    "\n",
    "var1 = NetCDF.NcVar(\"slp\", [x_axis, y_axis, time])\n",
    "var2 = NetCDF.NcVar(\"slp_duplicate\", [x_axis, y_axis, time])\n",
    "\n",
    "ncio = NetCDF.create(writename, [var1, var2], gatts=nc_attributes) # default mode = nc4\n",
    "NetCDF.putvar(ncio, \"slp\", slp)\n",
    "NetCDF.putvar(ncio, \"slp_duplicate\", slp)\n",
    "NetCDF.close(ncio)"
   ]
  },
  {
   "cell_type": "code",
   "execution_count": 52,
   "metadata": {},
   "outputs": [
    {
     "name": "stdout",
     "output_type": "stream",
     "text": [
      "\n",
      "##### NetCDF File #####\n",
      "\n",
      "/glade/u/home/ksha/WORKSPACE/JL_Collection/data/test.nc\n",
      "\n",
      "##### Dimensions #####\n",
      "\n",
      "Name                                                Length                    \n",
      "--------------------------------------------------------------------------------\n",
      "lat                                                 73                        \n",
      "time                                                UNLIMITED (868 currently) \n",
      "lon                                                 144                       \n",
      "\n",
      "##### Variables #####\n",
      "\n",
      "Name                            Type            Dimensions                      \n",
      "--------------------------------------------------------------------------------\n",
      "lat                             FLOAT           lat                             \n",
      "slp                             DOUBLE          lon lat time                    \n",
      "slp_duplicate                   DOUBLE          lon lat time                    \n",
      "lon                             FLOAT           lon                             \n",
      "\n",
      "##### Attributes #####\n",
      "\n",
      "Variable            Name                Value                                   \n",
      "--------------------------------------------------------------------------------\n",
      "global              create_date         2020 May                                \n",
      "global              creator             Kyle                                    \n"
     ]
    }
   ],
   "source": [
    "NetCDF.ncinfo(writename)"
   ]
  },
  {
   "cell_type": "code",
   "execution_count": null,
   "metadata": {},
   "outputs": [],
   "source": []
  }
 ],
 "metadata": {
  "kernelspec": {
   "display_name": "Julia 1.4.1",
   "language": "julia",
   "name": "julia-1.4"
  },
  "language_info": {
   "file_extension": ".jl",
   "mimetype": "application/julia",
   "name": "julia",
   "version": "1.4.1"
  }
 },
 "nbformat": 4,
 "nbformat_minor": 4
}
