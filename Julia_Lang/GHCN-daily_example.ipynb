{
 "cells": [
  {
   "cell_type": "markdown",
   "metadata": {},
   "source": [
    "# Station data processing"
   ]
  },
  {
   "cell_type": "code",
   "execution_count": 29,
   "metadata": {},
   "outputs": [],
   "source": [
    "import Glob\n",
    "import Dates\n",
    "import PyCall\n",
    "import FTPClient\n",
    "\n",
    "import CSV\n",
    "import DataFrames"
   ]
  },
  {
   "cell_type": "markdown",
   "metadata": {},
   "source": [
    "**Download some station data**"
   ]
  },
  {
   "cell_type": "code",
   "execution_count": 30,
   "metadata": {},
   "outputs": [],
   "source": [
    "ftp = FTPClient.FTP(\"ftp://ftp.ncdc.noaa.gov/pub/data/ghcn/daily/\")\n",
    "ftp_filename = \"by_year/2019.csv.gz\";\n",
    "ftp_metaname = \"ghcnd-stations.txt\"\n",
    "\n",
    "# download to a local path\n",
    "filename = \"/glade/u/home/ksha/WORKSPACE/JL_Collection/data/2019.csv.gz\";\n",
    "metaname = \"/glade/u/home/ksha/WORKSPACE/JL_Collection/data/ghcnd-stations.txt\";\n",
    "FTPClient.download(ftp, ftp_filename, filename);\n",
    "FTPClient.download(ftp, ftp_metaname, metaname);\n",
    "FTPClient.close(ftp)"
   ]
  },
  {
   "cell_type": "code",
   "execution_count": 5,
   "metadata": {},
   "outputs": [
    {
     "data": {
      "text/plain": [
       "Process(`\u001b[4mgunzip\u001b[24m \u001b[4m/glade/u/home/ksha/WORKSPACE/JL_Collection/data/2019.csv.gz\u001b[24m`, ProcessExited(0))"
      ]
     },
     "execution_count": 5,
     "metadata": {},
     "output_type": "execute_result"
    }
   ],
   "source": [
    "# call the system cmd to unpack *.gz\n",
    "run(`gunzip $filename`)"
   ]
  },
  {
   "cell_type": "code",
   "execution_count": 4,
   "metadata": {},
   "outputs": [
    {
     "data": {
      "text/plain": [
       "\"/glade/u/home/ksha/WORKSPACE/JL_Collection/data/2019.csv\""
      ]
     },
     "execution_count": 4,
     "metadata": {},
     "output_type": "execute_result"
    }
   ],
   "source": [
    "filename = filename[1:end-3]"
   ]
  },
  {
   "cell_type": "markdown",
   "metadata": {},
   "source": [
    "**Import csv file as DataFrame**"
   ]
  },
  {
   "cell_type": "code",
   "execution_count": 33,
   "metadata": {},
   "outputs": [],
   "source": [
    "df = CSV.read(filename, header=false);\n",
    "\n",
    "# assigning column names based on the online documentation\n",
    "# ftp://ftp.ncdc.noaa.gov/pub/data/ghcn/daily/readme.txt\n",
    "\n",
    "colnames = [\"stn ID\", \"date\", \"variable\", \"value\", \"measurement_flag\", \"quality_flag\", \"network_flag\", \"obs_flag\"];\n",
    "DataFrames.rename!(df, colnames);"
   ]
  },
  {
   "cell_type": "code",
   "execution_count": 64,
   "metadata": {},
   "outputs": [
    {
     "data": {
      "text/html": [
       "<table class=\"data-frame\"><thead><tr><th></th><th>stn ID</th><th>date</th><th>variable</th><th>value</th><th>measurement_flag</th><th>quality_flag</th><th>network_flag</th></tr><tr><th></th><th>String</th><th>Int64</th><th>String</th><th>Int64</th><th>String⍰</th><th>String⍰</th><th>String</th></tr></thead><tbody><p>4 rows × 8 columns (omitted printing of 1 columns)</p><tr><th>1</th><td>US1FLSL0019</td><td>20190101</td><td>PRCP</td><td>0</td><td>missing</td><td>missing</td><td>N</td></tr><tr><th>2</th><td>US1FLSL0019</td><td>20190101</td><td>SNOW</td><td>0</td><td>missing</td><td>missing</td><td>N</td></tr><tr><th>3</th><td>US1NVNY0012</td><td>20190101</td><td>PRCP</td><td>0</td><td>missing</td><td>missing</td><td>N</td></tr><tr><th>4</th><td>US1NVNY0012</td><td>20190101</td><td>SNOW</td><td>0</td><td>missing</td><td>missing</td><td>N</td></tr></tbody></table>"
      ],
      "text/latex": [
       "\\begin{tabular}{r|cccccccc}\n",
       "\t& stn ID & date & variable & value & measurement\\_flag & quality\\_flag & network\\_flag & \\\\\n",
       "\t\\hline\n",
       "\t& String & Int64 & String & Int64 & String⍰ & String⍰ & String & \\\\\n",
       "\t\\hline\n",
       "\t1 & US1FLSL0019 & 20190101 & PRCP & 0 &  &  & N & $\\dots$ \\\\\n",
       "\t2 & US1FLSL0019 & 20190101 & SNOW & 0 &  &  & N & $\\dots$ \\\\\n",
       "\t3 & US1NVNY0012 & 20190101 & PRCP & 0 &  &  & N & $\\dots$ \\\\\n",
       "\t4 & US1NVNY0012 & 20190101 & SNOW & 0 &  &  & N & $\\dots$ \\\\\n",
       "\\end{tabular}\n"
      ],
      "text/plain": [
       "4×8 DataFrames.DataFrame. Omitted printing of 3 columns\n",
       "│ Row │ stn ID      │ date     │ variable │ value │ measurement_flag │\n",
       "│     │ \u001b[90mString\u001b[39m      │ \u001b[90mInt64\u001b[39m    │ \u001b[90mString\u001b[39m   │ \u001b[90mInt64\u001b[39m │ \u001b[90mString⍰\u001b[39m          │\n",
       "├─────┼─────────────┼──────────┼──────────┼───────┼──────────────────┤\n",
       "│ 1   │ US1FLSL0019 │ 20190101 │ PRCP     │ 0     │ \u001b[90mmissing\u001b[39m          │\n",
       "│ 2   │ US1FLSL0019 │ 20190101 │ SNOW     │ 0     │ \u001b[90mmissing\u001b[39m          │\n",
       "│ 3   │ US1NVNY0012 │ 20190101 │ PRCP     │ 0     │ \u001b[90mmissing\u001b[39m          │\n",
       "│ 4   │ US1NVNY0012 │ 20190101 │ SNOW     │ 0     │ \u001b[90mmissing\u001b[39m          │"
      ]
     },
     "execution_count": 64,
     "metadata": {},
     "output_type": "execute_result"
    }
   ],
   "source": [
    "df[1:4, :] # first 4 rows"
   ]
  },
  {
   "cell_type": "markdown",
   "metadata": {},
   "source": [
    "**DataFrame processing**"
   ]
  },
  {
   "cell_type": "code",
   "execution_count": 81,
   "metadata": {},
   "outputs": [],
   "source": [
    "# subsetting daily mean 2-m temperature\n",
    "df_t2m = filter(df_temp -> any(occursin.([\"TAVG\"], df_temp.variable)), df);\n",
    "\n",
    "# drop network_flag\n",
    "DataFrames.select!(df_t2m, DataFrames.Not(:network_flag));\n",
    "\n",
    "# selecting good flags\n",
    "df_t2m = df_t2m[ismissing.(df_t2m[!, :measurement_flag]), :];\n",
    "df_t2m = df_t2m[ismissing.(df_t2m[!, :quality_flag]), :];\n",
    "df_t2m = df_t2m[ismissing.(df_t2m[!, :obs_flag]), :];\n",
    "\n",
    "# drop useless columns\n",
    "DataFrames.select!(df_t2m, DataFrames.Not(:measurement_flag));\n",
    "DataFrames.select!(df_t2m, DataFrames.Not(:quality_flag));\n",
    "DataFrames.select!(df_t2m, DataFrames.Not(:obs_flag));\n",
    "DataFrames.select!(df_t2m, DataFrames.Not(:variable));"
   ]
  },
  {
   "cell_type": "code",
   "execution_count": 87,
   "metadata": {},
   "outputs": [
    {
     "data": {
      "text/html": [
       "<table class=\"data-frame\"><thead><tr><th></th><th>stn ID</th><th>date</th><th>value</th></tr><tr><th></th><th>String</th><th>Int64</th><th>Int64</th></tr></thead><tbody><p>4 rows × 3 columns</p><tr><th>1</th><td>USS0018D08S</td><td>20190101</td><td>-56</td></tr><tr><th>2</th><td>CA003034485</td><td>20190101</td><td>-44</td></tr><tr><th>3</th><td>USS0006K44S</td><td>20190101</td><td>-117</td></tr><tr><th>4</th><td>USS0010E12S</td><td>20190101</td><td>-179</td></tr></tbody></table>"
      ],
      "text/latex": [
       "\\begin{tabular}{r|ccc}\n",
       "\t& stn ID & date & value\\\\\n",
       "\t\\hline\n",
       "\t& String & Int64 & Int64\\\\\n",
       "\t\\hline\n",
       "\t1 & USS0018D08S & 20190101 & -56 \\\\\n",
       "\t2 & CA003034485 & 20190101 & -44 \\\\\n",
       "\t3 & USS0006K44S & 20190101 & -117 \\\\\n",
       "\t4 & USS0010E12S & 20190101 & -179 \\\\\n",
       "\\end{tabular}\n"
      ],
      "text/plain": [
       "4×3 DataFrames.DataFrame\n",
       "│ Row │ stn ID      │ date     │ value │\n",
       "│     │ \u001b[90mString\u001b[39m      │ \u001b[90mInt64\u001b[39m    │ \u001b[90mInt64\u001b[39m │\n",
       "├─────┼─────────────┼──────────┼───────┤\n",
       "│ 1   │ USS0018D08S │ 20190101 │ -56   │\n",
       "│ 2   │ CA003034485 │ 20190101 │ -44   │\n",
       "│ 3   │ USS0006K44S │ 20190101 │ -117  │\n",
       "│ 4   │ USS0010E12S │ 20190101 │ -179  │"
      ]
     },
     "execution_count": 87,
     "metadata": {},
     "output_type": "execute_result"
    }
   ],
   "source": [
    "df_t2m[1:4, :]"
   ]
  },
  {
   "cell_type": "code",
   "execution_count": 96,
   "metadata": {},
   "outputs": [
    {
     "data": {
      "text/plain": [
       "\"/glade/u/home/ksha/WORKSPACE/JL_Collection/data/T2m_20191231_clean.csv\""
      ]
     },
     "execution_count": 96,
     "metadata": {},
     "output_type": "execute_result"
    }
   ],
   "source": [
    "# subsetting on the date 20191231\n",
    "df_t2m_191231 = filter(df_temp -> any(df_temp.date == 20191231), df_t2m);\n",
    "\n",
    "# write into csv\n",
    "exportname = \"/glade/u/home/ksha/WORKSPACE/JL_Collection/data/T2m_20191231_clean.csv\"\n",
    "CSV.write(exportname, df_t2m_191231)"
   ]
  },
  {
   "cell_type": "markdown",
   "metadata": {},
   "source": [
    "**Import metadata (an irregular text file) as DataFrame**"
   ]
  },
  {
   "cell_type": "code",
   "execution_count": 5,
   "metadata": {},
   "outputs": [],
   "source": [
    "metadata = CSV.read(metaname, header=false, delim=\" \", silencewarnings=true);"
   ]
  },
  {
   "cell_type": "code",
   "execution_count": 6,
   "metadata": {},
   "outputs": [
    {
     "data": {
      "text/html": [
       "<table class=\"data-frame\"><thead><tr><th></th><th>Column1</th><th>Column2</th><th>Column3</th><th>Column4</th><th>Column5</th><th>Column6</th><th>Column7</th><th>Column8</th></tr><tr><th></th><th>String</th><th>Float64⍰</th><th>Float64⍰</th><th>Float64⍰</th><th>Float64⍰</th><th>String⍰</th><th>String⍰</th><th>String⍰</th></tr></thead><tbody><p>10 rows × 38 columns (omitted printing of 30 columns)</p><tr><th>1</th><td>ACW00011604</td><td>missing</td><td>17.1167</td><td>missing</td><td>-61.7833</td><td>missing</td><td>missing</td><td>10.1</td></tr><tr><th>2</th><td>ACW00011647</td><td>missing</td><td>17.1333</td><td>missing</td><td>-61.7833</td><td>missing</td><td>missing</td><td>19.2</td></tr><tr><th>3</th><td>AE000041196</td><td>missing</td><td>25.333</td><td>missing</td><td>missing</td><td>55.5170</td><td>missing</td><td>missing</td></tr><tr><th>4</th><td>AEM00041194</td><td>missing</td><td>25.255</td><td>missing</td><td>missing</td><td>55.3640</td><td>missing</td><td>missing</td></tr><tr><th>5</th><td>AEM00041217</td><td>missing</td><td>24.433</td><td>missing</td><td>missing</td><td>54.6510</td><td>missing</td><td>missing</td></tr><tr><th>6</th><td>AEM00041218</td><td>missing</td><td>24.262</td><td>missing</td><td>missing</td><td>55.6090</td><td>missing</td><td>264.9</td></tr><tr><th>7</th><td>AF000040930</td><td>missing</td><td>35.317</td><td>missing</td><td>missing</td><td>69.0170</td><td>3366.0</td><td>missing</td></tr><tr><th>8</th><td>AFM00040938</td><td>missing</td><td>34.21</td><td>missing</td><td>missing</td><td>62.2280</td><td>missing</td><td>977.2</td></tr><tr><th>9</th><td>AFM00040948</td><td>missing</td><td>34.566</td><td>missing</td><td>missing</td><td>69.2120</td><td>1791.3</td><td>missing</td></tr><tr><th>10</th><td>AFM00040990</td><td>missing</td><td>31.5</td><td>missing</td><td>missing</td><td>65.8500</td><td>1010.0</td><td>missing</td></tr></tbody></table>"
      ],
      "text/latex": [
       "\\begin{tabular}{r|ccccccccc}\n",
       "\t& Column1 & Column2 & Column3 & Column4 & Column5 & Column6 & Column7 & Column8 & \\\\\n",
       "\t\\hline\n",
       "\t& String & Float64⍰ & Float64⍰ & Float64⍰ & Float64⍰ & String⍰ & String⍰ & String⍰ & \\\\\n",
       "\t\\hline\n",
       "\t1 & ACW00011604 &  & 17.1167 &  & -61.7833 &  &  & 10.1 & $\\dots$ \\\\\n",
       "\t2 & ACW00011647 &  & 17.1333 &  & -61.7833 &  &  & 19.2 & $\\dots$ \\\\\n",
       "\t3 & AE000041196 &  & 25.333 &  &  & 55.5170 &  &  & $\\dots$ \\\\\n",
       "\t4 & AEM00041194 &  & 25.255 &  &  & 55.3640 &  &  & $\\dots$ \\\\\n",
       "\t5 & AEM00041217 &  & 24.433 &  &  & 54.6510 &  &  & $\\dots$ \\\\\n",
       "\t6 & AEM00041218 &  & 24.262 &  &  & 55.6090 &  & 264.9 & $\\dots$ \\\\\n",
       "\t7 & AF000040930 &  & 35.317 &  &  & 69.0170 & 3366.0 &  & $\\dots$ \\\\\n",
       "\t8 & AFM00040938 &  & 34.21 &  &  & 62.2280 &  & 977.2 & $\\dots$ \\\\\n",
       "\t9 & AFM00040948 &  & 34.566 &  &  & 69.2120 & 1791.3 &  & $\\dots$ \\\\\n",
       "\t10 & AFM00040990 &  & 31.5 &  &  & 65.8500 & 1010.0 &  & $\\dots$ \\\\\n",
       "\\end{tabular}\n"
      ],
      "text/plain": [
       "10×38 DataFrames.DataFrame. Omitted printing of 32 columns\n",
       "│ Row │ Column1     │ Column2  │ Column3  │ Column4  │ Column5  │ Column6 │\n",
       "│     │ \u001b[90mString\u001b[39m      │ \u001b[90mFloat64⍰\u001b[39m │ \u001b[90mFloat64⍰\u001b[39m │ \u001b[90mFloat64⍰\u001b[39m │ \u001b[90mFloat64⍰\u001b[39m │ \u001b[90mString⍰\u001b[39m │\n",
       "├─────┼─────────────┼──────────┼──────────┼──────────┼──────────┼─────────┤\n",
       "│ 1   │ ACW00011604 │ \u001b[90mmissing\u001b[39m  │ 17.1167  │ \u001b[90mmissing\u001b[39m  │ -61.7833 │ \u001b[90mmissing\u001b[39m │\n",
       "│ 2   │ ACW00011647 │ \u001b[90mmissing\u001b[39m  │ 17.1333  │ \u001b[90mmissing\u001b[39m  │ -61.7833 │ \u001b[90mmissing\u001b[39m │\n",
       "│ 3   │ AE000041196 │ \u001b[90mmissing\u001b[39m  │ 25.333   │ \u001b[90mmissing\u001b[39m  │ \u001b[90mmissing\u001b[39m  │ 55.5170 │\n",
       "│ 4   │ AEM00041194 │ \u001b[90mmissing\u001b[39m  │ 25.255   │ \u001b[90mmissing\u001b[39m  │ \u001b[90mmissing\u001b[39m  │ 55.3640 │\n",
       "│ 5   │ AEM00041217 │ \u001b[90mmissing\u001b[39m  │ 24.433   │ \u001b[90mmissing\u001b[39m  │ \u001b[90mmissing\u001b[39m  │ 54.6510 │\n",
       "│ 6   │ AEM00041218 │ \u001b[90mmissing\u001b[39m  │ 24.262   │ \u001b[90mmissing\u001b[39m  │ \u001b[90mmissing\u001b[39m  │ 55.6090 │\n",
       "│ 7   │ AF000040930 │ \u001b[90mmissing\u001b[39m  │ 35.317   │ \u001b[90mmissing\u001b[39m  │ \u001b[90mmissing\u001b[39m  │ 69.0170 │\n",
       "│ 8   │ AFM00040938 │ \u001b[90mmissing\u001b[39m  │ 34.21    │ \u001b[90mmissing\u001b[39m  │ \u001b[90mmissing\u001b[39m  │ 62.2280 │\n",
       "│ 9   │ AFM00040948 │ \u001b[90mmissing\u001b[39m  │ 34.566   │ \u001b[90mmissing\u001b[39m  │ \u001b[90mmissing\u001b[39m  │ 69.2120 │\n",
       "│ 10  │ AFM00040990 │ \u001b[90mmissing\u001b[39m  │ 31.5     │ \u001b[90mmissing\u001b[39m  │ \u001b[90mmissing\u001b[39m  │ 65.8500 │"
      ]
     },
     "execution_count": 6,
     "metadata": {},
     "output_type": "execute_result"
    }
   ],
   "source": [
    "metadata[1:10, :]"
   ]
  },
  {
   "cell_type": "code",
   "execution_count": 37,
   "metadata": {},
   "outputs": [],
   "source": [
    "size_df = size(metadata);"
   ]
  },
  {
   "cell_type": "code",
   "execution_count": 42,
   "metadata": {},
   "outputs": [],
   "source": [
    "meta_array = Array{Float64}(undef, size_df[1], 3); # 3 = lat, lon, elev"
   ]
  },
  {
   "cell_type": "code",
   "execution_count": 63,
   "metadata": {},
   "outputs": [],
   "source": [
    "# loop over rows that have float64.\n",
    "# Based on the documentation, these numbers are: lat, lon, elev, and other useless words\n",
    "for i = 1:size_df[1]\n",
    "    temp_array = collect(skipmissing(metadata[i, :]))[2:4]\n",
    "    meta_array[i, :] = [x isa Float64 ? x : parse(Float64, x) for x in temp_array]\n",
    "end"
   ]
  },
  {
   "cell_type": "code",
   "execution_count": 67,
   "metadata": {},
   "outputs": [],
   "source": [
    "metadata_clean = DataFrames.DataFrame(ID=metadata[:, 1], \n",
    "    lat=meta_array[:, 1], \n",
    "    lon=meta_array[:, 2], \n",
    "    elev=meta_array[:, 3]);"
   ]
  },
  {
   "cell_type": "code",
   "execution_count": 68,
   "metadata": {},
   "outputs": [
    {
     "data": {
      "text/html": [
       "<table class=\"data-frame\"><thead><tr><th></th><th>ID</th><th>lat</th><th>lon</th><th>elev</th></tr><tr><th></th><th>String</th><th>Float64</th><th>Float64</th><th>Float64</th></tr></thead><tbody><p>4 rows × 4 columns</p><tr><th>1</th><td>ACW00011604</td><td>17.1167</td><td>-61.7833</td><td>10.1</td></tr><tr><th>2</th><td>ACW00011647</td><td>17.1333</td><td>-61.7833</td><td>19.2</td></tr><tr><th>3</th><td>AE000041196</td><td>25.333</td><td>55.517</td><td>34.0</td></tr><tr><th>4</th><td>AEM00041194</td><td>25.255</td><td>55.364</td><td>10.4</td></tr></tbody></table>"
      ],
      "text/latex": [
       "\\begin{tabular}{r|cccc}\n",
       "\t& ID & lat & lon & elev\\\\\n",
       "\t\\hline\n",
       "\t& String & Float64 & Float64 & Float64\\\\\n",
       "\t\\hline\n",
       "\t1 & ACW00011604 & 17.1167 & -61.7833 & 10.1 \\\\\n",
       "\t2 & ACW00011647 & 17.1333 & -61.7833 & 19.2 \\\\\n",
       "\t3 & AE000041196 & 25.333 & 55.517 & 34.0 \\\\\n",
       "\t4 & AEM00041194 & 25.255 & 55.364 & 10.4 \\\\\n",
       "\\end{tabular}\n"
      ],
      "text/plain": [
       "4×4 DataFrames.DataFrame\n",
       "│ Row │ ID          │ lat     │ lon      │ elev    │\n",
       "│     │ \u001b[90mString\u001b[39m      │ \u001b[90mFloat64\u001b[39m │ \u001b[90mFloat64\u001b[39m  │ \u001b[90mFloat64\u001b[39m │\n",
       "├─────┼─────────────┼─────────┼──────────┼─────────┤\n",
       "│ 1   │ ACW00011604 │ 17.1167 │ -61.7833 │ 10.1    │\n",
       "│ 2   │ ACW00011647 │ 17.1333 │ -61.7833 │ 19.2    │\n",
       "│ 3   │ AE000041196 │ 25.333  │ 55.517   │ 34.0    │\n",
       "│ 4   │ AEM00041194 │ 25.255  │ 55.364   │ 10.4    │"
      ]
     },
     "execution_count": 68,
     "metadata": {},
     "output_type": "execute_result"
    }
   ],
   "source": [
    "metadata_clean[1:4, :]"
   ]
  },
  {
   "cell_type": "code",
   "execution_count": 69,
   "metadata": {},
   "outputs": [
    {
     "data": {
      "text/plain": [
       "\"/glade/u/home/ksha/WORKSPACE/JL_Collection/data/metadata_clean.csv\""
      ]
     },
     "execution_count": 69,
     "metadata": {},
     "output_type": "execute_result"
    }
   ],
   "source": [
    "# write into csv\n",
    "exportname = \"/glade/u/home/ksha/WORKSPACE/JL_Collection/data/metadata_clean.csv\"\n",
    "CSV.write(exportname, metadata_clean)"
   ]
  },
  {
   "cell_type": "code",
   "execution_count": null,
   "metadata": {},
   "outputs": [],
   "source": []
  }
 ],
 "metadata": {
  "kernelspec": {
   "display_name": "Julia 1.4.1",
   "language": "julia",
   "name": "julia-1.4"
  },
  "language_info": {
   "file_extension": ".jl",
   "mimetype": "application/julia",
   "name": "julia",
   "version": "1.4.1"
  }
 },
 "nbformat": 4,
 "nbformat_minor": 4
}
