{
 "cells": [
  {
   "cell_type": "markdown",
   "metadata": {},
   "source": [
    "# Dynamic Programming - Sequence Problems"
   ]
  },
  {
   "cell_type": "markdown",
   "metadata": {},
   "source": [
    "### Maximum Length of Repeated Subarray\n",
    "\n",
    "Given two integer arrays nums1 and nums2, return the maximum length of a subarray that appears in both arrays.\n",
    "\n",
    "Source: https://leetcode.com/problems/maximum-length-of-repeated-subarray/\n",
    "\n",
    "Example 1:\n",
    "\n",
    "```\n",
    "Input: nums1 = [1,2,3,2,1], nums2 = [3,2,1,4,7]\n",
    "Output: 3\n",
    "Explanation: The repeated subarray with maximum length is [3,2,1].\n",
    "```\n",
    "\n",
    "Example 2:\n",
    "\n",
    "```\n",
    "Input: nums1 = [0,0,0,0,0], nums2 = [0,0,0,0,0]\n",
    "Output: 5\n",
    "```"
   ]
  },
  {
   "cell_type": "code",
   "execution_count": 79,
   "metadata": {},
   "outputs": [],
   "source": [
    "class Solution:\n",
    "    def findLength(self, nums1, nums2):\n",
    "        '''\n",
    "        '''\n",
    "        \n",
    "        L1 = len(nums1)\n",
    "        L2 = len(nums2)\n",
    "        \n",
    "        count_repeat = []\n",
    "        temp_max = 0\n",
    "        \n",
    "        for i in range(L1+1):\n",
    "            count_repeat.append([])\n",
    "            for j in range(L2+1):\n",
    "                count_repeat[i].append(0)\n",
    "                \n",
    "        for i in range(1, L1+1):\n",
    "            for j in range(1, L2+1):\n",
    "                if nums1[i-1] == nums2[j-1]:\n",
    "                    count_repeat[i][j] = count_repeat[i-1][j-1] + 1\n",
    "                    temp_max = max(temp_max, count_repeat[i][j])\n",
    "        return temp_max\n",
    "                "
   ]
  },
  {
   "cell_type": "code",
   "execution_count": 80,
   "metadata": {},
   "outputs": [
    {
     "data": {
      "text/plain": [
       "5"
      ]
     },
     "execution_count": 80,
     "metadata": {},
     "output_type": "execute_result"
    }
   ],
   "source": [
    "solver = Solution()\n",
    "solver.findLength([0,0,0,0,0], [0,0,0,0,0,0])"
   ]
  },
  {
   "cell_type": "code",
   "execution_count": 81,
   "metadata": {},
   "outputs": [
    {
     "data": {
      "text/plain": [
       "3"
      ]
     },
     "execution_count": 81,
     "metadata": {},
     "output_type": "execute_result"
    }
   ],
   "source": [
    "solver = Solution()\n",
    "solver.findLength([1,2,3,2,1], [3,2,1,4,7])"
   ]
  },
  {
   "cell_type": "markdown",
   "metadata": {},
   "source": [
    "### Uncrossed Lines\n",
    "\n",
    "You are given two integer arrays nums1 and nums2. We write the integers of nums1 and nums2 (in the order they are given) on two separate horizontal lines.\n",
    "\n",
    "We may draw connecting lines: a straight line connecting two numbers nums1[i] and nums2[j] such that:\n",
    "\n",
    "* `nums1[i] == nums2[j]`, and\n",
    "* the line we draw does not intersect any other connecting (non-horizontal) line.\n",
    "\n",
    "Note that a connecting line cannot intersect even at the endpoints (i.e., each number can only belong to one connecting line).\n",
    "\n",
    "Return the maximum number of connecting lines we can draw in this way.\n",
    "\n",
    "Source: https://leetcode.com/problems/uncrossed-lines/\n",
    "\n",
    "Example 1:\n",
    "\n",
    "```\n",
    "Input: nums1 = [1,4,2], nums2 = [1,2,4]\n",
    "Output: 2\n",
    "Explanation: We can draw 2 uncrossed lines as in the diagram.\n",
    "We cannot draw 3 uncrossed lines, because the line from nums1[1] = 4 to nums2[2] = 4 will intersect the line from nums1[2]=2 to nums2[1]=2.\n",
    "```\n",
    "\n",
    "Example 2:\n",
    "\n",
    "```\n",
    "Input: nums1 = [2,5,1,2,5], nums2 = [10,5,2,1,5,2]\n",
    "Output: 3\n",
    "```\n",
    "\n",
    "Example 3:\n",
    "\n",
    "```\n",
    "Input: nums1 = [1,3,7,1,7,5], nums2 = [1,9,2,5,1]\n",
    "Output: 2\n",
    "```"
   ]
  },
  {
   "cell_type": "code",
   "execution_count": 49,
   "metadata": {},
   "outputs": [],
   "source": [
    "class Solution:\n",
    "    def maxUncrossedLines(self, nums1, nums2):\n",
    "        '''\n",
    "        '''\n",
    "        \n",
    "        L1 = len(nums1)\n",
    "        L2 = len(nums2)\n",
    "        \n",
    "        count_line = []\n",
    "        \n",
    "        for i in range(L1+1):\n",
    "            count_line.append([])\n",
    "            \n",
    "            for j in range(L2+1):\n",
    "                count_line[i].append(0)\n",
    "                \n",
    "        for i in range(1, L1+1):\n",
    "            for j in range(1, L2+1):\n",
    "                if nums1[i-1] == nums2[j-1]:\n",
    "                    count_line[i][j] = count_line[i-1][j-1]+1\n",
    "                else:\n",
    "                    count_line[i][j] = max(count_line[i-1][j], count_line[i][j-1])\n",
    "                    \n",
    "                \n",
    "        return count_line[-1][-1]\n",
    "                "
   ]
  },
  {
   "cell_type": "code",
   "execution_count": 50,
   "metadata": {},
   "outputs": [
    {
     "data": {
      "text/plain": [
       "2"
      ]
     },
     "execution_count": 50,
     "metadata": {},
     "output_type": "execute_result"
    }
   ],
   "source": [
    "solver = Solution()\n",
    "solver.maxUncrossedLines([1,4,2], [1,2,4])"
   ]
  },
  {
   "cell_type": "code",
   "execution_count": null,
   "metadata": {},
   "outputs": [],
   "source": []
  },
  {
   "cell_type": "markdown",
   "metadata": {},
   "source": [
    "### Longest Common Subsequence\n",
    "\n",
    "Given two strings text1 and text2, return the length of their longest common subsequence. If there is no common subsequence, return 0.\n",
    "\n",
    "A subsequence of a string is a new string generated from the original string with some characters (can be none) deleted without changing the relative order of the remaining characters.\n",
    "\n",
    "For example, \"ace\" is a subsequence of \"abcde\".\n",
    "A common subsequence of two strings is a subsequence that is common to both strings.\n",
    "\n",
    "Source: https://leetcode.com/problems/longest-common-subsequence/\n",
    "\n",
    "Example 1:\n",
    "\n",
    "```\n",
    "Input: text1 = \"abcde\", text2 = \"ace\" \n",
    "Output: 3  \n",
    "Explanation: The longest common subsequence is \"ace\" and its length is 3.\n",
    "```\n",
    "\n",
    "Example 2:\n",
    "\n",
    "```\n",
    "Input: text1 = \"abc\", text2 = \"abc\"\n",
    "Output: 3\n",
    "Explanation: The longest common subsequence is \"abc\" and its length is 3.\n",
    "```\n",
    "\n",
    "Example 3:\n",
    "\n",
    "```\n",
    "Input: text1 = \"abc\", text2 = \"def\"\n",
    "Output: 0\n",
    "Explanation: There is no such common subsequence, so the result is 0.\n",
    "```"
   ]
  },
  {
   "cell_type": "code",
   "execution_count": 60,
   "metadata": {},
   "outputs": [],
   "source": [
    "class Solution:\n",
    "    def longestCommonSubsequence(self, text1, text2):\n",
    "        '''\n",
    "        '''\n",
    "        \n",
    "        L1 = len(text1)\n",
    "        L2 = len(text2)\n",
    "        \n",
    "        count_seq = []\n",
    "        \n",
    "        for i in range(L1+1):\n",
    "            count_seq.append([])\n",
    "            for j in range(L2+1):\n",
    "                count_seq[i].append(0)\n",
    "                \n",
    "        for i in range(1, L1+1):\n",
    "            for j in range(1, L2+1):\n",
    "                if text1[i-1] == text2[j-1]:\n",
    "                    count_seq[i][j] = count_seq[i-1][j-1] + 1\n",
    "                else:\n",
    "                    count_seq[i][j] = max(count_seq[i][j-1], count_seq[i-1][j])\n",
    "                    \n",
    "        return count_seq\n",
    "                "
   ]
  },
  {
   "cell_type": "code",
   "execution_count": 61,
   "metadata": {},
   "outputs": [
    {
     "data": {
      "text/plain": [
       "[[0, 0, 0, 0],\n",
       " [0, 1, 1, 1],\n",
       " [0, 1, 1, 1],\n",
       " [0, 1, 2, 2],\n",
       " [0, 1, 2, 2],\n",
       " [0, 1, 2, 3]]"
      ]
     },
     "execution_count": 61,
     "metadata": {},
     "output_type": "execute_result"
    }
   ],
   "source": [
    "solver = Solution()\n",
    "solver.longestCommonSubsequence(\"abcde\", \"ace\")"
   ]
  },
  {
   "cell_type": "code",
   "execution_count": null,
   "metadata": {},
   "outputs": [],
   "source": []
  },
  {
   "cell_type": "markdown",
   "metadata": {},
   "source": [
    "### Longest Continuous Increasing Subsequence\n",
    "\n",
    "Given an unsorted array of integers nums, return the length of the longest continuous increasing subsequence (i.e. subarray). The subsequence must be strictly increasing.\n",
    "\n",
    "A continuous increasing subsequence is defined by two indices l and r (l < r) such that it is [nums[l], nums[l + 1], ..., nums[r - 1], nums[r]] and for each l <= i < r, nums[i] < nums[i + 1].\n",
    "\n",
    "Source: https://leetcode.com/problems/longest-continuous-increasing-subsequence/\n",
    "\n",
    "Example 1:\n",
    "\n",
    "```\n",
    "Input: nums = [1,3,5,4,7]\n",
    "Output: 3\n",
    "Explanation: The longest continuous increasing subsequence is [1,3,5] with length 3.\n",
    "Even though [1,3,5,7] is an increasing subsequence, it is not continuous as elements 5 and 7 are separated by element\n",
    "4.\n",
    "```\n",
    "\n",
    "Example 2:\n",
    "\n",
    "```\n",
    "Input: nums = [2,2,2,2,2]\n",
    "Output: 1\n",
    "Explanation: The longest continuous increasing subsequence is [2] with length 1. Note that it must be strictly\n",
    "increasing.\n",
    "```"
   ]
  },
  {
   "cell_type": "code",
   "execution_count": 92,
   "metadata": {},
   "outputs": [],
   "source": [
    "class Solution:\n",
    "    def findLengthOfLCIS(self, nums):\n",
    "        '''\n",
    "        '''\n",
    "        \n",
    "        L = len(nums)\n",
    "        \n",
    "        count_length = [1,]*(L)\n",
    "        temp_max = 1\n",
    "        for i in range(1, L):\n",
    "            if nums[i] > nums[i-1]:\n",
    "                count_length[i] = count_length[i-1]+1\n",
    "                temp_max = max(count_length[i], temp_max)\n",
    "            # !!! <--- no else\n",
    "            #else:\n",
    "                #count_length[i] = count_length[i+1]\n",
    "        return temp_max\n",
    "        \n",
    "        "
   ]
  },
  {
   "cell_type": "code",
   "execution_count": 93,
   "metadata": {},
   "outputs": [
    {
     "data": {
      "text/plain": [
       "3"
      ]
     },
     "execution_count": 93,
     "metadata": {},
     "output_type": "execute_result"
    }
   ],
   "source": [
    "solver = Solution()\n",
    "solver.findLengthOfLCIS([1,3,5,4,7])"
   ]
  },
  {
   "cell_type": "code",
   "execution_count": null,
   "metadata": {},
   "outputs": [],
   "source": []
  },
  {
   "cell_type": "markdown",
   "metadata": {},
   "source": [
    "**Longest Increasing Subsequence**\n",
    "\n",
    "Given an integer array nums, return the length of the longest strictly increasing subsequence.\n",
    "\n",
    "A subsequence is a sequence that can be derived from an array by deleting some or no elements without changing the order of the remaining elements. For example, [3,6,2,7] is a subsequence of the array [0,3,1,6,2,2,7].\n",
    "\n",
    "Source: https://leetcode-cn.com/problems/longest-increasing-subsequence/\n",
    "\n",
    "Example 1:\n",
    "\n",
    "```\n",
    "Input: nums = [10,9,2,5,3,7,101,18]\n",
    "Output: 4\n",
    "Explanation: The longest increasing subsequence is [2,3,7,101], therefore the length is 4.\n",
    "```\n",
    "\n",
    "Example 2:\n",
    "\n",
    "```\n",
    "Input: nums = [0,1,0,3,2,3]\n",
    "Output: 4\n",
    "```\n",
    "\n",
    "Example 3:\n",
    "\n",
    "```\n",
    "Input: nums = [7,7,7,7,7,7,7]\n",
    "Output: 1\n",
    "```"
   ]
  },
  {
   "cell_type": "code",
   "execution_count": 98,
   "metadata": {},
   "outputs": [],
   "source": [
    "class Solution:\n",
    "    def lengthOfLIS(self, nums):\n",
    "        '''\n",
    "        '''\n",
    "        \n",
    "        L = len(nums)\n",
    "        \n",
    "        count_ascend = [1,]*(L)\n",
    "        temp_max = 0\n",
    "        \n",
    "        for i in range(1, L):\n",
    "            if nums[i] > nums[i-1]:\n",
    "                count_ascend[i] = count_ascend[i-1] + 1\n",
    "                temp_max = max(temp_max, count_ascend[i])\n",
    "            else:\n",
    "                count_ascend[i] = count_ascend[i-1]\n",
    "            \n",
    "        return temp_max"
   ]
  },
  {
   "cell_type": "code",
   "execution_count": 99,
   "metadata": {},
   "outputs": [
    {
     "data": {
      "text/plain": [
       "4"
      ]
     },
     "execution_count": 99,
     "metadata": {},
     "output_type": "execute_result"
    }
   ],
   "source": [
    "solver = Solution()\n",
    "solver.lengthOfLIS([10,9,2,5,3,7,101,18])"
   ]
  },
  {
   "cell_type": "code",
   "execution_count": null,
   "metadata": {},
   "outputs": [],
   "source": []
  },
  {
   "cell_type": "markdown",
   "metadata": {},
   "source": [
    "### Shortest Common Supersequence\n",
    "\n",
    "Given two strings str1 and str2, return the shortest string that has both str1 and str2 as subsequences. If there are multiple valid strings, return any of them.\n",
    "\n",
    "A string s is a subsequence of string t if deleting some number of characters from t (possibly 0) results in the string s.\n",
    "\n",
    "Source: https://leetcode.com/problems/shortest-common-supersequence/\n",
    "\n",
    "Example 1:\n",
    "\n",
    "```\n",
    "Input: str1 = \"abac\", str2 = \"cab\"\n",
    "Output: \"cabac\"\n",
    "Explanation: \n",
    "str1 = \"abac\" is a subsequence of \"cabac\" because we can delete the first \"c\".\n",
    "str2 = \"cab\" is a subsequence of \"cabac\" because we can delete the last \"ac\".\n",
    "The answer provided is the shortest such string that satisfies these properties.\n",
    "```\n",
    "\n",
    "Example 2:\n",
    "\n",
    "```\n",
    "Input: str1 = \"aaaaaaaa\", str2 = \"aaaaaaaa\"\n",
    "Output: \"aaaaaaaa\"\n",
    "```"
   ]
  },
  {
   "cell_type": "code",
   "execution_count": 107,
   "metadata": {},
   "outputs": [],
   "source": [
    "class Solution:\n",
    "    def shortestCommonSupersequence(self, str1, str2):\n",
    "        '''\n",
    "        '''\n",
    "        \n",
    "        L1 = len(str1)\n",
    "        L2 = len(str2)\n",
    "        \n",
    "        SCS = []\n",
    "        for i in range(L1+1):\n",
    "            SCS.append([])\n",
    "            for j in range(L2+1):\n",
    "                SCS[i].append('')\n",
    "        \n",
    "        for i in range(1, L1+1):\n",
    "            SCS[i][0] = str1[:i]\n",
    "            \n",
    "        for j in range(1, L2+1):\n",
    "            SCS[0][j] = str2[:j]\n",
    "                \n",
    "        for i in range(1, L1+1):\n",
    "            for j in range(1, L2+1):\n",
    "                \n",
    "                if str1[i-1] == str2[j-1]:\n",
    "                    SCS[i][j] = SCS[i-1][j-1] + str1[i-1]\n",
    "                else:\n",
    "                    temp_L1 = len(SCS[i-1][j])\n",
    "                    temp_L2 = len(SCS[i][j-1])\n",
    "                    if temp_L1 > temp_L2:\n",
    "                        SCS[i][j] = SCS[i][j-1] + str1[i-1]\n",
    "                    else:\n",
    "                        SCS[i][j] = SCS[i-1][j] + str1[i-1]\n",
    "                        \n",
    "        return SCS[-1][-1]\n",
    "                \n",
    "            \n",
    "        \n",
    "        "
   ]
  },
  {
   "cell_type": "code",
   "execution_count": 108,
   "metadata": {},
   "outputs": [
    {
     "data": {
      "text/plain": [
       "[['', 'c', 'ca', 'cab'],\n",
       " ['a', 'ca', 'ca', 'caa'],\n",
       " ['ab', 'cab', 'cab', 'cab'],\n",
       " ['aba', 'caba', 'caba', 'caba'],\n",
       " ['abac', 'abac', 'cabac', 'cabac']]"
      ]
     },
     "execution_count": 108,
     "metadata": {},
     "output_type": "execute_result"
    }
   ],
   "source": [
    "solver = Solution()\n",
    "solver.shortestCommonSupersequence(\"abac\", \"cab\")"
   ]
  },
  {
   "cell_type": "code",
   "execution_count": null,
   "metadata": {},
   "outputs": [],
   "source": []
  },
  {
   "cell_type": "code",
   "execution_count": null,
   "metadata": {},
   "outputs": [],
   "source": []
  },
  {
   "cell_type": "code",
   "execution_count": null,
   "metadata": {},
   "outputs": [],
   "source": []
  }
 ],
 "metadata": {
  "kernelspec": {
   "display_name": "Python 3",
   "language": "python",
   "name": "python3"
  },
  "language_info": {
   "codemirror_mode": {
    "name": "ipython",
    "version": 3
   },
   "file_extension": ".py",
   "mimetype": "text/x-python",
   "name": "python",
   "nbconvert_exporter": "python",
   "pygments_lexer": "ipython3",
   "version": "3.6.8"
  }
 },
 "nbformat": 4,
 "nbformat_minor": 4
}
