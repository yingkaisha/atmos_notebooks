{
 "cells": [
  {
   "cell_type": "code",
   "execution_count": null,
   "metadata": {},
   "outputs": [],
   "source": []
  },
  {
   "cell_type": "markdown",
   "metadata": {},
   "source": [
    "### Fibonacci"
   ]
  },
  {
   "cell_type": "code",
   "execution_count": 1,
   "metadata": {},
   "outputs": [],
   "source": [
    "def Fibonacci(n):\n",
    "    '''\n",
    "    '''\n",
    "    \n",
    "    f1 = 0\n",
    "    f2 = 1\n",
    "    \n",
    "    if n == 0: \n",
    "        return f1\n",
    "    if n == 1: \n",
    "        return f2\n",
    "    \n",
    "    for _ in range(n-1):\n",
    "        \n",
    "        f2, f1 = f2+f1, f2\n",
    "        \n",
    "    return f2"
   ]
  },
  {
   "cell_type": "markdown",
   "metadata": {},
   "source": [
    "### Step jump quest"
   ]
  },
  {
   "cell_type": "markdown",
   "metadata": {},
   "source": [
    "一只青蛙一次可以跳上1级台阶，也可以跳上2级。求该青蛙跳上一个n级的台阶总共有多少种跳法（先后次序不同算不同的结果）。"
   ]
  },
  {
   "cell_type": "code",
   "execution_count": 7,
   "metadata": {},
   "outputs": [],
   "source": [
    "def jump(n):\n",
    "    '''\n",
    "    '''\n",
    "    f1 = 1\n",
    "    f2 = 2\n",
    "    \n",
    "    if n == 0:\n",
    "        return 0\n",
    "    if n == 1:\n",
    "        return f0\n",
    "    if n == 2:\n",
    "        return f1\n",
    "    \n",
    "    for _ in range(n-2):\n",
    "        f2, f1 = f2+f1, f2\n",
    "        \n",
    "    return f2"
   ]
  },
  {
   "cell_type": "code",
   "execution_count": 8,
   "metadata": {},
   "outputs": [
    {
     "data": {
      "text/plain": [
       "5"
      ]
     },
     "execution_count": 8,
     "metadata": {},
     "output_type": "execute_result"
    }
   ],
   "source": [
    "jump(4)"
   ]
  },
  {
   "cell_type": "markdown",
   "metadata": {},
   "source": [
    "### Generalized jump quest"
   ]
  },
  {
   "cell_type": "markdown",
   "metadata": {},
   "source": [
    "一只青蛙一次可以跳上1级台阶，也可以跳上2级……它也可以跳上n级。求该青蛙跳上一个n级的台阶总共有多少种跳法。"
   ]
  },
  {
   "cell_type": "code",
   "execution_count": 9,
   "metadata": {},
   "outputs": [],
   "source": [
    "def jump_mutant(n):\n",
    "    # write code here\n",
    "    f1 = 1\n",
    "    \n",
    "    if n == 0:\n",
    "        return 0\n",
    "    \n",
    "    if n == 1: \n",
    "        return f1\n",
    "    \n",
    "    for _ in range(n-1):\n",
    "        f1 = 2*f1\n",
    "    return f1"
   ]
  },
  {
   "cell_type": "markdown",
   "metadata": {},
   "source": [
    "f(n+1) = f(1) + f(2) + ... + f(n)\n",
    "\n",
    "f(n+2) = f(1) + f(2) + ... + f(n) + f(n+1)\n",
    "\n",
    "       = 2*f(n+1)"
   ]
  },
  {
   "cell_type": "markdown",
   "metadata": {},
   "source": [
    "### Jump with cost\n",
    "\n",
    "You are given an integer array cost where cost[i] is the cost of ith step on a staircase. Once you pay the cost, you can either climb one or two steps.\n",
    "\n",
    "You can either start from the step with index 0, or the step with index 1.\n",
    "\n",
    "Return the minimum cost to reach the top of the floor.\n",
    "\n",
    " \n",
    "\n",
    "Example 1:\n",
    "```\n",
    "Input: cost = [10,15,20]\n",
    "Output: 15\n",
    "Explanation: Cheapest is: start on cost[1], pay that cost, and go to the top.\n",
    "```\n",
    "\n",
    "Example 2:\n",
    "\n",
    "```\n",
    "Input: cost = [1,100,1,1,1,100,1,1,100,1]\n",
    "Output: 6\n",
    "Explanation: Cheapest is: start on cost[0], and only step on 1s, skipping cost[3].\n",
    "```"
   ]
  },
  {
   "cell_type": "code",
   "execution_count": 16,
   "metadata": {},
   "outputs": [],
   "source": [
    "def jump_cost(list_cost):\n",
    "    '''\n",
    "    '''\n",
    "    \n",
    "    # no stairs no cost\n",
    "    list_cost = [0,] + list_cost\n",
    "    \n",
    "    L = len(list_cost)\n",
    "    \n",
    "    cost_accum = [999,]*L\n",
    "    cost_accum[0] = list_cost[0]\n",
    "    cost_accum[1] = list_cost[1]\n",
    "    \n",
    "    for i in range(2, L):\n",
    "        cost_accum[i] = min(cost_accum[i-2]+list_cost[i-1], cost_accum[i-1]+list_cost[i])\n",
    "        # cost_accum[i-2]+list_cost[i-1] : cost spend to i-1 (skip i)\n",
    "        # cost_accum[i-1]+list_cost[i]   : cost spend to i\n",
    "    return cost_accum"
   ]
  },
  {
   "cell_type": "code",
   "execution_count": 17,
   "metadata": {},
   "outputs": [],
   "source": [
    "cost = [1,100,1,1,1,100,1,1,100,1]"
   ]
  },
  {
   "cell_type": "code",
   "execution_count": 18,
   "metadata": {},
   "outputs": [
    {
     "data": {
      "text/plain": [
       "[0, 1, 1, 2, 2, 3, 3, 4, 4, 5, 6]"
      ]
     },
     "execution_count": 18,
     "metadata": {},
     "output_type": "execute_result"
    }
   ],
   "source": [
    "jump_cost(cost)"
   ]
  },
  {
   "cell_type": "code",
   "execution_count": null,
   "metadata": {},
   "outputs": [],
   "source": []
  },
  {
   "cell_type": "code",
   "execution_count": null,
   "metadata": {},
   "outputs": [],
   "source": []
  }
 ],
 "metadata": {
  "kernelspec": {
   "display_name": "Python 3",
   "language": "python",
   "name": "python3"
  },
  "language_info": {
   "codemirror_mode": {
    "name": "ipython",
    "version": 3
   },
   "file_extension": ".py",
   "mimetype": "text/x-python",
   "name": "python",
   "nbconvert_exporter": "python",
   "pygments_lexer": "ipython3",
   "version": "3.6.8"
  }
 },
 "nbformat": 4,
 "nbformat_minor": 4
}
